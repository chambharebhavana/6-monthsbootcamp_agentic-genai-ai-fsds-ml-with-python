{
 "cells": [
  {
   "cell_type": "code",
   "execution_count": 1,
   "id": "c79bc8a0-3e7b-443d-b91f-804ea9463898",
   "metadata": {},
   "outputs": [],
   "source": [
    "import numpy as np"
   ]
  },
  {
   "cell_type": "code",
   "execution_count": 3,
   "id": "9a449118-b13a-4fae-8b8f-3d573a0640d9",
   "metadata": {},
   "outputs": [
    {
     "data": {
      "text/plain": [
       "'2.1.3'"
      ]
     },
     "execution_count": 3,
     "metadata": {},
     "output_type": "execute_result"
    }
   ],
   "source": [
    "np.__version__"
   ]
  },
  {
   "cell_type": "code",
   "execution_count": 4,
   "id": "86d15d6d-41be-401e-8151-30715535aec8",
   "metadata": {},
   "outputs": [
    {
     "data": {
      "text/plain": [
       "[0, 1, 2, 3, 4, 5]"
      ]
     },
     "execution_count": 4,
     "metadata": {},
     "output_type": "execute_result"
    }
   ],
   "source": [
    "my_list = [0,1,2,3,4,5]\n",
    "my_list"
   ]
  },
  {
   "cell_type": "code",
   "execution_count": 5,
   "id": "6cdff316-bd91-431f-ac45-78789ae60b01",
   "metadata": {},
   "outputs": [
    {
     "data": {
      "text/plain": [
       "list"
      ]
     },
     "execution_count": 5,
     "metadata": {},
     "output_type": "execute_result"
    }
   ],
   "source": [
    "type(my_list)"
   ]
  },
  {
   "cell_type": "code",
   "execution_count": 7,
   "id": "6bfdd963-4741-4c43-9dfb-173ee05aac8e",
   "metadata": {},
   "outputs": [
    {
     "data": {
      "text/plain": [
       "array([0, 1, 2, 3, 4, 5])"
      ]
     },
     "execution_count": 7,
     "metadata": {},
     "output_type": "execute_result"
    }
   ],
   "source": [
    "arr = np.array(my_list)\n",
    "arr"
   ]
  },
  {
   "cell_type": "code",
   "execution_count": 9,
   "id": "321b1209-d4e2-4617-9034-73ca78d6f082",
   "metadata": {},
   "outputs": [
    {
     "name": "stdout",
     "output_type": "stream",
     "text": [
      "<class 'numpy.ndarray'>\n"
     ]
    }
   ],
   "source": [
    "print(type(arr)) #nd means multidimensional"
   ]
  },
  {
   "cell_type": "code",
   "execution_count": null,
   "id": "bd99028a-c455-4936-ae18-9bd43342e0ac",
   "metadata": {},
   "outputs": [],
   "source": [
    "# in list we can store multiple datatyes "
   ]
  },
  {
   "cell_type": "markdown",
   "id": "4f1acdee-c037-4457-a059-b3c167a17b33",
   "metadata": {},
   "source": [
    "## arange"
   ]
  },
  {
   "cell_type": "code",
   "execution_count": 10,
   "id": "ca97c927-6699-4740-b4cf-7268e7d1ad06",
   "metadata": {},
   "outputs": [
    {
     "data": {
      "text/plain": [
       "array([0, 1, 2, 3, 4, 5, 6, 7, 8, 9])"
      ]
     },
     "execution_count": 10,
     "metadata": {},
     "output_type": "execute_result"
    }
   ],
   "source": [
    "np.arange(10)"
   ]
  },
  {
   "cell_type": "code",
   "execution_count": 11,
   "id": "0d88bc9f-cd59-4db2-879d-1e46c9db22af",
   "metadata": {},
   "outputs": [
    {
     "data": {
      "text/plain": [
       "array([10, 11, 12, 13, 14, 15, 16, 17, 18, 19])"
      ]
     },
     "execution_count": 11,
     "metadata": {},
     "output_type": "execute_result"
    }
   ],
   "source": [
    "np.arange(10,20)"
   ]
  },
  {
   "cell_type": "code",
   "execution_count": 13,
   "id": "b03ba44b-a219-49d5-b8db-1ea30202baf2",
   "metadata": {},
   "outputs": [
    {
     "data": {
      "text/plain": [
       "array([10, 15, 20, 25, 30, 35, 40, 45])"
      ]
     },
     "execution_count": 13,
     "metadata": {},
     "output_type": "execute_result"
    }
   ],
   "source": [
    "np.arange(10,50,5)"
   ]
  },
  {
   "cell_type": "code",
   "execution_count": 14,
   "id": "a566edea-83d7-4f7d-a5ab-a0ddd7b459a2",
   "metadata": {},
   "outputs": [
    {
     "data": {
      "text/plain": [
       "array([], dtype=int64)"
      ]
     },
     "execution_count": 14,
     "metadata": {},
     "output_type": "execute_result"
    }
   ],
   "source": [
    "np.arange(20,10) # 1st arg is always less than 2nd arg"
   ]
  },
  {
   "cell_type": "code",
   "execution_count": 15,
   "id": "40524b36-d10b-4803-a0ee-29d861a183fb",
   "metadata": {},
   "outputs": [
    {
     "data": {
      "text/plain": [
       "array([-20, -19, -18, -17, -16, -15, -14, -13, -12, -11, -10,  -9,  -8,\n",
       "        -7,  -6,  -5,  -4,  -3,  -2,  -1,   0,   1,   2,   3,   4,   5,\n",
       "         6,   7,   8,   9])"
      ]
     },
     "execution_count": 15,
     "metadata": {},
     "output_type": "execute_result"
    }
   ],
   "source": [
    "np.arange(-20,10) "
   ]
  },
  {
   "cell_type": "markdown",
   "id": "4781a93e-f187-4dd1-b476-b0197c6b899d",
   "metadata": {},
   "source": [
    "## zeros"
   ]
  },
  {
   "cell_type": "code",
   "execution_count": 16,
   "id": "94c63c4d-047a-48c1-919b-dc311522d819",
   "metadata": {},
   "outputs": [
    {
     "data": {
      "text/plain": [
       "array([0., 0., 0., 0., 0.])"
      ]
     },
     "execution_count": 16,
     "metadata": {},
     "output_type": "execute_result"
    }
   ],
   "source": [
    "np.zeros(5)"
   ]
  },
  {
   "cell_type": "code",
   "execution_count": 18,
   "id": "45e72972-4abf-49a3-a3b7-1432bb730fce",
   "metadata": {},
   "outputs": [
    {
     "data": {
      "text/plain": [
       "array([0, 0, 0, 0, 0])"
      ]
     },
     "execution_count": 18,
     "metadata": {},
     "output_type": "execute_result"
    }
   ],
   "source": [
    "np.zeros(5,dtype=int)  # hyperparameter tuningdtype=float  1d array"
   ]
  },
  {
   "cell_type": "code",
   "execution_count": 21,
   "id": "8ead4822-8f2a-45ec-8af0-cde7b2435b25",
   "metadata": {},
   "outputs": [
    {
     "data": {
      "text/plain": [
       "array([[0., 0., 0., 0.],\n",
       "       [0., 0., 0., 0.],\n",
       "       [0., 0., 0., 0.],\n",
       "       [0., 0., 0., 0.],\n",
       "       [0., 0., 0., 0.]])"
      ]
     },
     "execution_count": 21,
     "metadata": {},
     "output_type": "execute_result"
    }
   ],
   "source": [
    "np.zeros([5,4])  #nd arrray"
   ]
  },
  {
   "cell_type": "code",
   "execution_count": 22,
   "id": "69c4a5f5-4867-47c0-8059-33cfc568fce6",
   "metadata": {},
   "outputs": [
    {
     "data": {
      "text/plain": [
       "array([[0, 0, 0, 0, 0, 0, 0, 0, 0, 0],\n",
       "       [0, 0, 0, 0, 0, 0, 0, 0, 0, 0],\n",
       "       [0, 0, 0, 0, 0, 0, 0, 0, 0, 0],\n",
       "       [0, 0, 0, 0, 0, 0, 0, 0, 0, 0],\n",
       "       [0, 0, 0, 0, 0, 0, 0, 0, 0, 0],\n",
       "       [0, 0, 0, 0, 0, 0, 0, 0, 0, 0],\n",
       "       [0, 0, 0, 0, 0, 0, 0, 0, 0, 0],\n",
       "       [0, 0, 0, 0, 0, 0, 0, 0, 0, 0],\n",
       "       [0, 0, 0, 0, 0, 0, 0, 0, 0, 0],\n",
       "       [0, 0, 0, 0, 0, 0, 0, 0, 0, 0]])"
      ]
     },
     "execution_count": 22,
     "metadata": {},
     "output_type": "execute_result"
    }
   ],
   "source": [
    "np.zeros([10,10], dtype = int)"
   ]
  },
  {
   "cell_type": "markdown",
   "id": "f9f338b4-0cf6-47af-8908-bef2b6d61e5b",
   "metadata": {},
   "source": [
    "## ones"
   ]
  },
  {
   "cell_type": "code",
   "execution_count": 23,
   "id": "ed46b071-2de7-4f13-9749-b8dd05bb377c",
   "metadata": {},
   "outputs": [
    {
     "data": {
      "text/plain": [
       "array([1., 1.])"
      ]
     },
     "execution_count": 23,
     "metadata": {},
     "output_type": "execute_result"
    }
   ],
   "source": [
    "np.ones(2)"
   ]
  },
  {
   "cell_type": "code",
   "execution_count": 24,
   "id": "3bc95365-b41c-45b2-a751-a693ab95b7b6",
   "metadata": {},
   "outputs": [
    {
     "data": {
      "text/plain": [
       "array([1, 1])"
      ]
     },
     "execution_count": 24,
     "metadata": {},
     "output_type": "execute_result"
    }
   ],
   "source": [
    "np.ones(2,dtype = int)"
   ]
  },
  {
   "cell_type": "code",
   "execution_count": 25,
   "id": "e198f578-4dff-4265-9ba5-1955a64a1631",
   "metadata": {},
   "outputs": [
    {
     "data": {
      "text/plain": [
       "array([[1., 1.],\n",
       "       [1., 1.]])"
      ]
     },
     "execution_count": 25,
     "metadata": {},
     "output_type": "execute_result"
    }
   ],
   "source": [
    "np.ones([2,2])"
   ]
  },
  {
   "cell_type": "code",
   "execution_count": 26,
   "id": "feb5e308-9683-4091-9f8f-31d93a0fdfd9",
   "metadata": {},
   "outputs": [
    {
     "data": {
      "text/plain": [
       "array([[1., 1., 1., 1., 1.],\n",
       "       [1., 1., 1., 1., 1.],\n",
       "       [1., 1., 1., 1., 1.],\n",
       "       [1., 1., 1., 1., 1.]])"
      ]
     },
     "execution_count": 26,
     "metadata": {},
     "output_type": "execute_result"
    }
   ],
   "source": [
    "np.ones([4,5])"
   ]
  },
  {
   "cell_type": "code",
   "execution_count": 27,
   "id": "6ce6209f-5675-42a4-b44c-e80a2f4b4a0a",
   "metadata": {},
   "outputs": [
    {
     "data": {
      "text/plain": [
       "array([0, 1, 2, 3, 4, 5])"
      ]
     },
     "execution_count": 27,
     "metadata": {},
     "output_type": "execute_result"
    }
   ],
   "source": [
    "arr"
   ]
  },
  {
   "cell_type": "markdown",
   "id": "eb93c252-fd4b-4dea-b73f-5ccf81902eea",
   "metadata": {},
   "source": [
    "## random"
   ]
  },
  {
   "cell_type": "code",
   "execution_count": 28,
   "id": "7b98de01-e83c-4353-8839-d44d2166f8b4",
   "metadata": {},
   "outputs": [
    {
     "ename": "NameError",
     "evalue": "name 'rand' is not defined",
     "output_type": "error",
     "traceback": [
      "\u001b[1;31m---------------------------------------------------------------------------\u001b[0m",
      "\u001b[1;31mNameError\u001b[0m                                 Traceback (most recent call last)",
      "Cell \u001b[1;32mIn[28], line 1\u001b[0m\n\u001b[1;32m----> 1\u001b[0m rand(\u001b[38;5;241m3\u001b[39m,\u001b[38;5;241m2\u001b[39m)\n",
      "\u001b[1;31mNameError\u001b[0m: name 'rand' is not defined"
     ]
    }
   ],
   "source": [
    "rand(3,2)"
   ]
  },
  {
   "cell_type": "code",
   "execution_count": 29,
   "id": "8af822aa-8d7d-4e67-b78b-6a41088b2296",
   "metadata": {},
   "outputs": [
    {
     "data": {
      "text/plain": [
       "array([[0.60072874, 0.63528183],\n",
       "       [0.90967228, 0.11323451],\n",
       "       [0.29876414, 0.87553764]])"
      ]
     },
     "execution_count": 29,
     "metadata": {},
     "output_type": "execute_result"
    }
   ],
   "source": [
    "np.random.rand(3,2)"
   ]
  },
  {
   "cell_type": "code",
   "execution_count": 30,
   "id": "50a8d5aa-3f8a-4b85-87b1-2b054d43a736",
   "metadata": {},
   "outputs": [
    {
     "data": {
      "text/plain": [
       "array([[0.71331067, 0.51800986],\n",
       "       [0.03549071, 0.17991005],\n",
       "       [0.40214139, 0.4874373 ]])"
      ]
     },
     "execution_count": 30,
     "metadata": {},
     "output_type": "execute_result"
    }
   ],
   "source": [
    "np.random.rand(3,2)"
   ]
  },
  {
   "cell_type": "code",
   "execution_count": 31,
   "id": "880968f7-46a2-42fa-9b26-5838c7d9d741",
   "metadata": {},
   "outputs": [
    {
     "data": {
      "text/plain": [
       "array([[0.21957654, 0.02044881],\n",
       "       [0.53934978, 0.86383317],\n",
       "       [0.85758542, 0.11553317]])"
      ]
     },
     "execution_count": 31,
     "metadata": {},
     "output_type": "execute_result"
    }
   ],
   "source": [
    "np.random.rand(3,2)"
   ]
  },
  {
   "cell_type": "code",
   "execution_count": 32,
   "id": "a4a7bd63-5d4d-40d1-99be-00712c5a55d3",
   "metadata": {},
   "outputs": [
    {
     "data": {
      "text/plain": [
       "array([0.69239488, 0.26360579, 0.49440015])"
      ]
     },
     "execution_count": 32,
     "metadata": {},
     "output_type": "execute_result"
    }
   ],
   "source": [
    "np.random.rand(3)"
   ]
  },
  {
   "cell_type": "code",
   "execution_count": 33,
   "id": "9f1ae406-7b37-473e-aa3a-b4da38e1c0c0",
   "metadata": {},
   "outputs": [
    {
     "data": {
      "text/plain": [
       "4"
      ]
     },
     "execution_count": 33,
     "metadata": {},
     "output_type": "execute_result"
    }
   ],
   "source": [
    "np.random.randint(4,6)"
   ]
  },
  {
   "cell_type": "code",
   "execution_count": 36,
   "id": "9b3b71fd-f8e7-4877-9726-13ada5243bf3",
   "metadata": {},
   "outputs": [
    {
     "data": {
      "text/plain": [
       "7"
      ]
     },
     "execution_count": 36,
     "metadata": {},
     "output_type": "execute_result"
    }
   ],
   "source": [
    "np.random.randint(0,10)"
   ]
  },
  {
   "cell_type": "code",
   "execution_count": 39,
   "id": "63be268a-fcb1-4cba-ba99-b68b18fde7a0",
   "metadata": {},
   "outputs": [
    {
     "data": {
      "text/plain": [
       "array([4, 3, 5, 2, 1], dtype=int32)"
      ]
     },
     "execution_count": 39,
     "metadata": {},
     "output_type": "execute_result"
    }
   ],
   "source": [
    "np.random.randint(0,10,5)"
   ]
  },
  {
   "cell_type": "code",
   "execution_count": 42,
   "id": "b8b56b7d-f694-416d-a18a-468de9e2cc71",
   "metadata": {},
   "outputs": [
    {
     "data": {
      "text/plain": [
       "array([[31, 11, 12, 38, 20, 27, 37, 31, 18, 16],\n",
       "       [17, 32, 16, 36, 10, 29, 39, 10, 39, 18],\n",
       "       [29, 15, 26, 26, 25, 22, 21, 38, 27, 26],\n",
       "       [28, 38, 25, 35, 39, 20, 11, 20, 11, 37],\n",
       "       [28, 25, 16, 39, 39, 20, 28, 20, 20, 33],\n",
       "       [29, 27, 19, 36, 15, 28, 21, 32, 36, 28],\n",
       "       [23, 11, 27, 28, 12, 21, 14, 12, 34, 19],\n",
       "       [11, 15, 15, 18, 13, 21, 20, 36, 23, 32]], dtype=int32)"
      ]
     },
     "execution_count": 42,
     "metadata": {},
     "output_type": "execute_result"
    }
   ],
   "source": [
    "n= np.random.randint(10,40,(8,10))\n",
    "n"
   ]
  },
  {
   "cell_type": "code",
   "execution_count": 43,
   "id": "d2970dcd-13a9-4592-9cb6-5cae7cdc096a",
   "metadata": {},
   "outputs": [
    {
     "data": {
      "text/plain": [
       "array([[38, 14, 32, 18, 15, 32, 30, 21, 12, 15],\n",
       "       [23, 26, 19, 12, 36, 25, 16, 22, 26, 20],\n",
       "       [19, 38, 21, 37, 38, 31, 18, 12, 29, 21],\n",
       "       [33, 10, 36, 24, 28, 30, 18, 31, 23, 33],\n",
       "       [28, 16, 30, 26, 17, 32, 25, 36, 21, 11],\n",
       "       [26, 12, 28, 36, 32, 29, 21, 22, 23, 28],\n",
       "       [26, 29, 31, 27, 24, 31, 21, 34, 19, 22],\n",
       "       [33, 33, 39, 24, 11, 16, 22, 15, 25, 23],\n",
       "       [39, 19, 24, 39, 24, 35, 22, 13, 25, 35],\n",
       "       [38, 33, 25, 29, 38, 12, 14, 19, 30, 20]], dtype=int32)"
      ]
     },
     "execution_count": 43,
     "metadata": {},
     "output_type": "execute_result"
    }
   ],
   "source": [
    "n= np.random.randint(10,40,(10,10))\n",
    "n"
   ]
  },
  {
   "cell_type": "code",
   "execution_count": 44,
   "id": "866cf5e6-a302-4233-bdce-feb8aaf90961",
   "metadata": {},
   "outputs": [
    {
     "data": {
      "text/plain": [
       "array([38, 14, 32, 18, 15, 32, 30, 21, 12, 15], dtype=int32)"
      ]
     },
     "execution_count": 44,
     "metadata": {},
     "output_type": "execute_result"
    }
   ],
   "source": [
    "n[0]"
   ]
  },
  {
   "cell_type": "code",
   "execution_count": 45,
   "id": "f879e611-4061-4b64-b51f-77681e57130e",
   "metadata": {},
   "outputs": [
    {
     "data": {
      "text/plain": [
       "array([26, 29, 31, 27, 24, 31, 21, 34, 19, 22], dtype=int32)"
      ]
     },
     "execution_count": 45,
     "metadata": {},
     "output_type": "execute_result"
    }
   ],
   "source": [
    "n[6]"
   ]
  },
  {
   "cell_type": "code",
   "execution_count": 46,
   "id": "7c3d70ae-9452-4310-a429-c2458f61e179",
   "metadata": {},
   "outputs": [
    {
     "data": {
      "text/plain": [
       "array([[38, 14, 32, 18, 15, 32, 30, 21, 12, 15],\n",
       "       [23, 26, 19, 12, 36, 25, 16, 22, 26, 20],\n",
       "       [19, 38, 21, 37, 38, 31, 18, 12, 29, 21],\n",
       "       [33, 10, 36, 24, 28, 30, 18, 31, 23, 33],\n",
       "       [28, 16, 30, 26, 17, 32, 25, 36, 21, 11],\n",
       "       [26, 12, 28, 36, 32, 29, 21, 22, 23, 28]], dtype=int32)"
      ]
     },
     "execution_count": 46,
     "metadata": {},
     "output_type": "execute_result"
    }
   ],
   "source": [
    "n[0:6]"
   ]
  },
  {
   "cell_type": "code",
   "execution_count": 47,
   "id": "1a586f5e-e424-45e9-8220-35eca755930f",
   "metadata": {},
   "outputs": [
    {
     "data": {
      "text/plain": [
       "array([[38, 33, 25, 29, 38, 12, 14, 19, 30, 20],\n",
       "       [39, 19, 24, 39, 24, 35, 22, 13, 25, 35],\n",
       "       [33, 33, 39, 24, 11, 16, 22, 15, 25, 23],\n",
       "       [26, 29, 31, 27, 24, 31, 21, 34, 19, 22],\n",
       "       [26, 12, 28, 36, 32, 29, 21, 22, 23, 28],\n",
       "       [28, 16, 30, 26, 17, 32, 25, 36, 21, 11],\n",
       "       [33, 10, 36, 24, 28, 30, 18, 31, 23, 33],\n",
       "       [19, 38, 21, 37, 38, 31, 18, 12, 29, 21],\n",
       "       [23, 26, 19, 12, 36, 25, 16, 22, 26, 20],\n",
       "       [38, 14, 32, 18, 15, 32, 30, 21, 12, 15]], dtype=int32)"
      ]
     },
     "execution_count": 47,
     "metadata": {},
     "output_type": "execute_result"
    }
   ],
   "source": [
    "n[::-1]"
   ]
  },
  {
   "cell_type": "code",
   "execution_count": 48,
   "id": "9f2f975d-7545-48c7-be60-32f7ee123007",
   "metadata": {},
   "outputs": [
    {
     "data": {
      "text/plain": [
       "array([[38, 14, 32, 18, 15, 32, 30, 21, 12, 15],\n",
       "       [23, 26, 19, 12, 36, 25, 16, 22, 26, 20],\n",
       "       [19, 38, 21, 37, 38, 31, 18, 12, 29, 21],\n",
       "       [33, 10, 36, 24, 28, 30, 18, 31, 23, 33],\n",
       "       [28, 16, 30, 26, 17, 32, 25, 36, 21, 11],\n",
       "       [26, 12, 28, 36, 32, 29, 21, 22, 23, 28],\n",
       "       [26, 29, 31, 27, 24, 31, 21, 34, 19, 22],\n",
       "       [33, 33, 39, 24, 11, 16, 22, 15, 25, 23],\n",
       "       [39, 19, 24, 39, 24, 35, 22, 13, 25, 35],\n",
       "       [38, 33, 25, 29, 38, 12, 14, 19, 30, 20]], dtype=int32)"
      ]
     },
     "execution_count": 48,
     "metadata": {},
     "output_type": "execute_result"
    }
   ],
   "source": [
    "n[::1]"
   ]
  },
  {
   "cell_type": "code",
   "execution_count": 49,
   "id": "a2e44a7c-5099-4e8c-99a3-91235d244c2f",
   "metadata": {},
   "outputs": [
    {
     "data": {
      "text/plain": [
       "array([[38, 14, 32, 18, 15, 32, 30, 21, 12, 15],\n",
       "       [19, 38, 21, 37, 38, 31, 18, 12, 29, 21],\n",
       "       [28, 16, 30, 26, 17, 32, 25, 36, 21, 11],\n",
       "       [26, 29, 31, 27, 24, 31, 21, 34, 19, 22],\n",
       "       [39, 19, 24, 39, 24, 35, 22, 13, 25, 35]], dtype=int32)"
      ]
     },
     "execution_count": 49,
     "metadata": {},
     "output_type": "execute_result"
    }
   ],
   "source": [
    "n[::2]"
   ]
  },
  {
   "cell_type": "code",
   "execution_count": 50,
   "id": "dbf2101a-0302-4fdc-8453-8a6d562be853",
   "metadata": {},
   "outputs": [
    {
     "data": {
      "text/plain": [
       "array([[38, 14, 32, 18, 15, 32, 30, 21, 12, 15],\n",
       "       [23, 26, 19, 12, 36, 25, 16, 22, 26, 20],\n",
       "       [19, 38, 21, 37, 38, 31, 18, 12, 29, 21],\n",
       "       [33, 10, 36, 24, 28, 30, 18, 31, 23, 33],\n",
       "       [28, 16, 30, 26, 17, 32, 25, 36, 21, 11],\n",
       "       [26, 12, 28, 36, 32, 29, 21, 22, 23, 28],\n",
       "       [26, 29, 31, 27, 24, 31, 21, 34, 19, 22],\n",
       "       [33, 33, 39, 24, 11, 16, 22, 15, 25, 23],\n",
       "       [39, 19, 24, 39, 24, 35, 22, 13, 25, 35],\n",
       "       [38, 33, 25, 29, 38, 12, 14, 19, 30, 20]], dtype=int32)"
      ]
     },
     "execution_count": 50,
     "metadata": {},
     "output_type": "execute_result"
    }
   ],
   "source": [
    "n"
   ]
  },
  {
   "cell_type": "code",
   "execution_count": 51,
   "id": "84309050-484a-4660-a0a9-0b95f5d7b16a",
   "metadata": {},
   "outputs": [
    {
     "data": {
      "text/plain": [
       "np.int32(32)"
      ]
     },
     "execution_count": 51,
     "metadata": {},
     "output_type": "execute_result"
    }
   ],
   "source": [
    "n[0,5]"
   ]
  },
  {
   "cell_type": "code",
   "execution_count": 52,
   "id": "07a92387-2694-4f3e-b1b8-3c32ae3de877",
   "metadata": {},
   "outputs": [
    {
     "data": {
      "text/plain": [
       "np.int32(22)"
      ]
     },
     "execution_count": 52,
     "metadata": {},
     "output_type": "execute_result"
    }
   ],
   "source": [
    "n[5,-3]"
   ]
  },
  {
   "cell_type": "code",
   "execution_count": 53,
   "id": "331ac2b0-ea77-4c80-8a82-1f1bd4383b13",
   "metadata": {},
   "outputs": [
    {
     "name": "stdout",
     "output_type": "stream",
     "text": [
      "22\n"
     ]
    }
   ],
   "source": [
    "x = n[5,-3]\n",
    "print(x)"
   ]
  },
  {
   "cell_type": "code",
   "execution_count": null,
   "id": "dd68ab6b-298b-4715-a71b-a87178465db1",
   "metadata": {},
   "outputs": [],
   "source": []
  },
  {
   "cell_type": "code",
   "execution_count": 54,
   "id": "df86389d-54f3-446c-b875-f95332b26f64",
   "metadata": {},
   "outputs": [
    {
     "data": {
      "text/plain": [
       "array([[ 1,  2,  3,  4],\n",
       "       [ 5,  6,  7,  8],\n",
       "       [ 9, 10, 11, 12]])"
      ]
     },
     "execution_count": 54,
     "metadata": {},
     "output_type": "execute_result"
    }
   ],
   "source": [
    "np.arange(1,13).reshape(3,4) #"
   ]
  },
  {
   "cell_type": "code",
   "execution_count": 55,
   "id": "1042b1da-b968-4cee-b2cc-7abd2aab436a",
   "metadata": {},
   "outputs": [
    {
     "ename": "ValueError",
     "evalue": "cannot reshape array of size 12 into shape (5,5)",
     "output_type": "error",
     "traceback": [
      "\u001b[1;31m---------------------------------------------------------------------------\u001b[0m",
      "\u001b[1;31mValueError\u001b[0m                                Traceback (most recent call last)",
      "Cell \u001b[1;32mIn[55], line 1\u001b[0m\n\u001b[1;32m----> 1\u001b[0m np\u001b[38;5;241m.\u001b[39marange(\u001b[38;5;241m1\u001b[39m,\u001b[38;5;241m13\u001b[39m)\u001b[38;5;241m.\u001b[39mreshape(\u001b[38;5;241m5\u001b[39m,\u001b[38;5;241m5\u001b[39m)\n",
      "\u001b[1;31mValueError\u001b[0m: cannot reshape array of size 12 into shape (5,5)"
     ]
    }
   ],
   "source": [
    "np.arange(1,13).reshape(5,5)"
   ]
  },
  {
   "cell_type": "code",
   "execution_count": 56,
   "id": "075e4d43-70e9-4464-adcf-738f4e23ac62",
   "metadata": {},
   "outputs": [
    {
     "data": {
      "text/plain": [
       "array([[ 1],\n",
       "       [ 2],\n",
       "       [ 3],\n",
       "       [ 4],\n",
       "       [ 5],\n",
       "       [ 6],\n",
       "       [ 7],\n",
       "       [ 8],\n",
       "       [ 9],\n",
       "       [10],\n",
       "       [11],\n",
       "       [12]])"
      ]
     },
     "execution_count": 56,
     "metadata": {},
     "output_type": "execute_result"
    }
   ],
   "source": [
    "np.arange(1,13).reshape(12,1)"
   ]
  },
  {
   "cell_type": "code",
   "execution_count": 57,
   "id": "ee20c831-9c15-494e-aeab-b413de84e44d",
   "metadata": {},
   "outputs": [
    {
     "data": {
      "text/plain": [
       "array([[ 1,  2],\n",
       "       [ 3,  4],\n",
       "       [ 5,  6],\n",
       "       [ 7,  8],\n",
       "       [ 9, 10],\n",
       "       [11, 12]])"
      ]
     },
     "execution_count": 57,
     "metadata": {},
     "output_type": "execute_result"
    }
   ],
   "source": [
    "np.arange(1,13).reshape(6,2)"
   ]
  },
  {
   "cell_type": "code",
   "execution_count": 61,
   "id": "37594a9d-0f01-42cd-942c-c4161a043d6a",
   "metadata": {},
   "outputs": [
    {
     "ename": "ValueError",
     "evalue": "cannot reshape array of size 12 into shape (1,5)",
     "output_type": "error",
     "traceback": [
      "\u001b[1;31m---------------------------------------------------------------------------\u001b[0m",
      "\u001b[1;31mValueError\u001b[0m                                Traceback (most recent call last)",
      "Cell \u001b[1;32mIn[61], line 1\u001b[0m\n\u001b[1;32m----> 1\u001b[0m np\u001b[38;5;241m.\u001b[39marange(\u001b[38;5;241m1\u001b[39m,\u001b[38;5;241m13\u001b[39m)\u001b[38;5;241m.\u001b[39mreshape(\u001b[38;5;241m1\u001b[39m,\u001b[38;5;241m5\u001b[39m)\n",
      "\u001b[1;31mValueError\u001b[0m: cannot reshape array of size 12 into shape (1,5)"
     ]
    }
   ],
   "source": [
    "np.arange(1,13).reshape(1,5)"
   ]
  },
  {
   "cell_type": "code",
   "execution_count": null,
   "id": "5cf96800-f2b7-44ac-8aed-9014c68a7385",
   "metadata": {},
   "outputs": [],
   "source": []
  },
  {
   "cell_type": "code",
   "execution_count": null,
   "id": "804a4ce4-ced8-4efd-a3ea-c092a2dca9c8",
   "metadata": {},
   "outputs": [],
   "source": []
  },
  {
   "cell_type": "code",
   "execution_count": null,
   "id": "438ac074-c12c-4025-87b0-f141b82e4b88",
   "metadata": {},
   "outputs": [],
   "source": []
  },
  {
   "cell_type": "code",
   "execution_count": null,
   "id": "369b9cd3-e6a4-4ce7-9f27-591f9920dd3c",
   "metadata": {},
   "outputs": [],
   "source": []
  },
  {
   "cell_type": "code",
   "execution_count": null,
   "id": "e025fb34-385b-420d-bc0c-0029644222e5",
   "metadata": {},
   "outputs": [],
   "source": []
  },
  {
   "cell_type": "code",
   "execution_count": null,
   "id": "857e68b4-6e27-4320-8ef6-60ae59b6f1b1",
   "metadata": {},
   "outputs": [],
   "source": []
  },
  {
   "cell_type": "code",
   "execution_count": null,
   "id": "6319dfa0-e54e-4fe1-a31e-993a101390f9",
   "metadata": {},
   "outputs": [],
   "source": []
  },
  {
   "cell_type": "code",
   "execution_count": null,
   "id": "6fa9145f-28c8-4359-9902-4f6c21a0e380",
   "metadata": {},
   "outputs": [],
   "source": []
  },
  {
   "cell_type": "code",
   "execution_count": null,
   "id": "53ee9605-1349-475a-89d4-ce7cfcec501d",
   "metadata": {},
   "outputs": [],
   "source": []
  },
  {
   "cell_type": "code",
   "execution_count": null,
   "id": "83eef84b-45fc-47e3-a661-6d641717cba1",
   "metadata": {},
   "outputs": [],
   "source": []
  },
  {
   "cell_type": "code",
   "execution_count": null,
   "id": "ad47cb2f-a811-46d6-bc2c-531c163521ed",
   "metadata": {},
   "outputs": [],
   "source": []
  },
  {
   "cell_type": "code",
   "execution_count": null,
   "id": "2c14e5e6-8d82-45b1-beea-c11e03365338",
   "metadata": {},
   "outputs": [],
   "source": []
  },
  {
   "cell_type": "code",
   "execution_count": null,
   "id": "fa6b5229-a713-475e-a199-356a3bfac09e",
   "metadata": {},
   "outputs": [],
   "source": []
  },
  {
   "cell_type": "code",
   "execution_count": null,
   "id": "5a4acc23-f498-4fb9-9763-4a60bf27c317",
   "metadata": {},
   "outputs": [],
   "source": []
  },
  {
   "cell_type": "code",
   "execution_count": null,
   "id": "27d00143-c462-4093-865a-d7a840b4f033",
   "metadata": {},
   "outputs": [],
   "source": []
  },
  {
   "cell_type": "code",
   "execution_count": null,
   "id": "21e39177-ae6c-4443-9238-55ad40b63aa0",
   "metadata": {},
   "outputs": [],
   "source": []
  },
  {
   "cell_type": "code",
   "execution_count": null,
   "id": "a1fe8b33-521d-4467-911e-4cfbef656d23",
   "metadata": {},
   "outputs": [],
   "source": []
  },
  {
   "cell_type": "code",
   "execution_count": null,
   "id": "57300161-15f1-4636-86d2-ae7d2697c0ab",
   "metadata": {},
   "outputs": [],
   "source": []
  },
  {
   "cell_type": "code",
   "execution_count": null,
   "id": "ffe850ae-36da-4aa3-8654-69c8bb94a7ed",
   "metadata": {},
   "outputs": [],
   "source": []
  },
  {
   "cell_type": "code",
   "execution_count": null,
   "id": "f2a73451-16f2-43df-ad9b-8faecb0db6df",
   "metadata": {},
   "outputs": [],
   "source": []
  },
  {
   "cell_type": "code",
   "execution_count": null,
   "id": "1bd61486-2208-4460-8c8a-fb1fd05b7887",
   "metadata": {},
   "outputs": [],
   "source": []
  },
  {
   "cell_type": "code",
   "execution_count": null,
   "id": "e4094801-5ff3-4d1f-844c-d0d741afdb3a",
   "metadata": {},
   "outputs": [],
   "source": []
  },
  {
   "cell_type": "code",
   "execution_count": null,
   "id": "c8254fd3-a824-4c99-a5eb-44b2498b9e99",
   "metadata": {},
   "outputs": [],
   "source": []
  },
  {
   "cell_type": "code",
   "execution_count": null,
   "id": "9f94cfcb-e99f-4c1b-8fd6-715e28bd2ef0",
   "metadata": {},
   "outputs": [],
   "source": []
  },
  {
   "cell_type": "code",
   "execution_count": null,
   "id": "b5e1f6c6-7cd2-48ae-b5b3-4c474515bff9",
   "metadata": {},
   "outputs": [],
   "source": []
  },
  {
   "cell_type": "code",
   "execution_count": null,
   "id": "9fa4b373-0aba-4612-a2fd-3e685af621bf",
   "metadata": {},
   "outputs": [],
   "source": []
  },
  {
   "cell_type": "code",
   "execution_count": null,
   "id": "917babb9-3b97-4b6d-a8e4-6053a0e4bf6c",
   "metadata": {},
   "outputs": [],
   "source": []
  },
  {
   "cell_type": "code",
   "execution_count": null,
   "id": "ce388052-740b-4c67-850c-f52c549ec0c1",
   "metadata": {},
   "outputs": [],
   "source": []
  },
  {
   "cell_type": "code",
   "execution_count": null,
   "id": "057131e9-d164-44dd-8245-09b1e65ef209",
   "metadata": {},
   "outputs": [],
   "source": []
  },
  {
   "cell_type": "code",
   "execution_count": null,
   "id": "d1a55107-47b9-49d4-9142-fb9f99d94315",
   "metadata": {},
   "outputs": [],
   "source": []
  },
  {
   "cell_type": "code",
   "execution_count": null,
   "id": "79c7ce74-bb7d-49b3-9800-0a3d5f169ea8",
   "metadata": {},
   "outputs": [],
   "source": []
  },
  {
   "cell_type": "code",
   "execution_count": null,
   "id": "6e37cdba-85ed-455f-90d1-bfbfe8060104",
   "metadata": {},
   "outputs": [],
   "source": []
  },
  {
   "cell_type": "code",
   "execution_count": null,
   "id": "34b61a2d-e70f-47ae-845c-35c505da1917",
   "metadata": {},
   "outputs": [],
   "source": []
  },
  {
   "cell_type": "code",
   "execution_count": null,
   "id": "91def58f-d1b0-4db2-a3e2-1dec9455e652",
   "metadata": {},
   "outputs": [],
   "source": []
  },
  {
   "cell_type": "code",
   "execution_count": null,
   "id": "ad906b2e-1178-47eb-b9a4-2a6b0ba17c95",
   "metadata": {},
   "outputs": [],
   "source": []
  },
  {
   "cell_type": "code",
   "execution_count": null,
   "id": "7a4613e9-1bca-48cf-b661-967fea6a2cd6",
   "metadata": {},
   "outputs": [],
   "source": []
  },
  {
   "cell_type": "code",
   "execution_count": null,
   "id": "076f09dc-c8d9-4727-8c56-8c9e5a532ecc",
   "metadata": {},
   "outputs": [],
   "source": []
  },
  {
   "cell_type": "code",
   "execution_count": null,
   "id": "599164f2-a2f1-473c-a384-5d84304b0c5e",
   "metadata": {},
   "outputs": [],
   "source": []
  },
  {
   "cell_type": "code",
   "execution_count": null,
   "id": "43c816bf-6129-448f-b482-0af60dd38170",
   "metadata": {},
   "outputs": [],
   "source": []
  },
  {
   "cell_type": "code",
   "execution_count": null,
   "id": "8a71db14-9b58-424b-9bd0-5df8fac824d6",
   "metadata": {},
   "outputs": [],
   "source": []
  },
  {
   "cell_type": "code",
   "execution_count": null,
   "id": "930ddf7d-fba5-4708-9105-7730014899f1",
   "metadata": {},
   "outputs": [],
   "source": []
  },
  {
   "cell_type": "code",
   "execution_count": null,
   "id": "42f63d85-47d4-49b6-be65-e524245e125a",
   "metadata": {},
   "outputs": [],
   "source": []
  },
  {
   "cell_type": "code",
   "execution_count": null,
   "id": "5dfe1e93-960c-4c8d-93ac-bdf554a2877e",
   "metadata": {},
   "outputs": [],
   "source": []
  },
  {
   "cell_type": "code",
   "execution_count": null,
   "id": "4277f6cd-b119-4781-a6d1-61a550e53114",
   "metadata": {},
   "outputs": [],
   "source": []
  },
  {
   "cell_type": "code",
   "execution_count": null,
   "id": "c844779c-2a74-4dde-954b-ef1c5b12af93",
   "metadata": {},
   "outputs": [],
   "source": []
  },
  {
   "cell_type": "code",
   "execution_count": null,
   "id": "9aa917d3-ff86-4eda-be45-ce446d1e6f9f",
   "metadata": {},
   "outputs": [],
   "source": []
  },
  {
   "cell_type": "code",
   "execution_count": null,
   "id": "dc66850f-e73a-450f-a50e-77009ec93a74",
   "metadata": {},
   "outputs": [],
   "source": []
  },
  {
   "cell_type": "code",
   "execution_count": null,
   "id": "c50400cc-c25a-4e1c-9857-e89e37890201",
   "metadata": {},
   "outputs": [],
   "source": []
  },
  {
   "cell_type": "code",
   "execution_count": null,
   "id": "0b8f99c1-ac5d-4ed9-b991-f12e34c8c1e7",
   "metadata": {},
   "outputs": [],
   "source": []
  },
  {
   "cell_type": "code",
   "execution_count": null,
   "id": "f6712c3a-57dc-4f21-8109-4e4d1d72fde7",
   "metadata": {},
   "outputs": [],
   "source": []
  },
  {
   "cell_type": "code",
   "execution_count": null,
   "id": "d3e8f7a4-65e0-47a3-9397-df47be5330d2",
   "metadata": {},
   "outputs": [],
   "source": []
  },
  {
   "cell_type": "code",
   "execution_count": null,
   "id": "af40c905-2ed8-41fe-82ef-74e1feda66f7",
   "metadata": {},
   "outputs": [],
   "source": []
  },
  {
   "cell_type": "code",
   "execution_count": null,
   "id": "a2c15a89-7f8d-4301-b436-64086ccfb079",
   "metadata": {},
   "outputs": [],
   "source": []
  },
  {
   "cell_type": "code",
   "execution_count": null,
   "id": "5a67c946-4b2c-49b9-bd23-b1db49012da4",
   "metadata": {},
   "outputs": [],
   "source": []
  },
  {
   "cell_type": "code",
   "execution_count": null,
   "id": "57ad7238-7de7-4908-a496-b348447da30d",
   "metadata": {},
   "outputs": [],
   "source": []
  },
  {
   "cell_type": "code",
   "execution_count": null,
   "id": "20159a67-a634-4141-9102-03fd34e13ba3",
   "metadata": {},
   "outputs": [],
   "source": []
  },
  {
   "cell_type": "code",
   "execution_count": null,
   "id": "660693f4-4565-49dd-b70e-418b3a84dc52",
   "metadata": {},
   "outputs": [],
   "source": []
  },
  {
   "cell_type": "code",
   "execution_count": null,
   "id": "39c23b3a-cc9e-4b83-8e1d-4ffcc01fd36e",
   "metadata": {},
   "outputs": [],
   "source": []
  },
  {
   "cell_type": "code",
   "execution_count": null,
   "id": "f50dd557-1574-44f6-ba6f-105adc423a4f",
   "metadata": {},
   "outputs": [],
   "source": []
  },
  {
   "cell_type": "code",
   "execution_count": null,
   "id": "c0512e86-fcc6-4aa4-b2cd-fcc6c68ecd82",
   "metadata": {},
   "outputs": [],
   "source": []
  },
  {
   "cell_type": "code",
   "execution_count": null,
   "id": "0bcfe70e-e10c-411a-9edd-85e6a4115cb3",
   "metadata": {},
   "outputs": [],
   "source": []
  },
  {
   "cell_type": "code",
   "execution_count": null,
   "id": "519ed95b-917f-449f-b644-8988da53ab07",
   "metadata": {},
   "outputs": [],
   "source": []
  }
 ],
 "metadata": {
  "kernelspec": {
   "display_name": "Python 3 (ipykernel)",
   "language": "python",
   "name": "python3"
  },
  "language_info": {
   "codemirror_mode": {
    "name": "ipython",
    "version": 3
   },
   "file_extension": ".py",
   "mimetype": "text/x-python",
   "name": "python",
   "nbconvert_exporter": "python",
   "pygments_lexer": "ipython3",
   "version": "3.13.5"
  }
 },
 "nbformat": 4,
 "nbformat_minor": 5
}
