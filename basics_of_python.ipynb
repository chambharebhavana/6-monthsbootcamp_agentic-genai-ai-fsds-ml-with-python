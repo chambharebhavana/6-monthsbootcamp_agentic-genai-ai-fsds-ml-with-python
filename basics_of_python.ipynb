{
 "cells": [
  {
   "cell_type": "code",
   "execution_count": 1,
   "id": "e27fdba2-8647-415d-9f92-c20befcb6730",
   "metadata": {},
   "outputs": [
    {
     "data": {
      "text/plain": [
       "'3.13.5 | packaged by Anaconda, Inc. | (main, Jun 12 2025, 16:37:03) [MSC v.1929 64 bit (AMD64)]'"
      ]
     },
     "execution_count": 1,
     "metadata": {},
     "output_type": "execute_result"
    }
   ],
   "source": [
    "import sys\n",
    "sys.version"
   ]
  },
  {
   "cell_type": "code",
   "execution_count": 2,
   "id": "e050647f-c3cf-471c-9969-7bab055bb7fb",
   "metadata": {},
   "outputs": [
    {
     "data": {
      "text/plain": [
       "3"
      ]
     },
     "execution_count": 2,
     "metadata": {},
     "output_type": "execute_result"
    }
   ],
   "source": [
    "x =  3\n",
    "x"
   ]
  },
  {
   "cell_type": "code",
   "execution_count": 3,
   "id": "08e283d7-29d1-473f-a300-f79c4da7ef8a",
   "metadata": {},
   "outputs": [
    {
     "data": {
      "text/plain": [
       "4"
      ]
     },
     "execution_count": 3,
     "metadata": {},
     "output_type": "execute_result"
    }
   ],
   "source": [
    "x =  4\n",
    "x"
   ]
  },
  {
   "cell_type": "code",
   "execution_count": 4,
   "id": "8fa61cc6-6c89-4305-8861-962d98356e20",
   "metadata": {},
   "outputs": [
    {
     "data": {
      "text/plain": [
       "3"
      ]
     },
     "execution_count": 4,
     "metadata": {},
     "output_type": "execute_result"
    }
   ],
   "source": [
    "y =  3\n",
    "y"
   ]
  },
  {
   "cell_type": "code",
   "execution_count": 5,
   "id": "4afa85e7-395e-4ba8-b5b0-f15e611fcf30",
   "metadata": {},
   "outputs": [
    {
     "data": {
      "text/plain": [
       "(4, 3)"
      ]
     },
     "execution_count": 5,
     "metadata": {},
     "output_type": "execute_result"
    }
   ],
   "source": [
    "x, y"
   ]
  },
  {
   "cell_type": "code",
   "execution_count": 6,
   "id": "054ea080-ca5f-4eae-8d46-a2f4b61b34f0",
   "metadata": {},
   "outputs": [
    {
     "ename": "TypeError",
     "evalue": "cannot unpack non-iterable int object",
     "output_type": "error",
     "traceback": [
      "\u001b[1;31m---------------------------------------------------------------------------\u001b[0m",
      "\u001b[1;31mTypeError\u001b[0m                                 Traceback (most recent call last)",
      "Cell \u001b[1;32mIn[6], line 1\u001b[0m\n\u001b[1;32m----> 1\u001b[0m x, y \u001b[38;5;241m=\u001b[39m \u001b[38;5;241m3\u001b[39m\n",
      "\u001b[1;31mTypeError\u001b[0m: cannot unpack non-iterable int object"
     ]
    }
   ],
   "source": [
    "x, y = 3"
   ]
  },
  {
   "cell_type": "code",
   "execution_count": 7,
   "id": "f374f83d-db16-4d45-ae29-66a4aa99de33",
   "metadata": {},
   "outputs": [
    {
     "data": {
      "text/plain": [
       "int"
      ]
     },
     "execution_count": 7,
     "metadata": {},
     "output_type": "execute_result"
    }
   ],
   "source": [
    "type(x)"
   ]
  },
  {
   "cell_type": "code",
   "execution_count": 8,
   "id": "36ab9aa0-5fba-49b2-989f-b7e2b1df2a99",
   "metadata": {},
   "outputs": [
    {
     "data": {
      "text/plain": [
       "3"
      ]
     },
     "execution_count": 8,
     "metadata": {},
     "output_type": "execute_result"
    }
   ],
   "source": [
    "y"
   ]
  },
  {
   "cell_type": "code",
   "execution_count": 9,
   "id": "41d0556d-b3a7-4b0a-97ba-8e6fa08abf52",
   "metadata": {},
   "outputs": [
    {
     "data": {
      "text/plain": [
       "int"
      ]
     },
     "execution_count": 9,
     "metadata": {},
     "output_type": "execute_result"
    }
   ],
   "source": [
    "x1 =  4\n",
    "x\n",
    "type(x1)"
   ]
  },
  {
   "cell_type": "code",
   "execution_count": 10,
   "id": "e10fd0b2-3caa-4d52-acb5-6779f08c0dfd",
   "metadata": {},
   "outputs": [
    {
     "data": {
      "text/plain": [
       "140708248990696"
      ]
     },
     "execution_count": 10,
     "metadata": {},
     "output_type": "execute_result"
    }
   ],
   "source": [
    "y = 3\n",
    "id(y)"
   ]
  },
  {
   "cell_type": "code",
   "execution_count": 11,
   "id": "88347a5e-c683-4cf1-ad65-9b3932d8feb8",
   "metadata": {},
   "outputs": [
    {
     "data": {
      "text/plain": [
       "140708248990728"
      ]
     },
     "execution_count": 11,
     "metadata": {},
     "output_type": "execute_result"
    }
   ],
   "source": [
    "x1 =  4\n",
    "id(x1)"
   ]
  },
  {
   "cell_type": "code",
   "execution_count": 12,
   "id": "07d10638-93c5-4b2e-8132-3615d92ddd38",
   "metadata": {},
   "outputs": [
    {
     "data": {
      "text/plain": [
       "bool"
      ]
     },
     "execution_count": 12,
     "metadata": {},
     "output_type": "execute_result"
    }
   ],
   "source": [
    "y = False\n",
    "type(y)"
   ]
  },
  {
   "cell_type": "code",
   "execution_count": 13,
   "id": "9d27895f-038b-4114-b77b-9a60e9e778cc",
   "metadata": {},
   "outputs": [
    {
     "name": "stdout",
     "output_type": "stream",
     "text": [
      "5\n"
     ]
    },
    {
     "data": {
      "text/plain": [
       "int"
      ]
     },
     "execution_count": 13,
     "metadata": {},
     "output_type": "execute_result"
    }
   ],
   "source": [
    "a = 5\n",
    "print(a)\n",
    "type(a)"
   ]
  },
  {
   "cell_type": "code",
   "execution_count": 14,
   "id": "ae9c5352-9220-4144-84ae-3fddfb5c8a2c",
   "metadata": {},
   "outputs": [
    {
     "ename": "SyntaxError",
     "evalue": "invalid syntax (385768347.py, line 1)",
     "output_type": "error",
     "traceback": [
      "\u001b[1;36m  Cell \u001b[1;32mIn[14], line 1\u001b[1;36m\u001b[0m\n\u001b[1;33m    a@ = 6\u001b[0m\n\u001b[1;37m       ^\u001b[0m\n\u001b[1;31mSyntaxError\u001b[0m\u001b[1;31m:\u001b[0m invalid syntax\n"
     ]
    }
   ],
   "source": [
    "a@ = 6\n",
    "a@"
   ]
  },
  {
   "cell_type": "code",
   "execution_count": 17,
   "id": "92758908-fe70-4163-8e36-1529b27a241c",
   "metadata": {},
   "outputs": [
    {
     "ename": "NameError",
     "evalue": "name 'b' is not defined",
     "output_type": "error",
     "traceback": [
      "\u001b[1;31m---------------------------------------------------------------------------\u001b[0m",
      "\u001b[1;31mNameError\u001b[0m                                 Traceback (most recent call last)",
      "Cell \u001b[1;32mIn[17], line 1\u001b[0m\n\u001b[1;32m----> 1\u001b[0m \u001b[38;5;241m6\u001b[39m \u001b[38;5;241m==\u001b[39m b\n",
      "\u001b[1;31mNameError\u001b[0m: name 'b' is not defined"
     ]
    }
   ],
   "source": [
    "6 == b\n"
   ]
  },
  {
   "cell_type": "code",
   "execution_count": 18,
   "id": "714b5d19-ddeb-487a-9a03-a39adfe4fe5d",
   "metadata": {},
   "outputs": [
    {
     "data": {
      "text/plain": [
       "5.5"
      ]
     },
     "execution_count": 18,
     "metadata": {},
     "output_type": "execute_result"
    }
   ],
   "source": [
    "b = 5.5\n",
    "b"
   ]
  },
  {
   "cell_type": "code",
   "execution_count": 19,
   "id": "256ffea1-9a3c-4cb7-95b5-665093697b90",
   "metadata": {},
   "outputs": [
    {
     "data": {
      "text/plain": [
       "float"
      ]
     },
     "execution_count": 19,
     "metadata": {},
     "output_type": "execute_result"
    }
   ],
   "source": [
    "type(b)"
   ]
  },
  {
   "cell_type": "code",
   "execution_count": 20,
   "id": "161d359a-8f48-4187-a70a-d3261c1d136a",
   "metadata": {},
   "outputs": [
    {
     "data": {
      "text/plain": [
       "'hi'"
      ]
     },
     "execution_count": 20,
     "metadata": {},
     "output_type": "execute_result"
    }
   ],
   "source": [
    "c = 'hi'\n",
    "c"
   ]
  },
  {
   "cell_type": "code",
   "execution_count": 21,
   "id": "babb79c7-e1f4-4acb-8233-eb5e369e63ae",
   "metadata": {},
   "outputs": [
    {
     "data": {
      "text/plain": [
       "str"
      ]
     },
     "execution_count": 21,
     "metadata": {},
     "output_type": "execute_result"
    }
   ],
   "source": [
    "type(c)"
   ]
  },
  {
   "cell_type": "code",
   "execution_count": 22,
   "id": "65d406f3-353f-476f-8c9d-fe7577c488bb",
   "metadata": {},
   "outputs": [
    {
     "data": {
      "text/plain": [
       "2"
      ]
     },
     "execution_count": 22,
     "metadata": {},
     "output_type": "execute_result"
    }
   ],
   "source": [
    "x = 2\n",
    "x"
   ]
  },
  {
   "cell_type": "code",
   "execution_count": 23,
   "id": "d0db2ed0-f26c-4aaf-bed9-f80a2d5d0123",
   "metadata": {},
   "outputs": [
    {
     "name": "stdout",
     "output_type": "stream",
     "text": [
      "9223372036\n"
     ]
    }
   ],
   "source": [
    "# Integer \n",
    "b = 9223372036\n",
    "print(b)"
   ]
  },
  {
   "cell_type": "code",
   "execution_count": 24,
   "id": "8ede6afe-d488-4991-9670-8d97d631b534",
   "metadata": {},
   "outputs": [
    {
     "name": "stdout",
     "output_type": "stream",
     "text": [
      "3.17\n"
     ]
    }
   ],
   "source": [
    "# Floating point\n",
    "pi = 3.17\n",
    "print(pi)"
   ]
  },
  {
   "cell_type": "code",
   "execution_count": 25,
   "id": "b5a3fb30-8cd4-4254-87e9-87555bccdf3c",
   "metadata": {},
   "outputs": [
    {
     "name": "stdout",
     "output_type": "stream",
     "text": [
      "John Doe\n"
     ]
    },
    {
     "data": {
      "text/plain": [
       "str"
      ]
     },
     "execution_count": 25,
     "metadata": {},
     "output_type": "execute_result"
    }
   ],
   "source": [
    "# String \n",
    "name = 'John Doe'\n",
    "print(name)\n",
    "type(name)"
   ]
  },
  {
   "cell_type": "code",
   "execution_count": 26,
   "id": "2a553957-fe23-4ed6-9378-a656ccec3d20",
   "metadata": {},
   "outputs": [
    {
     "name": "stdout",
     "output_type": "stream",
     "text": [
      "True\n"
     ]
    }
   ],
   "source": [
    "# Boolean \n",
    "q = True\n",
    "print(q)"
   ]
  },
  {
   "cell_type": "code",
   "execution_count": 27,
   "id": "594bc61e-6e96-4ec9-806d-b32085057c02",
   "metadata": {},
   "outputs": [
    {
     "name": "stdout",
     "output_type": "stream",
     "text": [
      "None\n"
     ]
    }
   ],
   "source": [
    "# Empty value or null data type\n",
    "x = None\n",
    "print(x)"
   ]
  },
  {
   "cell_type": "code",
   "execution_count": 28,
   "id": "07250221-121c-41fe-8209-6d453ea78be5",
   "metadata": {},
   "outputs": [
    {
     "ename": "SyntaxError",
     "evalue": "cannot assign to literal here. Maybe you meant '==' instead of '='? (2124959903.py, line 2)",
     "output_type": "error",
     "traceback": [
      "\u001b[1;36m  Cell \u001b[1;32mIn[28], line 2\u001b[1;36m\u001b[0m\n\u001b[1;33m    5 = x\u001b[0m\n\u001b[1;37m    ^\u001b[0m\n\u001b[1;31mSyntaxError\u001b[0m\u001b[1;31m:\u001b[0m cannot assign to literal here. Maybe you meant '==' instead of '='?\n"
     ]
    }
   ],
   "source": [
    "#Variable assignment works from left to right. So the following will give you an syntax error.\n",
    "5 = x"
   ]
  },
  {
   "cell_type": "code",
   "execution_count": 29,
   "id": "f890afc9-08b7-48c9-b3ef-4602b85f4c05",
   "metadata": {},
   "outputs": [
    {
     "data": {
      "text/plain": [
       "5"
      ]
     },
     "execution_count": 29,
     "metadata": {},
     "output_type": "execute_result"
    }
   ],
   "source": [
    "x = 5\n",
    "x"
   ]
  },
  {
   "cell_type": "markdown",
   "id": "bb2bd2dc-76f8-4ec2-8a5c-902113039d29",
   "metadata": {},
   "source": [
    "# Identifier/ variable/ object"
   ]
  },
  {
   "cell_type": "code",
   "execution_count": 30,
   "id": "822f99a8-7003-4953-b1b8-43624d4dc70a",
   "metadata": {},
   "outputs": [
    {
     "data": {
      "text/plain": [
       "50"
      ]
     },
     "execution_count": 30,
     "metadata": {},
     "output_type": "execute_result"
    }
   ],
   "source": [
    "ABC = 50\n",
    "ABC"
   ]
  },
  {
   "cell_type": "code",
   "execution_count": 31,
   "id": "393307a6-43b0-4e8b-a94c-f3c57d8f72c5",
   "metadata": {},
   "outputs": [
    {
     "data": {
      "text/plain": [
       "60"
      ]
     },
     "execution_count": 31,
     "metadata": {},
     "output_type": "execute_result"
    }
   ],
   "source": [
    "abc= 60\n",
    "abc"
   ]
  },
  {
   "cell_type": "code",
   "execution_count": 32,
   "id": "e21d5809-78f6-4170-b83a-bb922f276872",
   "metadata": {},
   "outputs": [
    {
     "ename": "NameError",
     "evalue": "name 'ABCD' is not defined",
     "output_type": "error",
     "traceback": [
      "\u001b[1;31m---------------------------------------------------------------------------\u001b[0m",
      "\u001b[1;31mNameError\u001b[0m                                 Traceback (most recent call last)",
      "Cell \u001b[1;32mIn[32], line 2\u001b[0m\n\u001b[0;32m      1\u001b[0m Abc \u001b[38;5;241m=\u001b[39m \u001b[38;5;241m70\u001b[39m\n\u001b[1;32m----> 2\u001b[0m ABCD\n",
      "\u001b[1;31mNameError\u001b[0m: name 'ABCD' is not defined"
     ]
    }
   ],
   "source": [
    "Abc = 70\n",
    "ABCD"
   ]
  },
  {
   "cell_type": "code",
   "execution_count": 33,
   "id": "04b694de-3e7f-46d1-b537-6838c167abd1",
   "metadata": {},
   "outputs": [
    {
     "data": {
      "text/plain": [
       "20000"
      ]
     },
     "execution_count": 33,
     "metadata": {},
     "output_type": "execute_result"
    }
   ],
   "source": [
    "xyz = 20000\n",
    "xyz"
   ]
  },
  {
   "cell_type": "code",
   "execution_count": 34,
   "id": "ccd402d8-c901-42ef-a4da-edfda8ac8e00",
   "metadata": {},
   "outputs": [
    {
     "ename": "NameError",
     "evalue": "name 'nit1' is not defined",
     "output_type": "error",
     "traceback": [
      "\u001b[1;31m---------------------------------------------------------------------------\u001b[0m",
      "\u001b[1;31mNameError\u001b[0m                                 Traceback (most recent call last)",
      "Cell \u001b[1;32mIn[34], line 2\u001b[0m\n\u001b[0;32m      1\u001b[0m NIT \u001b[38;5;241m=\u001b[39m \u001b[38;5;241m15000\u001b[39m\n\u001b[1;32m----> 2\u001b[0m nit1\n",
      "\u001b[1;31mNameError\u001b[0m: name 'nit1' is not defined"
     ]
    }
   ],
   "source": [
    "NIT = 15000\n",
    "nit1"
   ]
  },
  {
   "cell_type": "code",
   "execution_count": 35,
   "id": "d7207da1-f5d6-4d78-a211-bb7f8ae5b290",
   "metadata": {},
   "outputs": [
    {
     "data": {
      "text/plain": [
       "10"
      ]
     },
     "execution_count": 35,
     "metadata": {},
     "output_type": "execute_result"
    }
   ],
   "source": [
    "cash123 = 10\n",
    "cash123"
   ]
  },
  {
   "cell_type": "code",
   "execution_count": 36,
   "id": "af4f5b11-13e5-419a-a1dc-d9f898c4c71b",
   "metadata": {},
   "outputs": [
    {
     "ename": "SyntaxError",
     "evalue": "invalid decimal literal (2794601236.py, line 1)",
     "output_type": "error",
     "traceback": [
      "\u001b[1;36m  Cell \u001b[1;32mIn[36], line 1\u001b[1;36m\u001b[0m\n\u001b[1;33m    123cash = 20\u001b[0m\n\u001b[1;37m      ^\u001b[0m\n\u001b[1;31mSyntaxError\u001b[0m\u001b[1;31m:\u001b[0m invalid decimal literal\n"
     ]
    }
   ],
   "source": [
    "123cash = 20\n",
    "123cash"
   ]
  },
  {
   "cell_type": "code",
   "execution_count": 37,
   "id": "b8d9f1f5-52b4-4a8f-805c-0b718ff781b4",
   "metadata": {},
   "outputs": [
    {
     "ename": "SyntaxError",
     "evalue": "invalid decimal literal (113075527.py, line 1)",
     "output_type": "error",
     "traceback": [
      "\u001b[1;36m  Cell \u001b[1;32mIn[37], line 1\u001b[1;36m\u001b[0m\n\u001b[1;33m    1A = 5\u001b[0m\n\u001b[1;37m    ^\u001b[0m\n\u001b[1;31mSyntaxError\u001b[0m\u001b[1;31m:\u001b[0m invalid decimal literal\n"
     ]
    }
   ],
   "source": [
    "1A = 5"
   ]
  },
  {
   "cell_type": "code",
   "execution_count": 38,
   "id": "bc976e8e-b20c-4bed-ad7f-fd48807c6dce",
   "metadata": {},
   "outputs": [
    {
     "data": {
      "text/plain": [
       "5"
      ]
     },
     "execution_count": 38,
     "metadata": {},
     "output_type": "execute_result"
    }
   ],
   "source": [
    "A1 = 5\n",
    "A1"
   ]
  },
  {
   "cell_type": "code",
   "execution_count": 39,
   "id": "f89a487a-5f16-4645-8617-6d648e588b79",
   "metadata": {},
   "outputs": [
    {
     "data": {
      "text/plain": [
       "10"
      ]
     },
     "execution_count": 39,
     "metadata": {},
     "output_type": "execute_result"
    }
   ],
   "source": [
    "#x = 10 # x is the variable & 10 is thealue\n",
    "cash = 10 # Identifier ruls alphabet\n",
    "#ca$h = 10 # $ - symbole is not allowed in python identifier but in java is allowed\n",
    "#ca$h\n",
    "cash"
   ]
  },
  {
   "cell_type": "code",
   "execution_count": 40,
   "id": "43bdc4d1-7c92-4d15-9674-0308d1d990b5",
   "metadata": {},
   "outputs": [
    {
     "ename": "SyntaxError",
     "evalue": "invalid syntax (1252925957.py, line 1)",
     "output_type": "error",
     "traceback": [
      "\u001b[1;36m  Cell \u001b[1;32mIn[40], line 1\u001b[1;36m\u001b[0m\n\u001b[1;33m    ca$h = 20\u001b[0m\n\u001b[1;37m      ^\u001b[0m\n\u001b[1;31mSyntaxError\u001b[0m\u001b[1;31m:\u001b[0m invalid syntax\n"
     ]
    }
   ],
   "source": [
    "ca$h = 20\n",
    "ca$h "
   ]
  },
  {
   "cell_type": "code",
   "execution_count": 41,
   "id": "a8c79ac0-4991-4025-b535-185da7b3d547",
   "metadata": {},
   "outputs": [
    {
     "ename": "SyntaxError",
     "evalue": "cannot assign to expression here. Maybe you meant '==' instead of '='? (3805698226.py, line 1)",
     "output_type": "error",
     "traceback": [
      "\u001b[1;36m  Cell \u001b[1;32mIn[41], line 1\u001b[1;36m\u001b[0m\n\u001b[1;33m    ca*h = 20\u001b[0m\n\u001b[1;37m    ^\u001b[0m\n\u001b[1;31mSyntaxError\u001b[0m\u001b[1;31m:\u001b[0m cannot assign to expression here. Maybe you meant '==' instead of '='?\n"
     ]
    }
   ],
   "source": [
    "ca*h = 20\n",
    "ca*h"
   ]
  },
  {
   "cell_type": "code",
   "execution_count": 42,
   "id": "7a4cf70e-ff89-47c0-b98c-3391358964c8",
   "metadata": {},
   "outputs": [
    {
     "data": {
      "text/plain": [
       "30"
      ]
     },
     "execution_count": 42,
     "metadata": {},
     "output_type": "execute_result"
    }
   ],
   "source": [
    "CASH1 = 30\n",
    "#cash1\n",
    "CASH1"
   ]
  },
  {
   "cell_type": "code",
   "execution_count": 43,
   "id": "440b9f98-624d-4f15-a11b-6096dd4a2f23",
   "metadata": {},
   "outputs": [
    {
     "ename": "SyntaxError",
     "evalue": "invalid decimal literal (216375565.py, line 3)",
     "output_type": "error",
     "traceback": [
      "\u001b[1;36m  Cell \u001b[1;32mIn[43], line 3\u001b[1;36m\u001b[0m\n\u001b[1;33m    123total = 30\u001b[0m\n\u001b[1;37m      ^\u001b[0m\n\u001b[1;31mSyntaxError\u001b[0m\u001b[1;31m:\u001b[0m invalid decimal literal\n"
     ]
    }
   ],
   "source": [
    "# <2> Identifiers should not starts with dight ====\n",
    "#sum123 = 20 # Digit rules identifier\n",
    "123total = 30\n",
    "123total\n",
    "#sum123"
   ]
  },
  {
   "cell_type": "code",
   "execution_count": 44,
   "id": "6c4287ad-f199-4b84-9414-eee2c6eb3854",
   "metadata": {},
   "outputs": [
    {
     "data": {
      "text/plain": [
       "int"
      ]
     },
     "execution_count": 44,
     "metadata": {},
     "output_type": "execute_result"
    }
   ],
   "source": [
    "# <3> Identifiers are case sensitive\n",
    "#total = 10 # Python are case sensitive\n",
    "Abcde = 20\n",
    "#total\n",
    "type(Abcde)"
   ]
  },
  {
   "cell_type": "code",
   "execution_count": 45,
   "id": "fffef7f3-557d-49d4-8446-7bc58cb531cd",
   "metadata": {},
   "outputs": [
    {
     "ename": "NameError",
     "evalue": "name 'NEW' is not defined",
     "output_type": "error",
     "traceback": [
      "\u001b[1;31m---------------------------------------------------------------------------\u001b[0m",
      "\u001b[1;31mNameError\u001b[0m                                 Traceback (most recent call last)",
      "Cell \u001b[1;32mIn[45], line 2\u001b[0m\n\u001b[0;32m      1\u001b[0m new \u001b[38;5;241m=\u001b[39m \u001b[38;5;241m30\u001b[39m\n\u001b[1;32m----> 2\u001b[0m NEW\n",
      "\u001b[1;31mNameError\u001b[0m: name 'NEW' is not defined"
     ]
    }
   ],
   "source": [
    "new = 30\n",
    "NEW"
   ]
  },
  {
   "cell_type": "code",
   "execution_count": 46,
   "id": "ac0574c2-040e-4cf6-aa0f-83798a39add9",
   "metadata": {},
   "outputs": [
    {
     "ename": "SyntaxError",
     "evalue": "invalid syntax (1737738290.py, line 1)",
     "output_type": "error",
     "traceback": [
      "\u001b[1;36m  Cell \u001b[1;32mIn[46], line 1\u001b[1;36m\u001b[0m\n\u001b[1;33m    def = 4.6\u001b[0m\n\u001b[1;37m        ^\u001b[0m\n\u001b[1;31mSyntaxError\u001b[0m\u001b[1;31m:\u001b[0m invalid syntax\n"
     ]
    }
   ],
   "source": [
    "def = 4.6\n",
    "def"
   ]
  },
  {
   "cell_type": "code",
   "execution_count": 47,
   "id": "68550e6d-a532-405e-b576-510d4e0759e4",
   "metadata": {},
   "outputs": [
    {
     "ename": "SyntaxError",
     "evalue": "invalid syntax (3568866929.py, line 1)",
     "output_type": "error",
     "traceback": [
      "\u001b[1;36m  Cell \u001b[1;32mIn[47], line 1\u001b[1;36m\u001b[0m\n\u001b[1;33m    del = 9\u001b[0m\n\u001b[1;37m        ^\u001b[0m\n\u001b[1;31mSyntaxError\u001b[0m\u001b[1;31m:\u001b[0m invalid syntax\n"
     ]
    }
   ],
   "source": [
    "del = 9"
   ]
  },
  {
   "cell_type": "code",
   "execution_count": 49,
   "id": "ef361c1a-0977-42d9-8eee-cc4d353c398f",
   "metadata": {},
   "outputs": [
    {
     "data": {
      "text/plain": [
       "['False',\n",
       " 'None',\n",
       " 'True',\n",
       " 'and',\n",
       " 'as',\n",
       " 'assert',\n",
       " 'async',\n",
       " 'await',\n",
       " 'break',\n",
       " 'class',\n",
       " 'continue',\n",
       " 'def',\n",
       " 'del',\n",
       " 'elif',\n",
       " 'else',\n",
       " 'except',\n",
       " 'finally',\n",
       " 'for',\n",
       " 'from',\n",
       " 'global',\n",
       " 'if',\n",
       " 'import',\n",
       " 'in',\n",
       " 'is',\n",
       " 'lambda',\n",
       " 'nonlocal',\n",
       " 'not',\n",
       " 'or',\n",
       " 'pass',\n",
       " 'raise',\n",
       " 'return',\n",
       " 'try',\n",
       " 'while',\n",
       " 'with',\n",
       " 'yield']"
      ]
     },
     "execution_count": 49,
     "metadata": {},
     "output_type": "execute_result"
    }
   ],
   "source": [
    "import keyword\n",
    "keyword.kwlist"
   ]
  },
  {
   "cell_type": "code",
   "execution_count": 50,
   "id": "9b1481a9-c68b-4eb8-ae5b-1c1d125d7078",
   "metadata": {},
   "outputs": [
    {
     "data": {
      "text/plain": [
       "35"
      ]
     },
     "execution_count": 50,
     "metadata": {},
     "output_type": "execute_result"
    }
   ],
   "source": [
    "len(keyword.kwlist)"
   ]
  },
  {
   "cell_type": "code",
   "execution_count": 51,
   "id": "68a749a5-7389-4a36-a3e5-b1529bbeb61b",
   "metadata": {},
   "outputs": [
    {
     "ename": "SyntaxError",
     "evalue": "invalid syntax (1979711427.py, line 1)",
     "output_type": "error",
     "traceback": [
      "\u001b[1;36m  Cell \u001b[1;32mIn[51], line 1\u001b[1;36m\u001b[0m\n\u001b[1;33m    if = 780\u001b[0m\n\u001b[1;37m       ^\u001b[0m\n\u001b[1;31mSyntaxError\u001b[0m\u001b[1;31m:\u001b[0m invalid syntax\n"
     ]
    }
   ],
   "source": [
    "if = 780\n",
    "if"
   ]
  },
  {
   "cell_type": "code",
   "execution_count": 52,
   "id": "06723a71-f4c7-4f40-9d0b-634de7269367",
   "metadata": {},
   "outputs": [
    {
     "data": {
      "text/plain": [
       "780"
      ]
     },
     "execution_count": 52,
     "metadata": {},
     "output_type": "execute_result"
    }
   ],
   "source": [
    "IF = 780\n",
    "IF"
   ]
  },
  {
   "cell_type": "code",
   "execution_count": 53,
   "id": "a5c85777-b840-4112-bab6-f5183cb5ddae",
   "metadata": {},
   "outputs": [],
   "source": [
    "# <4> Keywords can not be assigned as identifier\n",
    "#if = 10   # if is keyword\n",
    "#DEF = 20  # def is keyword"
   ]
  },
  {
   "cell_type": "code",
   "execution_count": 54,
   "id": "3cca3118-44c6-4103-9a66-427f37e79d30",
   "metadata": {},
   "outputs": [
    {
     "data": {
      "text/plain": [
       "58"
      ]
     },
     "execution_count": 54,
     "metadata": {},
     "output_type": "execute_result"
    }
   ],
   "source": [
    "FOR = 58\n",
    "FOR"
   ]
  },
  {
   "cell_type": "code",
   "execution_count": 55,
   "id": "f4625066-4a51-4f40-9788-2acd8aabd05f",
   "metadata": {},
   "outputs": [
    {
     "data": {
      "text/plain": [
       "10"
      ]
     },
     "execution_count": 55,
     "metadata": {},
     "output_type": "execute_result"
    }
   ],
   "source": [
    "# 5> NO length limit in python Identifier\n",
    "wwwwwwwwwwwwwwwwwwwwwwwwwwwwwwwwwwwwwwwwwwwwwwwwwwwwwwwwwwwwwwwwwwwwwwwwwwwwwwxxxxxxxx = 10\n",
    "wwwwwwwwwwwwwwwwwwwwwwwwwwwwwwwwwwwwwwwwwwwwwwwwwwwwwwwwwwwwwwwwwwwwwwwwwwwwwwxxxxxxxx"
   ]
  },
  {
   "cell_type": "code",
   "execution_count": 56,
   "id": "6eb725ec-8aa6-4b42-a821-14b07f500f91",
   "metadata": {},
   "outputs": [
    {
     "data": {
      "text/plain": [
       "20"
      ]
     },
     "execution_count": 56,
     "metadata": {},
     "output_type": "execute_result"
    }
   ],
   "source": [
    "_abc_def_gef  = 20\n",
    "_abc_def_gef"
   ]
  },
  {
   "cell_type": "code",
   "execution_count": 57,
   "id": "70e3dff9-1074-4459-8f8a-7b25e245caa3",
   "metadata": {},
   "outputs": [
    {
     "name": "stdout",
     "output_type": "stream",
     "text": [
      "hello\n"
     ]
    }
   ],
   "source": [
    "print('hello')"
   ]
  },
  {
   "cell_type": "code",
   "execution_count": 58,
   "id": "489d8e67-079d-4a7c-b16d-6ddb5d8d11cf",
   "metadata": {},
   "outputs": [
    {
     "data": {
      "text/plain": [
       "'hello'"
      ]
     },
     "execution_count": 58,
     "metadata": {},
     "output_type": "execute_result"
    }
   ],
   "source": [
    "'hello'"
   ]
  },
  {
   "cell_type": "markdown",
   "id": "ca277d47-9901-4994-9519-4a3697359eaa",
   "metadata": {},
   "source": [
    "35 RESERVED WORDS---\n",
    "* True, False, None ==> Represent Boolean data types   \n",
    "* and, or, not, is ==> Represent the operators\n",
    "* if, else, elif ==> Represent the statement   (# python switch,do..while statament is not available)\n",
    "* while, for, break, continue, return, in, yield ==> Represent the loop concept\n",
    "* try, except, finally, raise, assert ==> Represent for functionallity\n",
    "* import,from,as,class,def,pass,global,nonlocal,lambda,del,with==>Represent the class,method,function\n",
    "\n",
    "**NOTES --  *35 RESERVED WORDS ARE (ALPHABET) // *EXCEPT (True,False,None)"
   ]
  },
  {
   "cell_type": "code",
   "execution_count": 59,
   "id": "f48fb438-fc49-4475-a3d4-081f4d871982",
   "metadata": {},
   "outputs": [
    {
     "ename": "SyntaxError",
     "evalue": "cannot assign to True (1144090750.py, line 1)",
     "output_type": "error",
     "traceback": [
      "\u001b[1;36m  Cell \u001b[1;32mIn[59], line 1\u001b[1;36m\u001b[0m\n\u001b[1;33m    True = a\u001b[0m\n\u001b[1;37m    ^\u001b[0m\n\u001b[1;31mSyntaxError\u001b[0m\u001b[1;31m:\u001b[0m cannot assign to True\n"
     ]
    }
   ],
   "source": [
    "True = a "
   ]
  },
  {
   "cell_type": "code",
   "execution_count": 60,
   "id": "824d5e5c-af98-433c-9539-c8cd6552d7d7",
   "metadata": {},
   "outputs": [],
   "source": [
    "b = None\n",
    "#b = none\n",
    "b"
   ]
  },
  {
   "cell_type": "code",
   "execution_count": 61,
   "id": "25a3048e-27e9-43e8-b079-68293019046c",
   "metadata": {},
   "outputs": [
    {
     "ename": "NameError",
     "evalue": "name 'true' is not defined",
     "output_type": "error",
     "traceback": [
      "\u001b[1;31m---------------------------------------------------------------------------\u001b[0m",
      "\u001b[1;31mNameError\u001b[0m                                 Traceback (most recent call last)",
      "Cell \u001b[1;32mIn[61], line 1\u001b[0m\n\u001b[1;32m----> 1\u001b[0m true \u001b[38;5;241m+\u001b[39m true\n",
      "\u001b[1;31mNameError\u001b[0m: name 'true' is not defined"
     ]
    }
   ],
   "source": [
    "true + true"
   ]
  },
  {
   "cell_type": "code",
   "execution_count": 62,
   "id": "46299015-7809-4739-a37d-adbd25c700c9",
   "metadata": {},
   "outputs": [
    {
     "data": {
      "text/plain": [
       "2"
      ]
     },
     "execution_count": 62,
     "metadata": {},
     "output_type": "execute_result"
    }
   ],
   "source": [
    "True + True"
   ]
  },
  {
   "cell_type": "code",
   "execution_count": 63,
   "id": "3faea380-a24f-475d-babb-3b4e85b2359e",
   "metadata": {},
   "outputs": [
    {
     "data": {
      "text/plain": [
       "1"
      ]
     },
     "execution_count": 63,
     "metadata": {},
     "output_type": "execute_result"
    }
   ],
   "source": [
    "True*True"
   ]
  },
  {
   "cell_type": "code",
   "execution_count": 64,
   "id": "ecd01094-7640-46c8-a8f4-64efed5ba8e7",
   "metadata": {},
   "outputs": [
    {
     "data": {
      "text/plain": [
       "1.0"
      ]
     },
     "execution_count": 64,
     "metadata": {},
     "output_type": "execute_result"
    }
   ],
   "source": [
    "True / True #(float division )"
   ]
  },
  {
   "cell_type": "code",
   "execution_count": 65,
   "id": "6fe79eb4-4128-4212-a918-4f3fecbd067d",
   "metadata": {},
   "outputs": [
    {
     "data": {
      "text/plain": [
       "1"
      ]
     },
     "execution_count": 65,
     "metadata": {},
     "output_type": "execute_result"
    }
   ],
   "source": [
    "True // True"
   ]
  },
  {
   "cell_type": "code",
   "execution_count": 66,
   "id": "0f1583e2-30a6-4aa2-b4c9-9e43cf46dedc",
   "metadata": {},
   "outputs": [
    {
     "data": {
      "text/plain": [
       "['False',\n",
       " 'None',\n",
       " 'True',\n",
       " 'and',\n",
       " 'as',\n",
       " 'assert',\n",
       " 'async',\n",
       " 'await',\n",
       " 'break',\n",
       " 'class',\n",
       " 'continue',\n",
       " 'def',\n",
       " 'del',\n",
       " 'elif',\n",
       " 'else',\n",
       " 'except',\n",
       " 'finally',\n",
       " 'for',\n",
       " 'from',\n",
       " 'global',\n",
       " 'if',\n",
       " 'import',\n",
       " 'in',\n",
       " 'is',\n",
       " 'lambda',\n",
       " 'nonlocal',\n",
       " 'not',\n",
       " 'or',\n",
       " 'pass',\n",
       " 'raise',\n",
       " 'return',\n",
       " 'try',\n",
       " 'while',\n",
       " 'with',\n",
       " 'yield']"
      ]
     },
     "execution_count": 66,
     "metadata": {},
     "output_type": "execute_result"
    }
   ],
   "source": [
    "# How to remembr all keywords --- (Interview questions)\n",
    "# KEYWORD is the module run from IMPORT class\n",
    "import keyword\n",
    "keyword.kwlist"
   ]
  },
  {
   "cell_type": "code",
   "execution_count": 67,
   "id": "f73da393-228e-48d8-b3f7-13750d6e9813",
   "metadata": {},
   "outputs": [
    {
     "data": {
      "text/html": [
       "<div>\n",
       "<style scoped>\n",
       "    .dataframe tbody tr th:only-of-type {\n",
       "        vertical-align: middle;\n",
       "    }\n",
       "\n",
       "    .dataframe tbody tr th {\n",
       "        vertical-align: top;\n",
       "    }\n",
       "\n",
       "    .dataframe thead th {\n",
       "        text-align: right;\n",
       "    }\n",
       "</style>\n",
       "<table border=\"1\" class=\"dataframe\">\n",
       "  <thead>\n",
       "    <tr style=\"text-align: right;\">\n",
       "      <th></th>\n",
       "      <th>0</th>\n",
       "    </tr>\n",
       "  </thead>\n",
       "  <tbody>\n",
       "    <tr>\n",
       "      <th>0</th>\n",
       "      <td>False</td>\n",
       "    </tr>\n",
       "    <tr>\n",
       "      <th>1</th>\n",
       "      <td>None</td>\n",
       "    </tr>\n",
       "    <tr>\n",
       "      <th>2</th>\n",
       "      <td>True</td>\n",
       "    </tr>\n",
       "    <tr>\n",
       "      <th>3</th>\n",
       "      <td>and</td>\n",
       "    </tr>\n",
       "    <tr>\n",
       "      <th>4</th>\n",
       "      <td>as</td>\n",
       "    </tr>\n",
       "    <tr>\n",
       "      <th>5</th>\n",
       "      <td>assert</td>\n",
       "    </tr>\n",
       "    <tr>\n",
       "      <th>6</th>\n",
       "      <td>async</td>\n",
       "    </tr>\n",
       "    <tr>\n",
       "      <th>7</th>\n",
       "      <td>await</td>\n",
       "    </tr>\n",
       "    <tr>\n",
       "      <th>8</th>\n",
       "      <td>break</td>\n",
       "    </tr>\n",
       "    <tr>\n",
       "      <th>9</th>\n",
       "      <td>class</td>\n",
       "    </tr>\n",
       "    <tr>\n",
       "      <th>10</th>\n",
       "      <td>continue</td>\n",
       "    </tr>\n",
       "    <tr>\n",
       "      <th>11</th>\n",
       "      <td>def</td>\n",
       "    </tr>\n",
       "    <tr>\n",
       "      <th>12</th>\n",
       "      <td>del</td>\n",
       "    </tr>\n",
       "    <tr>\n",
       "      <th>13</th>\n",
       "      <td>elif</td>\n",
       "    </tr>\n",
       "    <tr>\n",
       "      <th>14</th>\n",
       "      <td>else</td>\n",
       "    </tr>\n",
       "    <tr>\n",
       "      <th>15</th>\n",
       "      <td>except</td>\n",
       "    </tr>\n",
       "    <tr>\n",
       "      <th>16</th>\n",
       "      <td>finally</td>\n",
       "    </tr>\n",
       "    <tr>\n",
       "      <th>17</th>\n",
       "      <td>for</td>\n",
       "    </tr>\n",
       "    <tr>\n",
       "      <th>18</th>\n",
       "      <td>from</td>\n",
       "    </tr>\n",
       "    <tr>\n",
       "      <th>19</th>\n",
       "      <td>global</td>\n",
       "    </tr>\n",
       "    <tr>\n",
       "      <th>20</th>\n",
       "      <td>if</td>\n",
       "    </tr>\n",
       "    <tr>\n",
       "      <th>21</th>\n",
       "      <td>import</td>\n",
       "    </tr>\n",
       "    <tr>\n",
       "      <th>22</th>\n",
       "      <td>in</td>\n",
       "    </tr>\n",
       "    <tr>\n",
       "      <th>23</th>\n",
       "      <td>is</td>\n",
       "    </tr>\n",
       "    <tr>\n",
       "      <th>24</th>\n",
       "      <td>lambda</td>\n",
       "    </tr>\n",
       "    <tr>\n",
       "      <th>25</th>\n",
       "      <td>nonlocal</td>\n",
       "    </tr>\n",
       "    <tr>\n",
       "      <th>26</th>\n",
       "      <td>not</td>\n",
       "    </tr>\n",
       "    <tr>\n",
       "      <th>27</th>\n",
       "      <td>or</td>\n",
       "    </tr>\n",
       "    <tr>\n",
       "      <th>28</th>\n",
       "      <td>pass</td>\n",
       "    </tr>\n",
       "    <tr>\n",
       "      <th>29</th>\n",
       "      <td>raise</td>\n",
       "    </tr>\n",
       "    <tr>\n",
       "      <th>30</th>\n",
       "      <td>return</td>\n",
       "    </tr>\n",
       "    <tr>\n",
       "      <th>31</th>\n",
       "      <td>try</td>\n",
       "    </tr>\n",
       "    <tr>\n",
       "      <th>32</th>\n",
       "      <td>while</td>\n",
       "    </tr>\n",
       "    <tr>\n",
       "      <th>33</th>\n",
       "      <td>with</td>\n",
       "    </tr>\n",
       "    <tr>\n",
       "      <th>34</th>\n",
       "      <td>yield</td>\n",
       "    </tr>\n",
       "  </tbody>\n",
       "</table>\n",
       "</div>"
      ],
      "text/plain": [
       "           0\n",
       "0      False\n",
       "1       None\n",
       "2       True\n",
       "3        and\n",
       "4         as\n",
       "5     assert\n",
       "6      async\n",
       "7      await\n",
       "8      break\n",
       "9      class\n",
       "10  continue\n",
       "11       def\n",
       "12       del\n",
       "13      elif\n",
       "14      else\n",
       "15    except\n",
       "16   finally\n",
       "17       for\n",
       "18      from\n",
       "19    global\n",
       "20        if\n",
       "21    import\n",
       "22        in\n",
       "23        is\n",
       "24    lambda\n",
       "25  nonlocal\n",
       "26       not\n",
       "27        or\n",
       "28      pass\n",
       "29     raise\n",
       "30    return\n",
       "31       try\n",
       "32     while\n",
       "33      with\n",
       "34     yield"
      ]
     },
     "execution_count": 67,
     "metadata": {},
     "output_type": "execute_result"
    }
   ],
   "source": [
    "# write a coding to create index of these keywords --- IMP ---\n",
    "import pandas as pd # pandas is the module to create a dataframe\n",
    "df = pd.DataFrame(keyword.kwlist)\n",
    "df\n",
    "# Always remember python Index begins with '0'"
   ]
  },
  {
   "cell_type": "markdown",
   "id": "16573dd7-bbc0-4226-b66f-d7388749009e",
   "metadata": {},
   "source": [
    "## python datatypes"
   ]
  },
  {
   "cell_type": "code",
   "execution_count": 69,
   "id": "89e49b45-14df-4093-b996-234f3f51f239",
   "metadata": {},
   "outputs": [
    {
     "data": {
      "text/plain": [
       "10"
      ]
     },
     "execution_count": 69,
     "metadata": {},
     "output_type": "execute_result"
    }
   ],
   "source": [
    "# What is other inbuild datatype available except 14 datatypes-\n",
    "\n",
    "a = 10\n",
    "a\n",
    "#print(a)       # To find the variable \n",
    "#print(a)         # To find the value of variable\n",
    "#type(a) # To find the data type\n",
    "#id(a)            # To find an address of an object\n",
    "#type(a)"
   ]
  },
  {
   "cell_type": "code",
   "execution_count": 70,
   "id": "85c4d969-3189-426e-aa56-b251a47a9b4c",
   "metadata": {},
   "outputs": [
    {
     "data": {
      "text/plain": [
       "140708248990920"
      ]
     },
     "execution_count": 70,
     "metadata": {},
     "output_type": "execute_result"
    }
   ],
   "source": [
    "id(a)"
   ]
  },
  {
   "cell_type": "code",
   "execution_count": 71,
   "id": "19d7b80f-11d4-460f-b371-c170db116e3e",
   "metadata": {},
   "outputs": [
    {
     "data": {
      "text/plain": [
       "140708248990920"
      ]
     },
     "execution_count": 71,
     "metadata": {},
     "output_type": "execute_result"
    }
   ],
   "source": [
    "a = 10\n",
    "b = 10\n",
    "id(a) "
   ]
  },
  {
   "cell_type": "code",
   "execution_count": null,
   "id": "7f5de192-6408-445d-8319-a896ef0005b2",
   "metadata": {},
   "outputs": [],
   "source": []
  },
  {
   "cell_type": "code",
   "execution_count": null,
   "id": "6ec7603c-8ad5-4f71-9a72-41693d264af6",
   "metadata": {},
   "outputs": [],
   "source": [
    "#2.Binary form(Base 2)\n",
    "#a = 1111   # value is declared\n",
    "b = 0b1111 # Now pvm convert value to binary value\n",
    "b\n",
    "#a"
   ]
  },
  {
   "cell_type": "code",
   "execution_count": 72,
   "id": "fbddfc58-1bfe-4cb8-8dd1-93bcd149d0c3",
   "metadata": {},
   "outputs": [
    {
     "data": {
      "text/plain": [
       "'0b1111'"
      ]
     },
     "execution_count": 72,
     "metadata": {},
     "output_type": "execute_result"
    }
   ],
   "source": [
    "bin(15)"
   ]
  },
  {
   "cell_type": "code",
   "execution_count": 73,
   "id": "549c4ae1-5a77-4995-a5bb-f29e650d88be",
   "metadata": {},
   "outputs": [
    {
     "ename": "NameError",
     "evalue": "name 'b_1' is not defined",
     "output_type": "error",
     "traceback": [
      "\u001b[1;31m---------------------------------------------------------------------------\u001b[0m",
      "\u001b[1;31mNameError\u001b[0m                                 Traceback (most recent call last)",
      "Cell \u001b[1;32mIn[73], line 1\u001b[0m\n\u001b[1;32m----> 1\u001b[0m \u001b[38;5;28mbin\u001b[39m(b_1)\n",
      "\u001b[1;31mNameError\u001b[0m: name 'b_1' is not defined"
     ]
    }
   ],
   "source": [
    "bin(b_1)"
   ]
  },
  {
   "cell_type": "code",
   "execution_count": 74,
   "id": "af3f9752-c3ef-4f12-ba04-c0e590423fa9",
   "metadata": {},
   "outputs": [
    {
     "data": {
      "text/plain": [
       "1"
      ]
     },
     "execution_count": 74,
     "metadata": {},
     "output_type": "execute_result"
    }
   ],
   "source": [
    "b_ = 0b1   #0b means you’re writing a binary literal.\n",
    "#0b1 is binary for the decimal number 1\n",
    "b_"
   ]
  },
  {
   "cell_type": "code",
   "execution_count": 75,
   "id": "7d1291f3-e050-4fbd-8e0a-f89435fec2ef",
   "metadata": {},
   "outputs": [
    {
     "ename": "SyntaxError",
     "evalue": "invalid digit '2' in binary literal (3245495910.py, line 1)",
     "output_type": "error",
     "traceback": [
      "\u001b[1;36m  Cell \u001b[1;32mIn[75], line 1\u001b[1;36m\u001b[0m\n\u001b[1;33m    b2 = 0b22\u001b[0m\n\u001b[1;37m           ^\u001b[0m\n\u001b[1;31mSyntaxError\u001b[0m\u001b[1;31m:\u001b[0m invalid digit '2' in binary literal\n"
     ]
    }
   ],
   "source": [
    "b2 = 0b22\n",
    "b2"
   ]
  },
  {
   "cell_type": "code",
   "execution_count": 76,
   "id": "97c9ab8c-f4e9-435a-ba08-733fff07b3ec",
   "metadata": {},
   "outputs": [
    {
     "data": {
      "text/plain": [
       "111"
      ]
     },
     "execution_count": 76,
     "metadata": {},
     "output_type": "execute_result"
    }
   ],
   "source": [
    "b1 = 111\n",
    "b1"
   ]
  },
  {
   "cell_type": "code",
   "execution_count": 77,
   "id": "60dd3e7d-5263-49ab-b6e5-848c16172642",
   "metadata": {},
   "outputs": [
    {
     "data": {
      "text/plain": [
       "7"
      ]
     },
     "execution_count": 77,
     "metadata": {},
     "output_type": "execute_result"
    }
   ],
   "source": [
    "c = 0b111\n",
    "c"
   ]
  },
  {
   "cell_type": "code",
   "execution_count": 78,
   "id": "50eb8043-26bf-4fe9-b627-6fd8b8606e73",
   "metadata": {},
   "outputs": [
    {
     "ename": "SyntaxError",
     "evalue": "invalid digit '2' in binary literal (707794346.py, line 1)",
     "output_type": "error",
     "traceback": [
      "\u001b[1;36m  Cell \u001b[1;32mIn[78], line 1\u001b[1;36m\u001b[0m\n\u001b[1;33m    b3 = 0b2\u001b[0m\n\u001b[1;37m           ^\u001b[0m\n\u001b[1;31mSyntaxError\u001b[0m\u001b[1;31m:\u001b[0m invalid digit '2' in binary literal\n"
     ]
    }
   ],
   "source": [
    "b3 = 0b2\n",
    "b3"
   ]
  },
  {
   "cell_type": "code",
   "execution_count": 79,
   "id": "083993a3-32fc-4bb5-9735-5d04beac114b",
   "metadata": {},
   "outputs": [
    {
     "ename": "ZeroDivisionError",
     "evalue": "division by zero",
     "output_type": "error",
     "traceback": [
      "\u001b[1;31m---------------------------------------------------------------------------\u001b[0m",
      "\u001b[1;31mZeroDivisionError\u001b[0m                         Traceback (most recent call last)",
      "Cell \u001b[1;32mIn[79], line 1\u001b[0m\n\u001b[1;32m----> 1\u001b[0m \u001b[38;5;28;01mTrue\u001b[39;00m\u001b[38;5;241m/\u001b[39m\u001b[38;5;28;01mFalse\u001b[39;00m\n",
      "\u001b[1;31mZeroDivisionError\u001b[0m: division by zero"
     ]
    }
   ],
   "source": [
    "True/False"
   ]
  },
  {
   "cell_type": "code",
   "execution_count": 80,
   "id": "a50233c0-6ca8-406d-8cfc-64c9059118fb",
   "metadata": {},
   "outputs": [
    {
     "data": {
      "text/plain": [
       "9"
      ]
     },
     "execution_count": 80,
     "metadata": {},
     "output_type": "execute_result"
    }
   ],
   "source": [
    "#3. Octal form(Base 8)\n",
    "#a = 111 # Value is declared\n",
    "b1 = 0o11 # Now pvm covert value to octal value\n",
    "b1\n",
    "#a"
   ]
  },
  {
   "cell_type": "code",
   "execution_count": 81,
   "id": "13cc2089-7108-4459-b056-835537118c8f",
   "metadata": {},
   "outputs": [
    {
     "data": {
      "text/plain": [
       "18"
      ]
     },
     "execution_count": 81,
     "metadata": {},
     "output_type": "execute_result"
    }
   ],
   "source": [
    "i1 = 0o22\n",
    "i1"
   ]
  },
  {
   "cell_type": "code",
   "execution_count": null,
   "id": "e1b8d57d-3105-4f3d-8689-46c364bf2dcf",
   "metadata": {},
   "outputs": [],
   "source": [
    "#0o means you’re writing an octal literal (base 8).\n",
    "\n",
    "#0o27 in octal means:\n",
    "#(2×8)+7=16+7=23\n",
    "#So b2 will store 23 as a decimal integer."
   ]
  },
  {
   "cell_type": "code",
   "execution_count": 82,
   "id": "d7369a4a-1c8f-46dc-8074-c499411c93ed",
   "metadata": {},
   "outputs": [
    {
     "data": {
      "text/plain": [
       "64"
      ]
     },
     "execution_count": 82,
     "metadata": {},
     "output_type": "execute_result"
    }
   ],
   "source": [
    "# final summary of INTEGRAL DATATYPES \n",
    "a = 10\n",
    "b = 0b10\n",
    "c = 0o100\n",
    "a\n",
    "b\n",
    "c"
   ]
  },
  {
   "cell_type": "code",
   "execution_count": 83,
   "id": "e140b5a6-fd81-4761-9ae0-ad25332bc9d8",
   "metadata": {},
   "outputs": [
    {
     "data": {
      "text/plain": [
       "27"
      ]
     },
     "execution_count": 83,
     "metadata": {},
     "output_type": "execute_result"
    }
   ],
   "source": [
    "c1 = 0O33\n",
    "c1"
   ]
  },
  {
   "cell_type": "code",
   "execution_count": 84,
   "id": "22f4460d-866c-4063-86e6-ed118a6cbdb9",
   "metadata": {},
   "outputs": [
    {
     "data": {
      "text/plain": [
       "2"
      ]
     },
     "execution_count": 84,
     "metadata": {},
     "output_type": "execute_result"
    }
   ],
   "source": [
    "b"
   ]
  },
  {
   "cell_type": "code",
   "execution_count": 85,
   "id": "d58c3c77-20e3-4444-96a7-da0820d80740",
   "metadata": {},
   "outputs": [
    {
     "data": {
      "text/plain": [
       "64"
      ]
     },
     "execution_count": 85,
     "metadata": {},
     "output_type": "execute_result"
    }
   ],
   "source": [
    "c"
   ]
  },
  {
   "cell_type": "code",
   "execution_count": null,
   "id": "b99003c5-57f0-42aa-a99e-bf7f8631da98",
   "metadata": {},
   "outputs": [],
   "source": [
    "#### float datatypes - \n",
    "*employee sal - 5676.76\n",
    "*diesel price - 67.25\n",
    "* These values are not integral value this is called as decimal value\n",
    "* Floating datatype you cannot declare Binary,Octal & Hexadecimal because  python enterpretur not accept that\n",
    "* In our schools we learn about EXPONTIAL form -(1.2e3) this you can find in   float datatypes & only letter 'e' can allowed"
   ]
  },
  {
   "cell_type": "code",
   "execution_count": 86,
   "id": "6812af13-c345-4592-b5b1-826623a2409d",
   "metadata": {},
   "outputs": [
    {
     "name": "stdout",
     "output_type": "stream",
     "text": [
      "67.9\n"
     ]
    }
   ],
   "source": [
    "b = 67.9\n",
    "print(b)"
   ]
  },
  {
   "cell_type": "code",
   "execution_count": 87,
   "id": "81707ac4-e641-4cdc-bcd0-6f9c3e745f03",
   "metadata": {},
   "outputs": [
    {
     "data": {
      "text/plain": [
       "float"
      ]
     },
     "execution_count": 87,
     "metadata": {},
     "output_type": "execute_result"
    }
   ],
   "source": [
    "type(b)"
   ]
  },
  {
   "cell_type": "code",
   "execution_count": 88,
   "id": "a74af2d8-a1c9-4263-a470-3c03b54b401d",
   "metadata": {},
   "outputs": [
    {
     "ename": "SyntaxError",
     "evalue": "invalid syntax (808406421.py, line 1)",
     "output_type": "error",
     "traceback": [
      "\u001b[1;36m  Cell \u001b[1;32mIn[88], line 1\u001b[1;36m\u001b[0m\n\u001b[1;33m    b1 = 0b1.1\u001b[0m\n\u001b[1;37m            ^\u001b[0m\n\u001b[1;31mSyntaxError\u001b[0m\u001b[1;31m:\u001b[0m invalid syntax\n"
     ]
    }
   ],
   "source": [
    "b1 = 0b1.1\n",
    "b1"
   ]
  },
  {
   "cell_type": "code",
   "execution_count": 89,
   "id": "945ee54e-4b34-446b-8706-ebebda000be2",
   "metadata": {},
   "outputs": [
    {
     "ename": "SyntaxError",
     "evalue": "invalid syntax (3270742341.py, line 1)",
     "output_type": "error",
     "traceback": [
      "\u001b[1;36m  Cell \u001b[1;32mIn[89], line 1\u001b[1;36m\u001b[0m\n\u001b[1;33m    c = 0o11.6\u001b[0m\n\u001b[1;37m            ^\u001b[0m\n\u001b[1;31mSyntaxError\u001b[0m\u001b[1;31m:\u001b[0m invalid syntax\n"
     ]
    }
   ],
   "source": [
    "c = 0o11.6\n",
    "c"
   ]
  },
  {
   "cell_type": "code",
   "execution_count": 90,
   "id": "29b47ce9-d9c6-4433-bb41-d49bd88218ad",
   "metadata": {},
   "outputs": [
    {
     "ename": "SyntaxError",
     "evalue": "invalid syntax (2124913177.py, line 7)",
     "output_type": "error",
     "traceback": [
      "\u001b[1;36m  Cell \u001b[1;32mIn[90], line 7\u001b[1;36m\u001b[0m\n\u001b[1;33m    d = 0o4567.67 # This is octal\u001b[0m\n\u001b[1;37m              ^\u001b[0m\n\u001b[1;31mSyntaxError\u001b[0m\u001b[1;31m:\u001b[0m invalid syntax\n"
     ]
    }
   ],
   "source": [
    "# float datatypes - \n",
    "#b2 = 0b1111.22\n",
    "#b2\n",
    "#print(type(b))\n",
    "#type(b2) \n",
    "#b\n",
    "d = 0o4567.67 # This is octal\n",
    "#e = 0o456789 # This is binary\n",
    "d\n",
    "#e\n",
    "#b"
   ]
  },
  {
   "cell_type": "code",
   "execution_count": 91,
   "id": "5f79203e-0853-4a20-96e7-f315d8a596c2",
   "metadata": {},
   "outputs": [
    {
     "data": {
      "text/plain": [
       "float"
      ]
     },
     "execution_count": 91,
     "metadata": {},
     "output_type": "execute_result"
    }
   ],
   "source": [
    "f1 = 1e4\n",
    "f1\n",
    "type(f1)"
   ]
  },
  {
   "cell_type": "code",
   "execution_count": 92,
   "id": "474295e5-32f5-4d17-826f-59b7cf6fa0d4",
   "metadata": {},
   "outputs": [
    {
     "data": {
      "text/plain": [
       "2400.0"
      ]
     },
     "execution_count": 92,
     "metadata": {},
     "output_type": "execute_result"
    }
   ],
   "source": [
    "#f = 1e4# only 'e' letter is allowed\n",
    "g = 2.4E3 # except 'E' you can't execute any programme\n",
    "g\n",
    "#f\n",
    "#type(g)"
   ]
  },
  {
   "cell_type": "markdown",
   "id": "57965d1f-5947-4877-81fd-d381e6cbed84",
   "metadata": {},
   "source": [
    "#### complex datatypes - \n",
    "* Complex datatype format are:-(a+bj) (a--Real part/b--Imaginary part/j^2=-1)\n",
    "* j is the compulsory value & there is no other value accepted in complex type\n",
    "* j^2 = -1 \n",
    "* Value of j is (j square is equal to -1) (j =(square root of -1) is equal to (j^2 = -1) pure mathemetics so if you want to develop mathmetic \n",
    "  application or scientific application then python is the best option\n",
    "* Real type any type base can be accepted but imaginary part allow only integer"
   ]
  },
  {
   "cell_type": "code",
   "execution_count": 94,
   "id": "aa78ee76-7778-48f7-9f83-286d64b8ffec",
   "metadata": {},
   "outputs": [
    {
     "data": {
      "text/plain": [
       "(30+40j)"
      ]
     },
     "execution_count": 94,
     "metadata": {},
     "output_type": "execute_result"
    }
   ],
   "source": [
    "x = 30+40j #assigned int value in real part & imaginary part\n",
    "x"
   ]
  },
  {
   "cell_type": "code",
   "execution_count": 95,
   "id": "45493b97-0d71-426f-a0b3-d2bf6afcf853",
   "metadata": {},
   "outputs": [
    {
     "data": {
      "text/plain": [
       "complex"
      ]
     },
     "execution_count": 95,
     "metadata": {},
     "output_type": "execute_result"
    }
   ],
   "source": [
    "type(x)"
   ]
  },
  {
   "cell_type": "code",
   "execution_count": 96,
   "id": "2aa403c8-29c7-4441-9c96-d9dcd02fb5a7",
   "metadata": {},
   "outputs": [
    {
     "data": {
      "text/plain": [
       "(0.5384615384615384+0.30769230769230776j)"
      ]
     },
     "execution_count": 96,
     "metadata": {},
     "output_type": "execute_result"
    }
   ],
   "source": [
    "y = 1+2j #assigned float value in real part & imaginary part\n",
    "z = 3+2j  #assigned float value in real part & real value in imaginary part\n",
    "y + z\n",
    "y-z\n",
    "y*z\n",
    "y/z"
   ]
  },
  {
   "cell_type": "code",
   "execution_count": 97,
   "id": "9f8f53c9-37e9-46a1-8218-578c1920b714",
   "metadata": {},
   "outputs": [
    {
     "data": {
      "text/plain": [
       "(-2+0j)"
      ]
     },
     "execution_count": 97,
     "metadata": {},
     "output_type": "execute_result"
    }
   ],
   "source": [
    "y-z"
   ]
  },
  {
   "cell_type": "code",
   "execution_count": 98,
   "id": "c535a3c1-957b-4848-bfcb-5fbffd4e8958",
   "metadata": {},
   "outputs": [
    {
     "data": {
      "text/plain": [
       "(-1+8j)"
      ]
     },
     "execution_count": 98,
     "metadata": {},
     "output_type": "execute_result"
    }
   ],
   "source": [
    "y*z"
   ]
  },
  {
   "cell_type": "code",
   "execution_count": 99,
   "id": "c1e0f3d9-45e8-4492-8f1c-d0582ee50225",
   "metadata": {},
   "outputs": [
    {
     "ename": "SyntaxError",
     "evalue": "invalid binary literal (2166187284.py, line 1)",
     "output_type": "error",
     "traceback": [
      "\u001b[1;36m  Cell \u001b[1;32mIn[99], line 1\u001b[1;36m\u001b[0m\n\u001b[1;33m    c = 15+0b111j # Imaginary part cannot be binary,octal\u001b[0m\n\u001b[1;37m               ^\u001b[0m\n\u001b[1;31mSyntaxError\u001b[0m\u001b[1;31m:\u001b[0m invalid binary literal\n"
     ]
    }
   ],
   "source": [
    "c = 15+0b111j # Imaginary part cannot be binary,octal\n",
    "#d = 0b11+15j # Real part can be binary,octal\n",
    "c\n",
    "#d"
   ]
  },
  {
   "cell_type": "code",
   "execution_count": 100,
   "id": "ff9431d8-01d0-4ebd-8fad-34e6868a5231",
   "metadata": {},
   "outputs": [
    {
     "data": {
      "text/plain": [
       "(7+15j)"
      ]
     },
     "execution_count": 100,
     "metadata": {},
     "output_type": "execute_result"
    }
   ],
   "source": [
    "d2 = 0b111+15j\n",
    "d2"
   ]
  },
  {
   "cell_type": "code",
   "execution_count": 101,
   "id": "4ad30c8f-d924-4169-b56a-b28d94259988",
   "metadata": {},
   "outputs": [
    {
     "data": {
      "text/plain": [
       "20.0"
      ]
     },
     "execution_count": 101,
     "metadata": {},
     "output_type": "execute_result"
    }
   ],
   "source": [
    "a1 = 10+20j  # I want to know what the value of real part & imaginary part\n",
    "a1.real   # complex data type will use in mathmetic concept not that required for programming language\n",
    "#a1.imaginary\n",
    "a1.imag"
   ]
  },
  {
   "cell_type": "markdown",
   "id": "8773a7ed-93b1-4bc1-8b86-ca1d6e87ac50",
   "metadata": {},
   "source": [
    "#### bool datatypes - \n",
    "* True/False - (only allowed boolean values)\n",
    "* False value -- 0 (internally memory level conversion happened)\n",
    "* True value -- 1"
   ]
  },
  {
   "cell_type": "code",
   "execution_count": 104,
   "id": "96505227-1286-49cd-9776-914b8ca89e6a",
   "metadata": {},
   "outputs": [
    {
     "data": {
      "text/plain": [
       "1"
      ]
     },
     "execution_count": 104,
     "metadata": {},
     "output_type": "execute_result"
    }
   ],
   "source": [
    "True+True\n",
    "True*True\n",
    "True-True\n",
    "True/True\n",
    "True//True\n",
    "False+False\n",
    "False+True\n"
   ]
  },
  {
   "cell_type": "code",
   "execution_count": 105,
   "id": "c88432d8-0d33-4701-a5b7-ce2fda56889f",
   "metadata": {},
   "outputs": [
    {
     "data": {
      "text/plain": [
       "float"
      ]
     },
     "execution_count": 105,
     "metadata": {},
     "output_type": "execute_result"
    }
   ],
   "source": [
    "pi = 3.14\n",
    "pi\n",
    "type(pi)"
   ]
  },
  {
   "cell_type": "markdown",
   "id": "b23e4b88-0070-4f46-85a7-ce1ebd86e3b6",
   "metadata": {},
   "source": [
    "#### str datatypes - \n",
    "* enclosed in '' (single quote) // \"\" (double quote)\n",
    "* singa line we assined as '' // \"\"\n",
    "* multiline we assigned as (\"' \"')\n",
    "* single & double quotes are allowed only for single line\n",
    "* triple quotes are allowed for multi comments & also you can declare triple quotes in single line as well"
   ]
  },
  {
   "cell_type": "code",
   "execution_count": 106,
   "id": "6f09730e-ee09-4b03-9bde-8fd9922484f0",
   "metadata": {},
   "outputs": [
    {
     "data": {
      "text/plain": [
       "'good for datascience'"
      ]
     },
     "execution_count": 106,
     "metadata": {},
     "output_type": "execute_result"
    }
   ],
   "source": [
    "ABC = '''good for datascience'''\n",
    "ABC"
   ]
  },
  {
   "cell_type": "code",
   "execution_count": 107,
   "id": "f1224af3-4fc1-4968-8720-883c0a1e7d02",
   "metadata": {},
   "outputs": [
    {
     "data": {
      "text/plain": [
       "'good\\n             for datascience'"
      ]
     },
     "execution_count": 107,
     "metadata": {},
     "output_type": "execute_result"
    }
   ],
   "source": [
    "w = '''good\n",
    "             for datascience'''\n",
    "#type(careerera)#' single quotes'\n",
    "w\n",
    "#type(naresh)"
   ]
  },
  {
   "cell_type": "code",
   "execution_count": 108,
   "id": "de7fd9aa-1e18-4281-b081-ccc5cecf97dd",
   "metadata": {},
   "outputs": [
    {
     "data": {
      "text/plain": [
       "'hallo\\nhow \\nare \\nyou'"
      ]
     },
     "execution_count": 108,
     "metadata": {},
     "output_type": "execute_result"
    }
   ],
   "source": [
    "a = '''hallo\n",
    "how \n",
    "are \n",
    "you'''\n",
    "\n",
    "a\n",
    "#type(a) # SINLE & DOUBLE QUOTES ARE EQUAL "
   ]
  },
  {
   "cell_type": "code",
   "execution_count": 109,
   "id": "a0eb60f3-df50-4f43-92a2-218facbf3347",
   "metadata": {},
   "outputs": [],
   "source": [
    "x, y, z, m, n = 10, True, 10.9, 1 + 10j, 'hi'"
   ]
  },
  {
   "cell_type": "markdown",
   "id": "4beabbf6-a781-49ee-8ad3-c6241d2aa254",
   "metadata": {},
   "source": [
    "#### Type casting or Type conversion - \n",
    "int() -- float() -- complex() -- bool() -- str()"
   ]
  },
  {
   "cell_type": "code",
   "execution_count": null,
   "id": "5ecfed58-fc30-486e-9383-16f1cd8e5941",
   "metadata": {},
   "outputs": [],
   "source": [
    "# int(): - you can convert from other type to int type except complex \n",
    "\n",
    "int(10.123)  # float to int\n",
    "#int(10+20j) # cannot convert from complex to int\n",
    "int(True)     # Bool to int\n",
    "int(False)   # Boll to int\n",
    "int('10')    # string to int\n",
    "#int('ten') # amx is a characte"
   ]
  },
  {
   "cell_type": "code",
   "execution_count": 2,
   "id": "02d6a6d8-b9ce-4484-ba3b-09f37b610b02",
   "metadata": {},
   "outputs": [
    {
     "data": {
      "text/plain": [
       "11.0"
      ]
     },
     "execution_count": 2,
     "metadata": {},
     "output_type": "execute_result"
    }
   ],
   "source": [
    "# float(): -- convert from any type to float except complex\n",
    "float(10)      # int to float\n",
    "#float(10+20j)  # cannot convert complex to float\n",
    "float(False)     # boolean to float\n",
    "float('11')    # string to float"
   ]
  },
  {
   "cell_type": "code",
   "execution_count": 2,
   "id": "3ed51ad0-015f-46f9-adc9-ac70199c56dd",
   "metadata": {},
   "outputs": [
    {
     "data": {
      "text/plain": [
       "(10+0j)"
      ]
     },
     "execution_count": 2,
     "metadata": {},
     "output_type": "execute_result"
    }
   ],
   "source": [
    "# complex(): -- covert any other type to complex type\n",
    "# --- this only for 1 argument ------\n",
    "complex(10)     # int to complex\n",
    "complex(10.5)  # float to complex\n",
    "complex(True)  # Bool to complex\n",
    "complex(False) # Bool to complex\n",
    "complex('10')  # string to complex \n",
    "\n",
    "# ----- Now we will check for 2 arguments ------\n",
    "complex(10,20)   # int to complex\n",
    "complex(10,20.5) # float to complex\n",
    "complex('10')    # string to complex, you cannot assign 2 argument"
   ]
  },
  {
   "cell_type": "code",
   "execution_count": null,
   "id": "1a375ca8-f865-464b-b6d2-8083294c07c1",
   "metadata": {},
   "outputs": [],
   "source": [
    "# Bool()  - (0 means false // 1 means non zero)\n",
    "\n",
    "bool(0)      # int to bool\n",
    "bool(-10)     # int to bool\n",
    "bool(0.0)    # float to bool\n",
    "bool(0.01)   # float to bool \n",
    "bool(10+20j) # complext to bool\n",
    "bool(0+1j)   # complex to bool\n",
    "bool(\" \")      # string to bool(if argument is empty string then false)\n",
    "bool('abc')# string to bool(if argument is not empty string then true)\n",
    "bool(' ')    # space is also treated as character so non empty string"
   ]
  },
  {
   "cell_type": "code",
   "execution_count": 3,
   "id": "168e7e38-f0f6-4e1f-859e-56f4912e31f4",
   "metadata": {},
   "outputs": [
    {
     "data": {
      "text/plain": [
       "True"
      ]
     },
     "execution_count": 3,
     "metadata": {},
     "output_type": "execute_result"
    }
   ],
   "source": [
    "bool(-10)"
   ]
  },
  {
   "cell_type": "code",
   "execution_count": 4,
   "id": "7747b201-8d55-4432-b568-7924b8d8a05c",
   "metadata": {},
   "outputs": [
    {
     "data": {
      "text/plain": [
       "True"
      ]
     },
     "execution_count": 4,
     "metadata": {},
     "output_type": "execute_result"
    }
   ],
   "source": [
    "bool(0+1j)"
   ]
  },
  {
   "cell_type": "code",
   "execution_count": 5,
   "id": "409281b9-b72a-4c81-b524-80933ad4c411",
   "metadata": {},
   "outputs": [
    {
     "data": {
      "text/plain": [
       "'(10+20j)'"
      ]
     },
     "execution_count": 5,
     "metadata": {},
     "output_type": "execute_result"
    }
   ],
   "source": [
    "# str(): --- any type is possible in string \n",
    "\n",
    "str(10)     # int to string\n",
    "str(10.50)  # float to string\n",
    "str(True)   # bool to string\n",
    "str(10+20j) # complex to string\n"
   ]
  },
  {
   "cell_type": "markdown",
   "id": "ab871813-ea09-4f6d-90e4-ed76d7242288",
   "metadata": {},
   "source": [
    "#### Fundamental datatypes vs Immutability -- \n",
    "\n",
    "* All fundamental datatypes are immutable. what is immutable - once we crate the object we are not allow to perform any \n",
    "  changes in that object . we can say that (non-changeable behaviour)\n",
    "* why immutability concept is required -- if you look at below exampl - how many object we created only 1 object which is 10\n",
    "  but how many reference we assinged -- 3 reference indicates to 1 object\n",
    "* bigest advantage of this approch is memory utilization & performance is also improved (pvm do not want to wsat memory)\n",
    "* you can create object with different name, but you cannot create object with same name"
   ]
  },
  {
   "cell_type": "code",
   "execution_count": 6,
   "id": "a129260f-5b4d-4bf5-b709-5d18bcb4bf23",
   "metadata": {},
   "outputs": [
    {
     "name": "stdout",
     "output_type": "stream",
     "text": [
      "140709194609864\n",
      "140709194609864\n",
      "140709194610184\n"
     ]
    }
   ],
   "source": [
    "x2 = 10\n",
    "y2 = 10\n",
    "z2 = 20 \n",
    "print(id(x2))\n",
    "print(id(y2))\n",
    "print(id(z2))"
   ]
  },
  {
   "cell_type": "code",
   "execution_count": null,
   "id": "eea49320-0aee-4aa0-8312-95d80bec1919",
   "metadata": {},
   "outputs": [],
   "source": [
    "x = 10 #id - adddres of the memory location\n",
    "y = 10\n",
    "print(id(x))\n",
    "print(id(y))"
   ]
  },
  {
   "cell_type": "code",
   "execution_count": 7,
   "id": "37156bc9-65d8-446d-b857-8eecb724ac53",
   "metadata": {},
   "outputs": [
    {
     "data": {
      "text/plain": [
       "True"
      ]
     },
     "execution_count": 7,
     "metadata": {},
     "output_type": "execute_result"
    }
   ],
   "source": [
    "# is operator\n",
    "x = 20 # x,y = 20\n",
    "y = 20\n",
    "x is y\n",
    "y is x"
   ]
  },
  {
   "cell_type": "code",
   "execution_count": 8,
   "id": "f96ea760-beda-44fb-be0b-d03848c1907f",
   "metadata": {},
   "outputs": [
    {
     "data": {
      "text/plain": [
       "False"
      ]
     },
     "execution_count": 8,
     "metadata": {},
     "output_type": "execute_result"
    }
   ],
   "source": [
    "x = True\n",
    "y = True\n",
    "z = False\n",
    "print(x is y)\n",
    "print(y is z\n",
    "print(z is x\n",
    "prinz is y"
   ]
  },
  {
   "cell_type": "code",
   "execution_count": null,
   "id": "4dd5fb9f-cfea-4bb6-895d-3c5e1c52764d",
   "metadata": {},
   "outputs": [],
   "source": []
  }
 ],
 "metadata": {
  "kernelspec": {
   "display_name": "Python 3 (ipykernel)",
   "language": "python",
   "name": "python3"
  },
  "language_info": {
   "codemirror_mode": {
    "name": "ipython",
    "version": 3
   },
   "file_extension": ".py",
   "mimetype": "text/x-python",
   "name": "python",
   "nbconvert_exporter": "python",
   "pygments_lexer": "ipython3",
   "version": "3.13.5"
  }
 },
 "nbformat": 4,
 "nbformat_minor": 5
}
