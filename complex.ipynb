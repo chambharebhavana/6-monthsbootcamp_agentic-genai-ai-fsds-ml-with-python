{
 "cells": [
  {
   "cell_type": "code",
   "execution_count": 1,
   "id": "37ce03c7-694c-49e1-9783-0363928f4c69",
   "metadata": {},
   "outputs": [
    {
     "name": "stdout",
     "output_type": "stream",
     "text": [
      "5\n",
      "1\n",
      "6\n",
      "1.5\n",
      "9\n",
      "1\n",
      "1\n"
     ]
    }
   ],
   "source": [
    "print(3 + 2)   # addition(+)\n",
    "print(3 - 2)   # subtraction(-)\n",
    "print(3 * 2)   # multiplication(*)\n",
    "print(3 / 2)   # division(/)\n",
    "print(3 ** 2)  # exponential(**)\n",
    "print(3 % 2)   # modulus(%)\n",
    "print(3 // 2) "
   ]
  },
  {
   "cell_type": "markdown",
   "id": "77e8c958-7d15-4727-8115-4550584b3873",
   "metadata": {},
   "source": [
    "print(type(10))                  # Int\n",
    "print(type(3.14))                # Float\n",
    "print(type(1 + 3j))              # Complex\n",
    "print(type('Asabeneh'))          # String\n",
    "print(type([1, 2, 3]))           # List\n",
    "print(type({'name':'Asabeneh'})) # Dictionary\n",
    "print(type({9.8, 3.14, 2.7}))    # Set\n",
    "print(type((9.8, 3.14, 2.7)))    # Tuple\n",
    "print(type(3 == 3))              # Bool\n",
    "print(type(3 >= 3)) "
   ]
  },
  {
   "cell_type": "markdown",
   "id": "7f48bb69-3b71-45cb-8ccd-2bfb21754b42",
   "metadata": {},
   "source": [
    "## complex data type"
   ]
  },
  {
   "cell_type": "code",
   "execution_count": 4,
   "id": "6f9d8015-5644-49f8-9639-686f9ab1bf1b",
   "metadata": {},
   "outputs": [
    {
     "data": {
      "text/plain": [
       "(1+2j)"
      ]
     },
     "execution_count": 4,
     "metadata": {},
     "output_type": "execute_result"
    }
   ],
   "source": [
    "c =  1+ 2j\n",
    "c"
   ]
  },
  {
   "cell_type": "code",
   "execution_count": 5,
   "id": "32dc5ffc-9364-4fe1-a08e-0f5aa64c47ba",
   "metadata": {},
   "outputs": [
    {
     "data": {
      "text/plain": [
       "complex"
      ]
     },
     "execution_count": 5,
     "metadata": {},
     "output_type": "execute_result"
    }
   ],
   "source": [
    "type(c)"
   ]
  },
  {
   "cell_type": "code",
   "execution_count": 6,
   "id": "41512a69-75bf-46c7-b71d-ef5fd9017a68",
   "metadata": {},
   "outputs": [
    {
     "data": {
      "text/plain": [
       "1.0"
      ]
     },
     "execution_count": 6,
     "metadata": {},
     "output_type": "execute_result"
    }
   ],
   "source": [
    "c.real"
   ]
  },
  {
   "cell_type": "code",
   "execution_count": 7,
   "id": "95f06db9-7b13-4920-a5b4-88b735853d14",
   "metadata": {},
   "outputs": [
    {
     "data": {
      "text/plain": [
       "2.0"
      ]
     },
     "execution_count": 7,
     "metadata": {},
     "output_type": "execute_result"
    }
   ],
   "source": [
    "c.imag"
   ]
  },
  {
   "cell_type": "code",
   "execution_count": 9,
   "id": "7a914e7c-8f0d-405d-becf-888f11d5a32f",
   "metadata": {},
   "outputs": [],
   "source": [
    "c = 10 + 20j\n",
    "d = 30 + 40j"
   ]
  },
  {
   "cell_type": "code",
   "execution_count": 10,
   "id": "f12c6681-4fe6-49b4-a79c-74f423017c3e",
   "metadata": {},
   "outputs": [
    {
     "data": {
      "text/plain": [
       "(40+60j)"
      ]
     },
     "execution_count": 10,
     "metadata": {},
     "output_type": "execute_result"
    }
   ],
   "source": [
    "e = c + d\n",
    "e"
   ]
  },
  {
   "cell_type": "code",
   "execution_count": 11,
   "id": "3a645074-6390-4cf6-8682-4410b33e99f2",
   "metadata": {},
   "outputs": [
    {
     "data": {
      "text/plain": [
       "(3+4j)"
      ]
     },
     "execution_count": 11,
     "metadata": {},
     "output_type": "execute_result"
    }
   ],
   "source": [
    "z  = 3 + 4j\n",
    "z"
   ]
  },
  {
   "cell_type": "markdown",
   "id": "8cc63ccf-043b-4365-b541-7b50807890bf",
   "metadata": {},
   "source": [
    "## Accessing the real and imaginary parts"
   ]
  },
  {
   "cell_type": "code",
   "execution_count": 12,
   "id": "5767141d-d6bc-49ba-be6c-d520cafdaed4",
   "metadata": {},
   "outputs": [
    {
     "name": "stdout",
     "output_type": "stream",
     "text": [
      "3.0\n",
      "4.0\n"
     ]
    }
   ],
   "source": [
    "print(z.real)\n",
    "print(z.imag)"
   ]
  },
  {
   "cell_type": "markdown",
   "id": "6c1467fd-4410-46a7-b06a-3b7d234efd87",
   "metadata": {},
   "source": [
    "## Operations with Complex Numbers"
   ]
  },
  {
   "cell_type": "code",
   "execution_count": 13,
   "id": "575791da-b26e-49a2-b30e-4d4abce4ef8f",
   "metadata": {},
   "outputs": [],
   "source": [
    "a = 3 + 4j\n",
    "b = 1 + 2j"
   ]
  },
  {
   "cell_type": "code",
   "execution_count": 14,
   "id": "148a8629-382f-4efe-8db2-0a36529056a9",
   "metadata": {},
   "outputs": [
    {
     "name": "stdout",
     "output_type": "stream",
     "text": [
      "(4+6j)\n"
     ]
    }
   ],
   "source": [
    "# addition\n",
    "print(a + b)"
   ]
  },
  {
   "cell_type": "code",
   "execution_count": 15,
   "id": "a15320a1-5f37-4e29-b071-7cbe1bf121cb",
   "metadata": {},
   "outputs": [
    {
     "name": "stdout",
     "output_type": "stream",
     "text": [
      "(2+2j)\n"
     ]
    }
   ],
   "source": [
    "# subtraction\n",
    "print(a - b)"
   ]
  },
  {
   "cell_type": "code",
   "execution_count": 16,
   "id": "18220457-01de-42f0-a979-74a37f3ede3c",
   "metadata": {},
   "outputs": [
    {
     "name": "stdout",
     "output_type": "stream",
     "text": [
      "(-5+10j)\n"
     ]
    }
   ],
   "source": [
    "# Multiplication\n",
    "print(a * b)"
   ]
  },
  {
   "cell_type": "code",
   "execution_count": 18,
   "id": "1e6dcf21-ea52-4901-b566-e16169cd6387",
   "metadata": {},
   "outputs": [
    {
     "name": "stdout",
     "output_type": "stream",
     "text": [
      "(2.2-0.4j)\n"
     ]
    }
   ],
   "source": [
    "# Division\n",
    "print(a / b)"
   ]
  },
  {
   "cell_type": "markdown",
   "id": "b44b3882-af35-4600-a6da-e5c5a0e0bdd1",
   "metadata": {},
   "source": [
    "## Using Built-in Functions "
   ]
  },
  {
   "cell_type": "code",
   "execution_count": 22,
   "id": "90133ab7-1cab-462c-bb57-5e431ddabfca",
   "metadata": {},
   "outputs": [
    {
     "name": "stdout",
     "output_type": "stream",
     "text": [
      "5.0\n"
     ]
    },
    {
     "ename": "AttributeError",
     "evalue": "'complex' object has no attribute 'conj'",
     "output_type": "error",
     "traceback": [
      "\u001b[1;31m---------------------------------------------------------------------------\u001b[0m",
      "\u001b[1;31mAttributeError\u001b[0m                            Traceback (most recent call last)",
      "Cell \u001b[1;32mIn[22], line 3\u001b[0m\n\u001b[0;32m      1\u001b[0m z \u001b[38;5;241m=\u001b[39m \u001b[38;5;241m3\u001b[39m\u001b[38;5;241m+\u001b[39m \u001b[38;5;241m4\u001b[39mj  \n\u001b[0;32m      2\u001b[0m \u001b[38;5;28mprint\u001b[39m(\u001b[38;5;28mabs\u001b[39m(z))   \u001b[38;5;66;03m# returns magnitude\u001b[39;00m\n\u001b[1;32m----> 3\u001b[0m \u001b[38;5;28mprint\u001b[39m(z\u001b[38;5;241m.\u001b[39mconj())\n",
      "\u001b[1;31mAttributeError\u001b[0m: 'complex' object has no attribute 'conj'"
     ]
    }
   ],
   "source": [
    "z = 3+ 4j  \n",
    "print(abs(z))   # returns magnitude\n",
    "print(z.conj())  #returns complex conjugate"
   ]
  },
  {
   "cell_type": "markdown",
   "id": "e04372ef-5afe-4faf-a848-790e274844c5",
   "metadata": {},
   "source": [
    "## Complex Number in the cmath Module\n"
   ]
  },
  {
   "cell_type": "code",
   "execution_count": 24,
   "id": "5532fbd0-f8aa-4804-bcc8-9112284385e9",
   "metadata": {},
   "outputs": [],
   "source": [
    "import cmath\n",
    "\n"
   ]
  },
  {
   "cell_type": "code",
   "execution_count": 27,
   "id": "458ed7e5-d1e9-419d-a821-425e2c4ba294",
   "metadata": {},
   "outputs": [
    {
     "name": "stdout",
     "output_type": "stream",
     "text": [
      "0.7853981633974483\n",
      "(1.4142135623730951, 0.7853981633974483)\n",
      "(1.09868411346781+0.45508986056222733j)\n"
     ]
    }
   ],
   "source": [
    "z =  1 + 1j\n",
    "# Getting the phase(angle) of the complex number\n",
    "print(cmath.phase(z))\n",
    "\n",
    "# getting the polar form of complex nubmber\n",
    "print(cmath.polar(z))\n",
    "\n",
    "# gettting the square root of complex number\n",
    "print(cmath.sqrt(z))"
   ]
  },
  {
   "cell_type": "code",
   "execution_count": null,
   "id": "d414ecc8-b896-4c85-97ca-1ec63afeff34",
   "metadata": {},
   "outputs": [],
   "source": []
  },
  {
   "cell_type": "code",
   "execution_count": null,
   "id": "be864798-0867-4256-a34c-9c5c75f67a6e",
   "metadata": {},
   "outputs": [],
   "source": []
  },
  {
   "cell_type": "code",
   "execution_count": null,
   "id": "e74cf5d6-2b8b-4a0d-b900-f83362515126",
   "metadata": {},
   "outputs": [],
   "source": []
  }
 ],
 "metadata": {
  "kernelspec": {
   "display_name": "Python 3 (ipykernel)",
   "language": "python",
   "name": "python3"
  },
  "language_info": {
   "codemirror_mode": {
    "name": "ipython",
    "version": 3
   },
   "file_extension": ".py",
   "mimetype": "text/x-python",
   "name": "python",
   "nbconvert_exporter": "python",
   "pygments_lexer": "ipython3",
   "version": "3.13.5"
  }
 },
 "nbformat": 4,
 "nbformat_minor": 5
}
