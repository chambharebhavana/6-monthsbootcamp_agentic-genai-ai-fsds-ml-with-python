{
 "cells": [
  {
   "cell_type": "markdown",
   "id": "6e459d2b-dc8a-46b3-8c58-1e1b4e7cf31d",
   "metadata": {},
   "source": [
    "# Arithmetic Operations in python"
   ]
  },
  {
   "cell_type": "markdown",
   "id": "0cc10d07-edb1-486a-ba72-25e6b85b7721",
   "metadata": {},
   "source": [
    "# Integers"
   ]
  },
  {
   "cell_type": "code",
   "execution_count": 1,
   "id": "24e90b6f-3e51-4483-b0c8-8ec9f8d8e317",
   "metadata": {},
   "outputs": [
    {
     "name": "stdout",
     "output_type": "stream",
     "text": [
      "Addition :  3\n"
     ]
    }
   ],
   "source": [
    "print('Addition : ', 1+ 2)"
   ]
  },
  {
   "cell_type": "code",
   "execution_count": null,
   "id": "06ed8095-5533-46ec-b6ee-7373086b2eee",
   "metadata": {},
   "outputs": [],
   "source": []
  },
  {
   "cell_type": "code",
   "execution_count": 4,
   "id": "0a3617d6-bb85-461d-a3b5-7732e6ae1b81",
   "metadata": {},
   "outputs": [
    {
     "name": "stdout",
     "output_type": "stream",
     "text": [
      "Multiplication :  2\n"
     ]
    }
   ],
   "source": [
    "print('Multiplication : ', 1 * 2)"
   ]
  },
  {
   "cell_type": "code",
   "execution_count": 5,
   "id": "6550730a-c947-40f1-b223-54695916c8e2",
   "metadata": {},
   "outputs": [
    {
     "name": "stdout",
     "output_type": "stream",
     "text": [
      "Division :  2.0\n"
     ]
    }
   ],
   "source": [
    "print('Division : ', 4 / 2)"
   ]
  },
  {
   "cell_type": "code",
   "execution_count": 6,
   "id": "4d0b4e0d-828e-4e9f-b499-8c37e355bd86",
   "metadata": {},
   "outputs": [
    {
     "name": "stdout",
     "output_type": "stream",
     "text": [
      "Division :  3.0\n"
     ]
    }
   ],
   "source": [
    "print('Division : ', 6/ 2)"
   ]
  },
  {
   "cell_type": "code",
   "execution_count": 7,
   "id": "247a7dd6-a305-48b2-b5d0-8083b5ca9f66",
   "metadata": {},
   "outputs": [
    {
     "name": "stdout",
     "output_type": "stream",
     "text": [
      "Division :  3.5\n"
     ]
    }
   ],
   "source": [
    "print('Division : ', 7 / 2)"
   ]
  },
  {
   "cell_type": "code",
   "execution_count": 8,
   "id": "6d628b70-bd05-4d1a-9d22-245115fa1b06",
   "metadata": {},
   "outputs": [
    {
     "name": "stdout",
     "output_type": "stream",
     "text": [
      "Division  without the remainder:  3\n"
     ]
    }
   ],
   "source": [
    "print('Division  without the remainder: ', 7 // 2)"
   ]
  },
  {
   "cell_type": "code",
   "execution_count": 10,
   "id": "29461d6e-3c65-40a2-b577-8131cd4b211d",
   "metadata": {},
   "outputs": [
    {
     "name": "stdout",
     "output_type": "stream",
     "text": [
      "Modulus :  1\n"
     ]
    }
   ],
   "source": [
    "print('Modulus : ', 3 % 2) #gives the remainder"
   ]
  },
  {
   "cell_type": "code",
   "execution_count": 11,
   "id": "da24caef-58b4-437c-8244-6c75c255c8c1",
   "metadata": {},
   "outputs": [
    {
     "name": "stdout",
     "output_type": "stream",
     "text": [
      "Division without the remainder:  2\n"
     ]
    }
   ],
   "source": [
    "print ('Division without the remainder: ', 7 // 3)"
   ]
  },
  {
   "cell_type": "code",
   "execution_count": 12,
   "id": "c11154fc-af68-4204-b491-d20f76840022",
   "metadata": {},
   "outputs": [
    {
     "name": "stdout",
     "output_type": "stream",
     "text": [
      "Exponential :  9\n"
     ]
    }
   ],
   "source": [
    "print('Exponential : ', 3**2) # it means 3 * 3"
   ]
  },
  {
   "cell_type": "markdown",
   "id": "16c62bfe-ca8b-44b7-9384-c05b093f0144",
   "metadata": {},
   "source": [
    "# Floating Numbers"
   ]
  },
  {
   "cell_type": "code",
   "execution_count": 13,
   "id": "85280e10-883e-4a3d-9f73-294e08ed2d18",
   "metadata": {},
   "outputs": [
    {
     "name": "stdout",
     "output_type": "stream",
     "text": [
      "Floating Number:, PI  3.14\n"
     ]
    }
   ],
   "source": [
    "print('Floating Number, PI ', 3.14)"
   ]
  },
  {
   "cell_type": "code",
   "execution_count": 14,
   "id": "84140b67-ac1c-41f6-ba75-b15d0e5d387a",
   "metadata": {},
   "outputs": [
    {
     "name": "stdout",
     "output_type": "stream",
     "text": [
      "Floating Number, gravity  9.81\n"
     ]
    }
   ],
   "source": [
    "print('Floating Number, gravity ', 9.81)"
   ]
  },
  {
   "cell_type": "markdown",
   "id": "e72532c8-ebb6-429c-a285-b25a8cdb7608",
   "metadata": {},
   "source": [
    "# Complex Numbers"
   ]
  },
  {
   "cell_type": "code",
   "execution_count": 15,
   "id": "907ddebe-b88f-4ef0-b068-fccd59389b74",
   "metadata": {},
   "outputs": [
    {
     "name": "stdout",
     "output_type": "stream",
     "text": [
      "Complex Number:  (1+3j)\n"
     ]
    }
   ],
   "source": [
    "print('Complex Number: ',1 +3j)"
   ]
  },
  {
   "cell_type": "code",
   "execution_count": 16,
   "id": "e6fa0c85-e9f9-4e15-98bc-1d55a2cc4aea",
   "metadata": {},
   "outputs": [
    {
     "ename": "_IncompleteInputError",
     "evalue": "incomplete input (3110338520.py, line 1)",
     "output_type": "error",
     "traceback": [
      "\u001b[1;36m  Cell \u001b[1;32mIn[16], line 1\u001b[1;36m\u001b[0m\n\u001b[1;33m    print('Multiplying Complex Number : ',(1 + 1j) * (1 -1j)\u001b[0m\n\u001b[1;37m                                                            ^\u001b[0m\n\u001b[1;31m_IncompleteInputError\u001b[0m\u001b[1;31m:\u001b[0m incomplete input\n"
     ]
    }
   ],
   "source": [
    "print('Multiplying Complex Number : ',(1 + 1j) * (1 -1j)"
   ]
  },
  {
   "cell_type": "markdown",
   "id": "931c0869-8197-48fc-a3ee-83f2930b4b36",
   "metadata": {},
   "source": [
    "# Declaring the variables at the top fist"
   ]
  },
  {
   "cell_type": "code",
   "execution_count": 17,
   "id": "56a12d16-6e09-4943-b96b-eb7af63288d6",
   "metadata": {},
   "outputs": [],
   "source": [
    "a = 3 #a is a variable name and 3 is an integer data type"
   ]
  },
  {
   "cell_type": "code",
   "execution_count": 18,
   "id": "8dff7733-8b12-4538-a863-c77d70c8ca8d",
   "metadata": {},
   "outputs": [],
   "source": [
    "b = 2 # b is a variable name and 3 is an integer data type"
   ]
  },
  {
   "cell_type": "markdown",
   "id": "d73c753a-d058-4cfe-a131-bcb5b0cb9171",
   "metadata": {},
   "source": [
    "# Arithmetic operations and assigning the result to a variable"
   ]
  },
  {
   "cell_type": "code",
   "execution_count": 20,
   "id": "f6d9ea91-984a-4547-8f51-d0d941fa6be3",
   "metadata": {},
   "outputs": [],
   "source": [
    "total =  a + b\n",
    "diff =  a - b\n",
    "product  = a * b\n",
    "division =  a/ b\n",
    "remainder = a % b\n",
    "floor_division =  a//b\n",
    "exponential = a **b"
   ]
  },
  {
   "cell_type": "code",
   "execution_count": null,
   "id": "043921e0-f5b9-4553-bd8d-41617abc4d6d",
   "metadata": {},
   "outputs": [],
   "source": [
    "# I should have used sum instead of total but sum is a built-in function try to avoid overriding builtin functions"
   ]
  },
  {
   "cell_type": "code",
   "execution_count": 22,
   "id": "7adc1a90-751a-4f39-b138-49c2208e0392",
   "metadata": {},
   "outputs": [
    {
     "name": "stdout",
     "output_type": "stream",
     "text": [
      "5\n",
      " a + b :  5\n",
      " a - b :  1\n",
      " a * b :  6\n",
      " a / b :  1.5\n",
      " a % b :  1\n",
      " a // b :  1\n",
      " a ** b :  9\n"
     ]
    }
   ],
   "source": [
    "print(total)\n",
    "print(' a + b : ', total)\n",
    "print(' a - b : ', diff)\n",
    "print(' a * b : ', product)\n",
    "print(' a / b : ', division)\n",
    "print(' a % b : ', remainder)\n",
    "print(' a // b : ', floor_division)\n",
    "print(' a ** b : ', exponential)"
   ]
  },
  {
   "cell_type": "markdown",
   "id": "999ced23-10de-43b5-acd6-af925c7eabb3",
   "metadata": {},
   "source": [
    "# Declaring values and organizing them together"
   ]
  },
  {
   "cell_type": "code",
   "execution_count": 23,
   "id": "a711d05d-b390-487a-a5af-15371f3d4a68",
   "metadata": {},
   "outputs": [],
   "source": [
    "num_one = 3\n",
    "num_two =  4"
   ]
  },
  {
   "cell_type": "markdown",
   "id": "62129fe3-9e83-4e12-a7d6-c3f82e9a6d00",
   "metadata": {},
   "source": [
    "# Arithmetic operations"
   ]
  },
  {
   "cell_type": "code",
   "execution_count": 24,
   "id": "dfde9cdc-f514-42aa-bca3-80aa982c959c",
   "metadata": {},
   "outputs": [],
   "source": [
    "total = num_one + num_two\n",
    "diff = num_two - num_one\n",
    "product = num_one * num_two\n",
    "division = num_two / num_one\n",
    "exponential = num_one ** num_two"
   ]
  },
  {
   "cell_type": "markdown",
   "id": "e3822765-86d0-4feb-b182-3f49c8a55aa4",
   "metadata": {},
   "source": [
    "# Printing values with label"
   ]
  },
  {
   "cell_type": "code",
   "execution_count": 27,
   "id": "9ad90480-4a97-4936-bcd5-eb61fedde5c0",
   "metadata": {},
   "outputs": [
    {
     "name": "stdout",
     "output_type": "stream",
     "text": [
      "total:  7\n",
      "difference:  1\n",
      "product:  12\n",
      "division:  1.3333333333333333\n",
      "exponential:  81\n"
     ]
    }
   ],
   "source": [
    "print('total: ', total)\n",
    "print('difference: ', diff)\n",
    "print('product: ', product)\n",
    "print('division: ', division)\n",
    "print('exponential: ', exponential)"
   ]
  },
  {
   "cell_type": "markdown",
   "id": "35b81ee4-cd5c-43de-82c3-988e99e492da",
   "metadata": {},
   "source": [
    "# Calculating area of a circle"
   ]
  },
  {
   "cell_type": "code",
   "execution_count": 28,
   "id": "47e29a75-96bd-4ef3-aa79-db6711c2f2ae",
   "metadata": {},
   "outputs": [
    {
     "name": "stdout",
     "output_type": "stream",
     "text": [
      "62.800000000000004\n"
     ]
    }
   ],
   "source": [
    "radius = 10\n",
    "area_of_circle = 3.14 * radius * 2\n",
    "print(area_of_circle)"
   ]
  },
  {
   "cell_type": "markdown",
   "id": "aeb41ad9-c63b-4461-8154-51a615face4d",
   "metadata": {},
   "source": [
    "# Calculating area of a rectangle"
   ]
  },
  {
   "cell_type": "code",
   "execution_count": 29,
   "id": "8a13192f-a55b-4883-be52-1136d9f81c44",
   "metadata": {},
   "outputs": [
    {
     "name": "stdout",
     "output_type": "stream",
     "text": [
      "200\n"
     ]
    }
   ],
   "source": [
    "length =  10\n",
    "width = 20\n",
    "area_of_rectangle = length * width\n",
    "print(area_of_rectangle)"
   ]
  },
  {
   "cell_type": "markdown",
   "id": "887636a2-8556-4844-ad0c-20922e02aedf",
   "metadata": {},
   "source": [
    "# Calculating a weight of an object"
   ]
  },
  {
   "cell_type": "code",
   "execution_count": 30,
   "id": "ee29f8c8-ec6c-4137-a8ef-aeb42f64e1ee",
   "metadata": {},
   "outputs": [
    {
     "name": "stdout",
     "output_type": "stream",
     "text": [
      "735.75\n"
     ]
    }
   ],
   "source": [
    "mass = 75\n",
    "gravity = 9.81\n",
    "weight = mass * gravity\n",
    "print(weight)"
   ]
  },
  {
   "cell_type": "code",
   "execution_count": 31,
   "id": "550f0b27-5421-488a-9207-22f1afec2e68",
   "metadata": {},
   "outputs": [
    {
     "name": "stdout",
     "output_type": "stream",
     "text": [
      "True\n",
      "True\n",
      "False\n",
      "True\n",
      "True\n",
      "False\n",
      "True\n",
      "False\n",
      "True\n",
      "True\n",
      "False\n",
      "True\n",
      "True\n",
      "False\n"
     ]
    }
   ],
   "source": [
    "print(3 > 2)     # True, because 3 is greater than 2\n",
    "print(3 >= 2)    # True, because 3 is greater than 2\n",
    "print(3 < 2)     # False,  because 3 is greater than 2\n",
    "print(2 < 3)     # True, because 2 is less than 3\n",
    "print(2 <= 3)    # True, because 2 is less than 3\n",
    "print(3 == 2)    # False, because 3 is not equal to 2\n",
    "print(3 != 2)    # True, because 3 is not equal to 2\n",
    "print(len('mango') == len('avocado'))  # False\n",
    "print(len('mango') != len('avocado'))  # True\n",
    "print(len('mango') < len('avocado'))   # True\n",
    "print(len('milk') != len('meat'))      # False\n",
    "print(len('milk') == len('meat'))      # True\n",
    "print(len('tomato') == len('potato'))  # True\n",
    "print(len('python') > len('dragon'))   # False"
   ]
  },
  {
   "cell_type": "markdown",
   "id": "1e4e64af-c026-4241-9c84-5632f2c4cbff",
   "metadata": {},
   "source": [
    "# Boolean comparison"
   ]
  },
  {
   "cell_type": "code",
   "execution_count": 32,
   "id": "bf899fbc-defa-4fbf-8873-55776c9d8fe0",
   "metadata": {},
   "outputs": [
    {
     "name": "stdout",
     "output_type": "stream",
     "text": [
      "True == True:  True\n",
      "True == False:  False\n",
      "False == False:  True\n",
      "True and True:  True\n",
      "True or False: True\n"
     ]
    }
   ],
   "source": [
    "print('True == True: ', True == True)\n",
    "print('True == False: ', True == False)\n",
    "print('False == False: ', False == False)\n",
    "print('True and True: ', True and True)\n",
    "print('True or False:', True or False)"
   ]
  },
  {
   "cell_type": "markdown",
   "id": "38acbd44-9b83-4eef-b6fc-98cb9e340d3e",
   "metadata": {},
   "source": [
    "# Another way comparison "
   ]
  },
  {
   "cell_type": "code",
   "execution_count": 33,
   "id": "a32d3cc1-4220-41c0-8594-57e00428d665",
   "metadata": {},
   "outputs": [
    {
     "name": "stdout",
     "output_type": "stream",
     "text": [
      "1 is 1  True\n",
      "1 is not 2 True\n",
      "A in Asabeneh True\n",
      "B in Asabeneh False\n",
      "True\n",
      "a in an: True\n",
      "4 is 2 ** 2: True\n"
     ]
    },
    {
     "name": "stderr",
     "output_type": "stream",
     "text": [
      "<>:1: SyntaxWarning: \"is\" with 'int' literal. Did you mean \"==\"?\n",
      "<>:2: SyntaxWarning: \"is not\" with 'int' literal. Did you mean \"!=\"?\n",
      "<>:7: SyntaxWarning: \"is\" with 'int' literal. Did you mean \"==\"?\n",
      "C:\\Users\\chamb\\AppData\\Local\\Temp\\ipykernel_11228\\2770059951.py:1: SyntaxWarning: \"is\" with 'int' literal. Did you mean \"==\"?\n",
      "  print('1 is 1 ', 1 is 1)       # True - because the data values are the same\n",
      "C:\\Users\\chamb\\AppData\\Local\\Temp\\ipykernel_11228\\2770059951.py:2: SyntaxWarning: \"is not\" with 'int' literal. Did you mean \"!=\"?\n",
      "  print('1 is not 2', 1 is not 2)  # True - because 1 is not 2\n",
      "C:\\Users\\chamb\\AppData\\Local\\Temp\\ipykernel_11228\\2770059951.py:7: SyntaxWarning: \"is\" with 'int' literal. Did you mean \"==\"?\n",
      "  print('4 is 2 ** 2:', 4 is 2 ** 2)   # True\n"
     ]
    }
   ],
   "source": [
    "print('1 is 1 ', 1 is 1)       # True - because the data values are the same\n",
    "print('1 is not 2', 1 is not 2)  # True - because 1 is not 2\n",
    "print('A in Asabeneh', 'A' in 'Asabeneh') # True - A found in the string\n",
    "print('B in Asabeneh', 'B' in 'Asabeneh') # False -there is no uppercase B\n",
    "print('coding' in 'coding for all') # True - because coding for all has the word coding\n",
    "print('a in an:', 'a' in 'an')      # True\n",
    "print('4 is 2 ** 2:', 4 is 2 ** 2)   # True"
   ]
  },
  {
   "cell_type": "code",
   "execution_count": 34,
   "id": "da786dc9-70d7-4b3e-8222-dce31af9b049",
   "metadata": {},
   "outputs": [
    {
     "name": "stdout",
     "output_type": "stream",
     "text": [
      "True\n",
      "False\n",
      "False\n",
      "True\n",
      "True\n",
      "False\n",
      "False\n",
      "False\n",
      "True\n",
      "True\n",
      "False\n"
     ]
    }
   ],
   "source": [
    "print(3 > 2 and 4 > 3) # True - because both statements are true\n",
    "print(3 > 2 and 4 < 3) # False - because the second statement is false\n",
    "print(3 < 2 and 4 < 3) # False - because both statements are false\n",
    "print(3 > 2 or 4 > 3)  # True - because both statements are true\n",
    "print(3 > 2 or 4 < 3)  # True - because one of the statement is true\n",
    "print(3 < 2 or 4 < 3)  # False - because both statements are false\n",
    "print(not 3 > 2)     # False - because 3 > 2 is true, then not True gives False\n",
    "print(not True)      # False - Negation, the not operator turns true to false\n",
    "print(not False)     # True\n",
    "print(not not True)  # True\n",
    "print(not not False) # False"
   ]
  },
  {
   "cell_type": "markdown",
   "id": "f261ec28-7ca1-4c1d-a3b3-2b88a0ef4f02",
   "metadata": {},
   "source": [
    "# Variables in Python"
   ]
  },
  {
   "cell_type": "code",
   "execution_count": 35,
   "id": "ceb3d439-808a-4fd5-8520-9e26a991b904",
   "metadata": {},
   "outputs": [],
   "source": [
    "first_name = 'BHAVANA'\n",
    "last_name = 'CHAMBHARE'\n",
    "country = 'INDIA'\n",
    "city = 'HINGANGHAT'\n",
    "age = 40087\n",
    "is_married = True\n",
    "skills = ['HTML', 'CSS', 'JS', 'React', 'Python']\n",
    "person_info = {\n",
    "    'firstname':'Asabeneh', \n",
    "    'lastname':'Yetayeh', \n",
    "    'country':'Finland',\n",
    "    'city':'Helsinki'\n",
    "    }"
   ]
  },
  {
   "cell_type": "code",
   "execution_count": null,
   "id": "29bd8e03-0cfb-496d-b2b2-3c6da2fd8e9c",
   "metadata": {},
   "outputs": [],
   "source": [
    "# Printing the values stored in the variables"
   ]
  },
  {
   "cell_type": "code",
   "execution_count": 36,
   "id": "86a06b88-1ff8-4604-b597-2704497ed523",
   "metadata": {},
   "outputs": [
    {
     "name": "stdout",
     "output_type": "stream",
     "text": [
      "First name: BHAVANA\n",
      "First name length: 7\n",
      "Last name:  CHAMBHARE\n",
      "Last name length:  9\n",
      "Country:  INDIA\n",
      "City:  HINGANGHAT\n",
      "Age:  40087\n",
      "Married:  True\n",
      "Skills:  ['HTML', 'CSS', 'JS', 'React', 'Python']\n",
      "Person information:  {'firstname': 'Asabeneh', 'lastname': 'Yetayeh', 'country': 'Finland', 'city': 'Helsinki'}\n"
     ]
    }
   ],
   "source": [
    "print('First name:', first_name)\n",
    "print('First name length:', len(first_name))\n",
    "print('Last name: ', last_name)\n",
    "print('Last name length: ', len(last_name))\n",
    "print('Country: ', country)\n",
    "print('City: ', city)\n",
    "print('Age: ', age)\n",
    "print('Married: ', is_married)\n",
    "print('Skills: ', skills)\n",
    "print('Person information: ', person_info)"
   ]
  },
  {
   "cell_type": "code",
   "execution_count": null,
   "id": "6b85e736-f226-4943-97c6-a1e7e37d87bc",
   "metadata": {},
   "outputs": [],
   "source": [
    "# Declaring multiple variables in one line\n"
   ]
  },
  {
   "cell_type": "code",
   "execution_count": 37,
   "id": "866afc1e-7527-47b9-b2ab-3d920b8a42ed",
   "metadata": {},
   "outputs": [],
   "source": [
    "first_name, last_name, country, age, is_married = 'Asabeneh', 'Yetayeh', 'Helsink', 250, True"
   ]
  },
  {
   "cell_type": "code",
   "execution_count": 38,
   "id": "5caf7561-a109-4a0c-9046-df9113d76d2d",
   "metadata": {},
   "outputs": [
    {
     "name": "stdout",
     "output_type": "stream",
     "text": [
      "Asabeneh Yetayeh Helsink 250 True\n",
      "First name: Asabeneh\n",
      "Last name:  Yetayeh\n",
      "Country:  Helsink\n",
      "Age:  250\n",
      "Married:  True\n"
     ]
    }
   ],
   "source": [
    "print(first_name, last_name, country, age, is_married)\n",
    "print('First name:', first_name)\n",
    "print('Last name: ', last_name)\n",
    "print('Country: ', country)\n",
    "print('Age: ', age)\n",
    "print('Married: ', is_married)"
   ]
  },
  {
   "cell_type": "code",
   "execution_count": null,
   "id": "ca58d301-8637-4c78-8f9e-171debdd6cc4",
   "metadata": {},
   "outputs": [],
   "source": []
  },
  {
   "cell_type": "code",
   "execution_count": null,
   "id": "b326fc89-a145-4ce0-bf6a-dcddf445584f",
   "metadata": {},
   "outputs": [],
   "source": []
  },
  {
   "cell_type": "code",
   "execution_count": null,
   "id": "172b8cd9-58ef-4406-b294-98904857a43f",
   "metadata": {},
   "outputs": [],
   "source": []
  },
  {
   "cell_type": "code",
   "execution_count": null,
   "id": "5a8c2e08-e6e0-4f57-8307-027c6d932d96",
   "metadata": {},
   "outputs": [],
   "source": []
  },
  {
   "cell_type": "code",
   "execution_count": null,
   "id": "539a757c-5ecb-4131-a2a6-8252780f6027",
   "metadata": {},
   "outputs": [],
   "source": []
  },
  {
   "cell_type": "code",
   "execution_count": null,
   "id": "f6d284fe-2183-4afb-99ae-7a1525b867de",
   "metadata": {},
   "outputs": [],
   "source": []
  },
  {
   "cell_type": "code",
   "execution_count": null,
   "id": "68f37322-e06a-4ec4-8e98-a02830e6c453",
   "metadata": {},
   "outputs": [],
   "source": []
  }
 ],
 "metadata": {
  "kernelspec": {
   "display_name": "Python [conda env:base] *",
   "language": "python",
   "name": "conda-base-py"
  },
  "language_info": {
   "codemirror_mode": {
    "name": "ipython",
    "version": 3
   },
   "file_extension": ".py",
   "mimetype": "text/x-python",
   "name": "python",
   "nbconvert_exporter": "python",
   "pygments_lexer": "ipython3",
   "version": "3.13.5"
  }
 },
 "nbformat": 4,
 "nbformat_minor": 5
}
