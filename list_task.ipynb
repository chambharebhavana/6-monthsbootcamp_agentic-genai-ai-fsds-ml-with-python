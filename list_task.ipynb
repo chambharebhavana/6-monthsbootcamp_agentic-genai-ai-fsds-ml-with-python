{
 "cells": [
  {
   "cell_type": "markdown",
   "id": "0a29aa7d-ab38-48f0-bd46-c9dff0d82566",
   "metadata": {},
   "source": []
  },
  {
   "cell_type": "code",
   "execution_count": 1,
   "id": "353494c2-3b87-46e0-a319-c884f775300f",
   "metadata": {},
   "outputs": [],
   "source": [
    "list1 = []"
   ]
  },
  {
   "cell_type": "code",
   "execution_count": 2,
   "id": "2b7c06ef-ed0a-4a37-af33-9a05c4bdba81",
   "metadata": {},
   "outputs": [
    {
     "data": {
      "text/plain": [
       "[]"
      ]
     },
     "execution_count": 2,
     "metadata": {},
     "output_type": "execute_result"
    }
   ],
   "source": [
    "list1"
   ]
  },
  {
   "cell_type": "code",
   "execution_count": 4,
   "id": "e82458d8-9b93-4a48-930d-a23f7c9fec05",
   "metadata": {},
   "outputs": [
    {
     "name": "stdout",
     "output_type": "stream",
     "text": [
      "<class 'list'>\n"
     ]
    }
   ],
   "source": [
    "print(type(list1))"
   ]
  },
  {
   "cell_type": "code",
   "execution_count": 5,
   "id": "4aa7e573-911c-43e0-8aef-e40ce13756b9",
   "metadata": {},
   "outputs": [],
   "source": [
    "list2 = [10,20,30]"
   ]
  },
  {
   "cell_type": "code",
   "execution_count": 7,
   "id": "301bfe74-4c9b-4302-9a91-84975f852f97",
   "metadata": {},
   "outputs": [],
   "source": [
    "list3 = [10.33,30.66,60.89]"
   ]
  },
  {
   "cell_type": "code",
   "execution_count": 8,
   "id": "b58f83ce-af38-4fbb-9254-48f4bfe91cb9",
   "metadata": {},
   "outputs": [],
   "source": [
    "list4 = ['One','two','three']"
   ]
  },
  {
   "cell_type": "code",
   "execution_count": 10,
   "id": "09c2c66b-73a8-48a5-a715-b884f8ddf325",
   "metadata": {},
   "outputs": [],
   "source": [
    "list4 = ['Asif',20,[50,100],[150,]]"
   ]
  },
  {
   "cell_type": "code",
   "execution_count": 11,
   "id": "2c20f01b-f57b-4085-9d38-0f0005a3acba",
   "metadata": {},
   "outputs": [],
   "source": [
    "list5 = ['Asif', 25 ,[50, 100],[150, 90]] "
   ]
  },
  {
   "cell_type": "code",
   "execution_count": 9,
   "id": "ec2c54d4-0073-4b7c-bd93-0ebdbb9ce541",
   "metadata": {},
   "outputs": [],
   "source": [
    "list6 = [100, 'Asif', 17.765] "
   ]
  },
  {
   "cell_type": "code",
   "execution_count": 12,
   "id": "02c19574-3bf4-44d1-a7e5-c1d7f2b82f66",
   "metadata": {},
   "outputs": [],
   "source": [
    "list7 = ['Asif', 25 ,[50, 100],[150, 90] , {'John' , 'David'}]"
   ]
  },
  {
   "cell_type": "code",
   "execution_count": 13,
   "id": "ac0dd95a-0e0d-4e3f-8ed5-3eb807264865",
   "metadata": {},
   "outputs": [
    {
     "data": {
      "text/plain": [
       "3"
      ]
     },
     "execution_count": 13,
     "metadata": {},
     "output_type": "execute_result"
    }
   ],
   "source": [
    "len(list6)"
   ]
  },
  {
   "cell_type": "code",
   "execution_count": 14,
   "id": "d70ffe8b-ba08-4291-9c5a-29a9946a10fc",
   "metadata": {},
   "outputs": [
    {
     "data": {
      "text/plain": [
       "10"
      ]
     },
     "execution_count": 14,
     "metadata": {},
     "output_type": "execute_result"
    }
   ],
   "source": [
    "list2[0] "
   ]
  },
  {
   "cell_type": "code",
   "execution_count": 15,
   "id": "6a19e2dd-8900-4092-a08a-8a496017237f",
   "metadata": {},
   "outputs": [
    {
     "data": {
      "text/plain": [
       "'Asif'"
      ]
     },
     "execution_count": 15,
     "metadata": {},
     "output_type": "execute_result"
    }
   ],
   "source": [
    "list4[0]"
   ]
  },
  {
   "cell_type": "code",
   "execution_count": 16,
   "id": "7b2051aa-3530-482e-9e83-80436b0887de",
   "metadata": {},
   "outputs": [
    {
     "data": {
      "text/plain": [
       "[150]"
      ]
     },
     "execution_count": 16,
     "metadata": {},
     "output_type": "execute_result"
    }
   ],
   "source": [
    "list4[-1]"
   ]
  },
  {
   "cell_type": "code",
   "execution_count": 17,
   "id": "53d8d56c-0c85-43e9-bada-df6fbe8815ef",
   "metadata": {},
   "outputs": [
    {
     "data": {
      "text/plain": [
       "[150, 90]"
      ]
     },
     "execution_count": 17,
     "metadata": {},
     "output_type": "execute_result"
    }
   ],
   "source": [
    "list5[-1]"
   ]
  },
  {
   "cell_type": "code",
   "execution_count": 2,
   "id": "3a9bfbd8-e1e9-4cff-8c17-3311cedaf984",
   "metadata": {},
   "outputs": [
    {
     "data": {
      "text/plain": [
       "['one', 'two', 'three', 'four', 'five', 'six', 'seven', 'eight']"
      ]
     },
     "execution_count": 2,
     "metadata": {},
     "output_type": "execute_result"
    }
   ],
   "source": [
    "mylist = ['one' , 'two' , 'three' , 'four' , 'five' , 'six' , 'seven' , 'eight'] \n",
    "mylist"
   ]
  },
  {
   "cell_type": "code",
   "execution_count": 20,
   "id": "f8678eea-b001-49b7-961c-f2ece3c06b70",
   "metadata": {},
   "outputs": [
    {
     "data": {
      "text/plain": [
       "['one', 'two', 'three']"
      ]
     },
     "execution_count": 20,
     "metadata": {},
     "output_type": "execute_result"
    }
   ],
   "source": [
    "mylist[0:3]"
   ]
  },
  {
   "cell_type": "code",
   "execution_count": 21,
   "id": "a5e342d5-bea4-4967-b4d8-8692cf3013fc",
   "metadata": {},
   "outputs": [
    {
     "data": {
      "text/plain": [
       "['three', 'four', 'five']"
      ]
     },
     "execution_count": 21,
     "metadata": {},
     "output_type": "execute_result"
    }
   ],
   "source": [
    "mylist[2:5]"
   ]
  },
  {
   "cell_type": "code",
   "execution_count": 22,
   "id": "799daca0-579c-4c7d-9fc8-0d198575d4c8",
   "metadata": {},
   "outputs": [
    {
     "data": {
      "text/plain": [
       "['one', 'two', 'three']"
      ]
     },
     "execution_count": 22,
     "metadata": {},
     "output_type": "execute_result"
    }
   ],
   "source": [
    "mylist[:3] # returns first three items"
   ]
  },
  {
   "cell_type": "code",
   "execution_count": 24,
   "id": "808ff775-85c8-4b82-8f94-03aad0702173",
   "metadata": {},
   "outputs": [
    {
     "data": {
      "text/plain": [
       "['six', 'seven', 'eight']"
      ]
     },
     "execution_count": 24,
     "metadata": {},
     "output_type": "execute_result"
    }
   ],
   "source": [
    "mylist[-3:] #returns three last items"
   ]
  },
  {
   "cell_type": "code",
   "execution_count": 25,
   "id": "a2150824-316c-4b0d-bc62-b65664efb9aa",
   "metadata": {},
   "outputs": [
    {
     "data": {
      "text/plain": [
       "['one', 'two', 'three', 'four', 'five', 'six', 'seven', 'eight']"
      ]
     },
     "execution_count": 25,
     "metadata": {},
     "output_type": "execute_result"
    }
   ],
   "source": [
    "mylist[:] # Return whole list"
   ]
  },
  {
   "cell_type": "markdown",
   "id": "5e4069a1-3cc7-4a49-a945-a05bb3d4a025",
   "metadata": {},
   "source": [
    "# Add , Remove & Change Items"
   ]
  },
  {
   "cell_type": "code",
   "execution_count": 26,
   "id": "f7069a3a-c80a-4f29-a328-6b1cc6229380",
   "metadata": {},
   "outputs": [
    {
     "data": {
      "text/plain": [
       "['one', 'two', 'three', 'four', 'five', 'six', 'seven', 'eight']"
      ]
     },
     "execution_count": 26,
     "metadata": {},
     "output_type": "execute_result"
    }
   ],
   "source": [
    "mylist"
   ]
  },
  {
   "cell_type": "code",
   "execution_count": 30,
   "id": "6055753d-741f-458a-887e-8787e9605ba2",
   "metadata": {},
   "outputs": [],
   "source": [
    "mylist.append('nine')"
   ]
  },
  {
   "cell_type": "code",
   "execution_count": 31,
   "id": "5a088f6f-bd98-43ef-8e31-248bbff2f711",
   "metadata": {},
   "outputs": [
    {
     "data": {
      "text/plain": [
       "['one',\n",
       " 'two',\n",
       " 'three',\n",
       " 'four',\n",
       " 'five',\n",
       " 'six',\n",
       " 'seven',\n",
       " 'eight',\n",
       " 'nine',\n",
       " 'nine',\n",
       " 'nine',\n",
       " 'nine']"
      ]
     },
     "execution_count": 31,
     "metadata": {},
     "output_type": "execute_result"
    }
   ],
   "source": [
    "mylist\n"
   ]
  },
  {
   "cell_type": "code",
   "execution_count": 34,
   "id": "b61a54d4-9183-4ed8-977e-8ac8acf004ed",
   "metadata": {},
   "outputs": [
    {
     "data": {
      "text/plain": [
       "'nine'"
      ]
     },
     "execution_count": 34,
     "metadata": {},
     "output_type": "execute_result"
    }
   ],
   "source": [
    "mylist.pop()"
   ]
  },
  {
   "cell_type": "code",
   "execution_count": 35,
   "id": "48d52a19-7776-40e3-a7e7-62d45bb00f4e",
   "metadata": {},
   "outputs": [
    {
     "data": {
      "text/plain": [
       "['one', 'two', 'three', 'four', 'five', 'six', 'seven', 'eight', 'nine']"
      ]
     },
     "execution_count": 35,
     "metadata": {},
     "output_type": "execute_result"
    }
   ],
   "source": [
    "mylist"
   ]
  },
  {
   "cell_type": "code",
   "execution_count": 36,
   "id": "e8b027c1-5ea2-4f84-8971-423dfdf0a97f",
   "metadata": {},
   "outputs": [],
   "source": [
    "mylist.insert(9,'ten')"
   ]
  },
  {
   "cell_type": "code",
   "execution_count": 37,
   "id": "908a146e-4aaa-4626-ba6c-dcf055d61b31",
   "metadata": {},
   "outputs": [
    {
     "data": {
      "text/plain": [
       "['one', 'two', 'three', 'four', 'five', 'six', 'seven', 'eight', 'nine', 'ten']"
      ]
     },
     "execution_count": 37,
     "metadata": {},
     "output_type": "execute_result"
    }
   ],
   "source": [
    "mylist"
   ]
  },
  {
   "cell_type": "code",
   "execution_count": 38,
   "id": "6e3f9501-fa50-4fc8-803d-d57ee081e505",
   "metadata": {},
   "outputs": [],
   "source": [
    "mylist.insert(1,'ONE')"
   ]
  },
  {
   "cell_type": "code",
   "execution_count": 39,
   "id": "ea66c8f4-3825-4d0c-a7d8-30c007468aa2",
   "metadata": {},
   "outputs": [
    {
     "data": {
      "text/plain": [
       "['one',\n",
       " 'ONE',\n",
       " 'two',\n",
       " 'three',\n",
       " 'four',\n",
       " 'five',\n",
       " 'six',\n",
       " 'seven',\n",
       " 'eight',\n",
       " 'nine',\n",
       " 'ten']"
      ]
     },
     "execution_count": 39,
     "metadata": {},
     "output_type": "execute_result"
    }
   ],
   "source": [
    "mylist"
   ]
  },
  {
   "cell_type": "code",
   "execution_count": 40,
   "id": "add77706-3d0c-49e1-86e5-9a8eeb8dce94",
   "metadata": {},
   "outputs": [],
   "source": [
    "mylist.remove('ONE')"
   ]
  },
  {
   "cell_type": "code",
   "execution_count": 41,
   "id": "af19681b-4130-465e-bde2-20324304e5d4",
   "metadata": {},
   "outputs": [
    {
     "data": {
      "text/plain": [
       "['one', 'two', 'three', 'four', 'five', 'six', 'seven', 'eight', 'nine', 'ten']"
      ]
     },
     "execution_count": 41,
     "metadata": {},
     "output_type": "execute_result"
    }
   ],
   "source": [
    "mylist"
   ]
  },
  {
   "cell_type": "code",
   "execution_count": 42,
   "id": "1d15f095-42b4-4e45-becf-aaf140c471eb",
   "metadata": {},
   "outputs": [
    {
     "data": {
      "text/plain": [
       "'nine'"
      ]
     },
     "execution_count": 42,
     "metadata": {},
     "output_type": "execute_result"
    }
   ],
   "source": [
    "mylist.pop(8)"
   ]
  },
  {
   "cell_type": "code",
   "execution_count": 43,
   "id": "18593c79-fff5-4e6b-a4b1-ae83b4e297ba",
   "metadata": {},
   "outputs": [
    {
     "data": {
      "text/plain": [
       "['one', 'two', 'three', 'four', 'five', 'six', 'seven', 'eight', 'ten']"
      ]
     },
     "execution_count": 43,
     "metadata": {},
     "output_type": "execute_result"
    }
   ],
   "source": [
    "mylist"
   ]
  },
  {
   "cell_type": "code",
   "execution_count": 44,
   "id": "67600d60-1015-4020-9dcc-f96b4009bdec",
   "metadata": {},
   "outputs": [
    {
     "data": {
      "text/plain": [
       "['one', 'two', 'three', 'four', 'five', 'six', 'seven', 'ten']"
      ]
     },
     "execution_count": 44,
     "metadata": {},
     "output_type": "execute_result"
    }
   ],
   "source": [
    "del mylist[7] # Remove item at index location 7 \n",
    "mylist "
   ]
  },
  {
   "cell_type": "code",
   "execution_count": 45,
   "id": "0a68b662-0f7f-4c44-8734-c6e48da49819",
   "metadata": {},
   "outputs": [
    {
     "data": {
      "text/plain": [
       "[1, 2, 3, 'four', 'five', 'six', 'seven', 'ten']"
      ]
     },
     "execution_count": 45,
     "metadata": {},
     "output_type": "execute_result"
    }
   ],
   "source": [
    "# Change value of the string \n",
    "mylist[0] = 1\n",
    "mylist[1] = 2\n",
    "mylist[2] = 3\n",
    "mylist"
   ]
  },
  {
   "cell_type": "code",
   "execution_count": 46,
   "id": "46271d16-c7a0-4724-af55-7d6e2317e8f5",
   "metadata": {},
   "outputs": [],
   "source": [
    "mylist.clear()"
   ]
  },
  {
   "cell_type": "code",
   "execution_count": 47,
   "id": "b8b297f5-9c10-4077-ac30-77ceeda4b009",
   "metadata": {},
   "outputs": [
    {
     "data": {
      "text/plain": [
       "[]"
      ]
     },
     "execution_count": 47,
     "metadata": {},
     "output_type": "execute_result"
    }
   ],
   "source": [
    "mylist"
   ]
  },
  {
   "cell_type": "code",
   "execution_count": 50,
   "id": "e6a9f268-3ea4-495a-a853-a703d0301298",
   "metadata": {},
   "outputs": [
    {
     "ename": "NameError",
     "evalue": "name 'mylist' is not defined",
     "output_type": "error",
     "traceback": [
      "\u001b[1;31m---------------------------------------------------------------------------\u001b[0m",
      "\u001b[1;31mNameError\u001b[0m                                 Traceback (most recent call last)",
      "Cell \u001b[1;32mIn[50], line 1\u001b[0m\n\u001b[1;32m----> 1\u001b[0m \u001b[38;5;28;01mdel\u001b[39;00m mylist\n\u001b[0;32m      2\u001b[0m mylist\n",
      "\u001b[1;31mNameError\u001b[0m: name 'mylist' is not defined"
     ]
    }
   ],
   "source": [
    "del mylist\n",
    "mylist"
   ]
  },
  {
   "cell_type": "markdown",
   "id": "7fd98b42-3353-4b25-bc8b-449f32abad62",
   "metadata": {},
   "source": [
    "# Copy List "
   ]
  },
  {
   "cell_type": "code",
   "execution_count": 7,
   "id": "9bb1b39b-6c7c-47b1-b376-8a5f33bdc153",
   "metadata": {},
   "outputs": [
    {
     "data": {
      "text/plain": [
       "['one', 'two', 'three', 'four', 'five', 'six', 'seven', 'eight', 'nine', 'ten']"
      ]
     },
     "execution_count": 7,
     "metadata": {},
     "output_type": "execute_result"
    }
   ],
   "source": [
    "mylist = ['one', 'two', 'three', 'four', 'five', 'six', 'seven', 'eight', 'nine', 'ten']\n",
    "mylist"
   ]
  },
  {
   "cell_type": "code",
   "execution_count": 8,
   "id": "f53b175c-4530-4c21-aaa7-ecbf476b17a2",
   "metadata": {},
   "outputs": [],
   "source": [
    "mylist1 = mylist   # Create a new reference \"mylist1\" "
   ]
  },
  {
   "cell_type": "code",
   "execution_count": 9,
   "id": "6e541177-a735-4b12-a93b-91ca7c4f6e03",
   "metadata": {},
   "outputs": [
    {
     "data": {
      "text/plain": [
       "(2064549179264, 2064549179264)"
      ]
     },
     "execution_count": 9,
     "metadata": {},
     "output_type": "execute_result"
    }
   ],
   "source": [
    "id(mylist) ,id(mylist1)  # The address of both mylist & mylist1 will be the same "
   ]
  },
  {
   "cell_type": "code",
   "execution_count": 10,
   "id": "61f98c8c-b60b-4e3c-a163-b85c0edf7144",
   "metadata": {},
   "outputs": [],
   "source": [
    "mylist2 = mylist.copy() # Create a copy of the list"
   ]
  },
  {
   "cell_type": "code",
   "execution_count": 11,
   "id": "e7297326-dfbc-46d6-b619-7f86016d4631",
   "metadata": {},
   "outputs": [
    {
     "data": {
      "text/plain": [
       "2064549187584"
      ]
     },
     "execution_count": 11,
     "metadata": {},
     "output_type": "execute_result"
    }
   ],
   "source": [
    "id(mylist2)"
   ]
  },
  {
   "cell_type": "code",
   "execution_count": 12,
   "id": "d4886af0-13e8-464d-b6a2-0e4437a39797",
   "metadata": {},
   "outputs": [],
   "source": [
    "mylist[0] = 1"
   ]
  },
  {
   "cell_type": "code",
   "execution_count": 13,
   "id": "f9f8d0fc-8719-4b83-bc37-1c07cc185d14",
   "metadata": {},
   "outputs": [
    {
     "data": {
      "text/plain": [
       "[1, 'two', 'three', 'four', 'five', 'six', 'seven', 'eight', 'nine', 'ten']"
      ]
     },
     "execution_count": 13,
     "metadata": {},
     "output_type": "execute_result"
    }
   ],
   "source": [
    "mylist"
   ]
  },
  {
   "cell_type": "code",
   "execution_count": 14,
   "id": "0fa12cd9-37c3-4c0b-910a-55cdf35a0d7e",
   "metadata": {},
   "outputs": [
    {
     "data": {
      "text/plain": [
       "[1, 'two', 'three', 'four', 'five', 'six', 'seven', 'eight', 'nine', 'ten']"
      ]
     },
     "execution_count": 14,
     "metadata": {},
     "output_type": "execute_result"
    }
   ],
   "source": [
    "mylist1 # mylist1 willl be impacted as it is pointing to the same list"
   ]
  },
  {
   "cell_type": "code",
   "execution_count": 15,
   "id": "53ebafa5-7ea3-4606-85cd-e94a1c3b255a",
   "metadata": {},
   "outputs": [
    {
     "data": {
      "text/plain": [
       "['one', 'two', 'three', 'four', 'five', 'six', 'seven', 'eight', 'nine', 'ten']"
      ]
     },
     "execution_count": 15,
     "metadata": {},
     "output_type": "execute_result"
    }
   ],
   "source": [
    "mylist2 # copy of the list wont be impacted on the original list"
   ]
  },
  {
   "cell_type": "markdown",
   "id": "b59bcfdf-30a7-4fa7-996f-d0da19806c92",
   "metadata": {},
   "source": [
    "# Join Lists"
   ]
  },
  {
   "cell_type": "code",
   "execution_count": 16,
   "id": "948b47aa-23a1-4bcb-ba83-8ff9cbf7cf30",
   "metadata": {},
   "outputs": [],
   "source": [
    "list1 = ['one', 'two', 'three', 'four'] \n",
    "list2 = ['five', 'six', 'seven', 'eight'] "
   ]
  },
  {
   "cell_type": "code",
   "execution_count": 17,
   "id": "e459ed30-a863-4c70-b840-81be0e3fe944",
   "metadata": {},
   "outputs": [],
   "source": [
    "list3 = list1 + list2  #2 lists are joined using + operator"
   ]
  },
  {
   "cell_type": "code",
   "execution_count": 18,
   "id": "16c8d661-b811-4666-99c2-cb903e3a5688",
   "metadata": {},
   "outputs": [
    {
     "data": {
      "text/plain": [
       "['one', 'two', 'three', 'four', 'five', 'six', 'seven', 'eight']"
      ]
     },
     "execution_count": 18,
     "metadata": {},
     "output_type": "execute_result"
    }
   ],
   "source": [
    "list3"
   ]
  },
  {
   "cell_type": "code",
   "execution_count": 19,
   "id": "c9e99ca2-d0d9-4e5d-9f13-463a84df5b21",
   "metadata": {},
   "outputs": [
    {
     "data": {
      "text/plain": [
       "['one', 'two', 'three', 'four', 'five', 'six', 'seven', 'eight']"
      ]
     },
     "execution_count": 19,
     "metadata": {},
     "output_type": "execute_result"
    }
   ],
   "source": [
    "list1.extend(list2)\n",
    "list1"
   ]
  },
  {
   "cell_type": "code",
   "execution_count": 20,
   "id": "2853c0a3-e7f7-4a9d-89d2-2b33b8893acf",
   "metadata": {},
   "outputs": [
    {
     "data": {
      "text/plain": [
       "['one', 'two', 'three', 'four', 'five', 'six', 'seven', 'eight']"
      ]
     },
     "execution_count": 20,
     "metadata": {},
     "output_type": "execute_result"
    }
   ],
   "source": [
    "list3"
   ]
  },
  {
   "cell_type": "markdown",
   "id": "6e0a823a-dcfe-42d7-a011-b9d3399fbad8",
   "metadata": {},
   "source": [
    "# List Membership "
   ]
  },
  {
   "cell_type": "code",
   "execution_count": 21,
   "id": "7036138d-e1b6-4751-b0e2-f891781f724d",
   "metadata": {},
   "outputs": [
    {
     "data": {
      "text/plain": [
       "['one', 'two', 'three', 'four', 'five', 'six', 'seven', 'eight']"
      ]
     },
     "execution_count": 21,
     "metadata": {},
     "output_type": "execute_result"
    }
   ],
   "source": [
    "list1\n"
   ]
  },
  {
   "cell_type": "code",
   "execution_count": 23,
   "id": "d742a583-f1a9-4232-a43a-3ee5411c29ad",
   "metadata": {},
   "outputs": [
    {
     "data": {
      "text/plain": [
       "True"
      ]
     },
     "execution_count": 23,
     "metadata": {},
     "output_type": "execute_result"
    }
   ],
   "source": [
    "'one' in list1  # Check if 'one' exist in the list"
   ]
  },
  {
   "cell_type": "code",
   "execution_count": 25,
   "id": "68bd72f6-3be3-49e8-a3e8-3fa0a6b70723",
   "metadata": {},
   "outputs": [
    {
     "data": {
      "text/plain": [
       "False"
      ]
     },
     "execution_count": 25,
     "metadata": {},
     "output_type": "execute_result"
    }
   ],
   "source": [
    "'ten' in list1"
   ]
  },
  {
   "cell_type": "code",
   "execution_count": 27,
   "id": "bd9188cd-e895-45a8-bfc6-0cd35d0c817a",
   "metadata": {},
   "outputs": [
    {
     "name": "stdout",
     "output_type": "stream",
     "text": [
      "Three is present in the list\n"
     ]
    }
   ],
   "source": [
    "if 'three' in list1:\n",
    "    print('Three is present in the list')\n",
    "else:\n",
    "    print('Three is not present in the list')"
   ]
  },
  {
   "cell_type": "code",
   "execution_count": 28,
   "id": "635bbda1-8029-47da-85bf-454c184c5918",
   "metadata": {},
   "outputs": [
    {
     "name": "stdout",
     "output_type": "stream",
     "text": [
      "Three is not present in the list\n"
     ]
    }
   ],
   "source": [
    "if 'eleven' in list1:\n",
    "    print('Three is present in the list')\n",
    "else:\n",
    "    print('Three is not present in the list')"
   ]
  },
  {
   "cell_type": "markdown",
   "id": "d68d3693-2fbe-420b-903a-f2a31632a597",
   "metadata": {},
   "source": [
    "# Reverse and Sort LIst"
   ]
  },
  {
   "cell_type": "code",
   "execution_count": 30,
   "id": "9ece8892-82ed-44a6-aad4-696ccb6824e5",
   "metadata": {},
   "outputs": [
    {
     "data": {
      "text/plain": [
       "['one', 'two', 'three', 'four', 'five', 'six', 'seven', 'eight']"
      ]
     },
     "execution_count": 30,
     "metadata": {},
     "output_type": "execute_result"
    }
   ],
   "source": [
    "list1"
   ]
  },
  {
   "cell_type": "code",
   "execution_count": 33,
   "id": "049ae952-994a-4a54-b85c-e30cbbaf2f14",
   "metadata": {},
   "outputs": [
    {
     "data": {
      "text/plain": [
       "['eight', 'seven', 'six', 'five', 'four', 'three', 'two', 'one']"
      ]
     },
     "execution_count": 33,
     "metadata": {},
     "output_type": "execute_result"
    }
   ],
   "source": [
    "list1.reverse() # Reverse the list \n",
    "list1 "
   ]
  },
  {
   "cell_type": "code",
   "execution_count": 34,
   "id": "6bcd90fc-c8c5-4e7d-aac1-945086f08587",
   "metadata": {},
   "outputs": [
    {
     "data": {
      "text/plain": [
       "['one', 'two', 'three', 'four', 'five', 'six', 'seven', 'eight']"
      ]
     },
     "execution_count": 34,
     "metadata": {},
     "output_type": "execute_result"
    }
   ],
   "source": [
    "list1 = list1[::-1] # Reverse the list \n",
    "list1 \n"
   ]
  },
  {
   "cell_type": "code",
   "execution_count": 35,
   "id": "3f8b20aa-f164-42c1-a4af-27aa6d674a41",
   "metadata": {},
   "outputs": [
    {
     "data": {
      "text/plain": [
       "[2, 5, 9, 12, 34, 88, 99]"
      ]
     },
     "execution_count": 35,
     "metadata": {},
     "output_type": "execute_result"
    }
   ],
   "source": [
    "mylist3 = [9,5,2,99,12,88,34]\n",
    "mylist3.sort()# Sort list in ascending order \n",
    "mylist3"
   ]
  },
  {
   "cell_type": "code",
   "execution_count": null,
   "id": "01a38a2b-56be-46b8-a188-feaa381f28ca",
   "metadata": {},
   "outputs": [],
   "source": [
    "mylist3 = [9,5,2,99,12,88,34]\n",
    "mylist3.sort(reverse = True)\n",
    "mylist3# Sort list in descending order "
   ]
  },
  {
   "cell_type": "code",
   "execution_count": 36,
   "id": "6755e1e3-811f-4c37-b6c9-26f29d5dc102",
   "metadata": {},
   "outputs": [
    {
     "data": {
      "text/plain": [
       "[11, 21, 33, 65, 88, 98]"
      ]
     },
     "execution_count": 36,
     "metadata": {},
     "output_type": "execute_result"
    }
   ],
   "source": [
    "mylist4 = [88,65,33,21,11,98] \n",
    "sorted(mylist4) "
   ]
  },
  {
   "cell_type": "code",
   "execution_count": 37,
   "id": "4d0a8d26-12ac-4c03-9142-7241ea21b2a2",
   "metadata": {},
   "outputs": [
    {
     "data": {
      "text/plain": [
       "[88, 65, 33, 21, 11, 98]"
      ]
     },
     "execution_count": 37,
     "metadata": {},
     "output_type": "execute_result"
    }
   ],
   "source": [
    "mylist4"
   ]
  },
  {
   "cell_type": "markdown",
   "id": "66ae6c84-1c78-4aee-8886-101b0c4ba6d7",
   "metadata": {},
   "source": [
    "# Loop through a list "
   ]
  },
  {
   "cell_type": "code",
   "execution_count": 38,
   "id": "fb33ab12-af42-4584-9e77-eb51c1d6d0c6",
   "metadata": {},
   "outputs": [
    {
     "data": {
      "text/plain": [
       "['one', 'two', 'three', 'four', 'five', 'six', 'seven', 'eight']"
      ]
     },
     "execution_count": 38,
     "metadata": {},
     "output_type": "execute_result"
    }
   ],
   "source": [
    "list1"
   ]
  },
  {
   "cell_type": "markdown",
   "id": "6fa14546-9b0e-4669-91d0-239713c3fb1d",
   "metadata": {},
   "source": [
    "for i in list1:\n",
    "    print(i)"
   ]
  },
  {
   "cell_type": "code",
   "execution_count": 40,
   "id": "152b1f31-dc21-4083-99a6-d47ecf2e7103",
   "metadata": {},
   "outputs": [
    {
     "name": "stdout",
     "output_type": "stream",
     "text": [
      "(0, 'one')\n",
      "(1, 'two')\n",
      "(2, 'three')\n",
      "(3, 'four')\n",
      "(4, 'five')\n",
      "(5, 'six')\n",
      "(6, 'seven')\n",
      "(7, 'eight')\n"
     ]
    }
   ],
   "source": [
    "for i in enumerate(list1):\n",
    "    print(i)"
   ]
  },
  {
   "cell_type": "markdown",
   "id": "aac990ab-839f-4648-a9ed-cce87eb8492b",
   "metadata": {},
   "source": [
    "# Count"
   ]
  },
  {
   "cell_type": "code",
   "execution_count": 43,
   "id": "eab32eaa-2a86-4e1d-96ac-75cdb377280b",
   "metadata": {},
   "outputs": [],
   "source": [
    "list10 =['one', 'two', 'three', 'four', 'one', 'one', 'two', 'three']"
   ]
  },
  {
   "cell_type": "code",
   "execution_count": 44,
   "id": "a223196c-6f21-4e56-b777-6ceeddb5fc14",
   "metadata": {},
   "outputs": [
    {
     "data": {
      "text/plain": [
       "3"
      ]
     },
     "execution_count": 44,
     "metadata": {},
     "output_type": "execute_result"
    }
   ],
   "source": [
    "list10.count('one')"
   ]
  },
  {
   "cell_type": "code",
   "execution_count": 45,
   "id": "733e57f6-d60a-4d61-bf94-3b0377b9098f",
   "metadata": {},
   "outputs": [
    {
     "data": {
      "text/plain": [
       "2"
      ]
     },
     "execution_count": 45,
     "metadata": {},
     "output_type": "execute_result"
    }
   ],
   "source": [
    "list10.count('two')"
   ]
  },
  {
   "cell_type": "code",
   "execution_count": 46,
   "id": "1b35efba-145b-4be9-8e30-a90514fb4852",
   "metadata": {},
   "outputs": [
    {
     "data": {
      "text/plain": [
       "1"
      ]
     },
     "execution_count": 46,
     "metadata": {},
     "output_type": "execute_result"
    }
   ],
   "source": [
    "list10.count('four')"
   ]
  },
  {
   "cell_type": "markdown",
   "id": "eec6ee81-6223-4f0d-b264-8febfa5b050c",
   "metadata": {},
   "source": [
    "# All / Any"
   ]
  },
  {
   "cell_type": "code",
   "execution_count": 47,
   "id": "eae2708d-4edd-49f0-a788-06541d7e66bb",
   "metadata": {},
   "outputs": [],
   "source": [
    "L1 = [1,2,3,4,0]"
   ]
  },
  {
   "cell_type": "code",
   "execution_count": 48,
   "id": "b0ec6226-9d48-4ec3-9c7b-fedd783d601d",
   "metadata": {},
   "outputs": [
    {
     "data": {
      "text/plain": [
       "False"
      ]
     },
     "execution_count": 48,
     "metadata": {},
     "output_type": "execute_result"
    }
   ],
   "source": [
    "all(L1)"
   ]
  },
  {
   "cell_type": "code",
   "execution_count": 49,
   "id": "60ac9dc6-5fc7-42a2-991e-b77ecbd301b1",
   "metadata": {},
   "outputs": [
    {
     "data": {
      "text/plain": [
       "True"
      ]
     },
     "execution_count": 49,
     "metadata": {},
     "output_type": "execute_result"
    }
   ],
   "source": [
    "any(L1)"
   ]
  },
  {
   "cell_type": "code",
   "execution_count": 50,
   "id": "66b55347-7b7a-4142-a594-edc0a473a915",
   "metadata": {},
   "outputs": [],
   "source": [
    "L2 = [1,2,3,4,True,False]"
   ]
  },
  {
   "cell_type": "code",
   "execution_count": 51,
   "id": "2b26afcc-504e-41d4-ac62-7f963c79578e",
   "metadata": {},
   "outputs": [
    {
     "data": {
      "text/plain": [
       "False"
      ]
     },
     "execution_count": 51,
     "metadata": {},
     "output_type": "execute_result"
    }
   ],
   "source": [
    "all(L2)"
   ]
  },
  {
   "cell_type": "code",
   "execution_count": 52,
   "id": "fb8346b6-6283-4a24-a5aa-b8c7c722cde3",
   "metadata": {},
   "outputs": [
    {
     "data": {
      "text/plain": [
       "True"
      ]
     },
     "execution_count": 52,
     "metadata": {},
     "output_type": "execute_result"
    }
   ],
   "source": [
    "any(L2)"
   ]
  },
  {
   "cell_type": "code",
   "execution_count": 53,
   "id": "cbc64ec4-0ae8-4667-b3d2-0db4fde7fb68",
   "metadata": {},
   "outputs": [],
   "source": [
    "L3 = [1,2,3,True]"
   ]
  },
  {
   "cell_type": "code",
   "execution_count": 54,
   "id": "6c0e8ae6-0692-467d-b691-8e1724e8882e",
   "metadata": {},
   "outputs": [
    {
     "data": {
      "text/plain": [
       "True"
      ]
     },
     "execution_count": 54,
     "metadata": {},
     "output_type": "execute_result"
    }
   ],
   "source": [
    "all(L3)"
   ]
  },
  {
   "cell_type": "code",
   "execution_count": null,
   "id": "60e2d481-105f-466c-9ffe-70636ac8c0d1",
   "metadata": {},
   "outputs": [],
   "source": []
  },
  {
   "cell_type": "code",
   "execution_count": null,
   "id": "56c36bad-925d-46b0-8a25-686d694d28e1",
   "metadata": {},
   "outputs": [],
   "source": []
  },
  {
   "cell_type": "code",
   "execution_count": null,
   "id": "3f4f2124-b08b-4c59-a396-e6f57c8dbe16",
   "metadata": {},
   "outputs": [],
   "source": []
  },
  {
   "cell_type": "code",
   "execution_count": null,
   "id": "b6d98ca8-fae0-4bc0-91b0-081c234c64ce",
   "metadata": {},
   "outputs": [],
   "source": []
  },
  {
   "cell_type": "code",
   "execution_count": null,
   "id": "1d26ea5d-7564-41b9-bbe8-e3fb6d45d15f",
   "metadata": {},
   "outputs": [],
   "source": []
  }
 ],
 "metadata": {
  "kernelspec": {
   "display_name": "Python 3 (ipykernel)",
   "language": "python",
   "name": "python3"
  },
  "language_info": {
   "codemirror_mode": {
    "name": "ipython",
    "version": 3
   },
   "file_extension": ".py",
   "mimetype": "text/x-python",
   "name": "python",
   "nbconvert_exporter": "python",
   "pygments_lexer": "ipython3",
   "version": "3.13.5"
  }
 },
 "nbformat": 4,
 "nbformat_minor": 5
}
