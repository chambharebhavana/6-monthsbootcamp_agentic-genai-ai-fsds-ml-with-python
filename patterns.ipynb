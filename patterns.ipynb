{
 "cells": [
  {
   "cell_type": "markdown",
   "id": "7d939467-6568-4edb-9e06-ee3876289d27",
   "metadata": {},
   "source": [
    "## 1.Right Angle Triangle Pattern"
   ]
  },
  {
   "cell_type": "code",
   "execution_count": 5,
   "id": "9e88c3ee-f8d9-48c1-8531-52c37cf11f52",
   "metadata": {},
   "outputs": [
    {
     "name": "stdout",
     "output_type": "stream",
     "text": [
      " * \n",
      " *  * \n",
      " *  *  * \n",
      " *  *  *  * \n",
      " *  *  *  *  * \n"
     ]
    }
   ],
   "source": [
    "for i in range(1,6):\n",
    "    print(' * '*i)"
   ]
  },
  {
   "cell_type": "markdown",
   "id": "f7e9afef-6ecc-4cd4-9438-4f0910734316",
   "metadata": {},
   "source": [
    "## 2. Inverted Right Angle Trinagle pattern"
   ]
  },
  {
   "cell_type": "code",
   "execution_count": 6,
   "id": "1a852bbf-f7a1-4c9a-a950-71a6294242dc",
   "metadata": {},
   "outputs": [
    {
     "name": "stdout",
     "output_type": "stream",
     "text": [
      " *  *  *  *  * \n",
      " *  *  *  * \n",
      " *  *  * \n",
      " *  * \n",
      " * \n"
     ]
    }
   ],
   "source": [
    "for i in range(5,0,-1):\n",
    "    print(' * '*i)"
   ]
  },
  {
   "cell_type": "markdown",
   "id": "726de6d8-374f-4a1d-84e8-3238e4f741b7",
   "metadata": {},
   "source": [
    "## 3. Pyramid Pattern"
   ]
  },
  {
   "cell_type": "code",
   "execution_count": 7,
   "id": "1417a834-9c85-44ec-88ea-1c9040776b5d",
   "metadata": {},
   "outputs": [
    {
     "name": "stdout",
     "output_type": "stream",
     "text": [
      " * \n",
      " *  *  * \n",
      " *  *  *  *  * \n",
      " *  *  *  *  *  *  * \n",
      " *  *  *  *  *  *  *  *  * \n"
     ]
    }
   ],
   "source": [
    "for i in range(1,6):\n",
    "    print(''*(5-i)+' * '*(2*i-1))"
   ]
  },
  {
   "cell_type": "markdown",
   "id": "75efcc2c-31e3-4618-828a-49dae1d719e9",
   "metadata": {},
   "source": [
    "## 4. Inverted Pyramid Pattern"
   ]
  },
  {
   "cell_type": "code",
   "execution_count": 8,
   "id": "728ad189-0950-436a-ad46-a2d6714c8bb0",
   "metadata": {},
   "outputs": [
    {
     "name": "stdout",
     "output_type": "stream",
     "text": [
      " *  *  *  *  *  *  *  *  * \n",
      " *  *  *  *  *  *  * \n",
      " *  *  *  *  * \n",
      " *  *  * \n",
      " * \n"
     ]
    }
   ],
   "source": [
    "for i in range(5,0, -1):\n",
    "    print(''*(5-i)+' * '*(2*i-1))"
   ]
  },
  {
   "cell_type": "markdown",
   "id": "7998bce1-8be5-42e3-9a1b-3a0781faefc9",
   "metadata": {},
   "source": [
    "## 5. Diamond Pattern'"
   ]
  },
  {
   "cell_type": "code",
   "execution_count": 9,
   "id": "8b206ad1-8bbb-4899-a3f3-7174dc0664b1",
   "metadata": {},
   "outputs": [
    {
     "name": "stdout",
     "output_type": "stream",
     "text": [
      " * \n",
      " *  *  * \n",
      " *  *  *  *  * \n",
      " *  *  *  *  *  *  * \n",
      " *  *  *  *  *  *  *  *  * \n",
      " *  *  *  *  *  *  * \n",
      " *  *  *  *  * \n",
      " *  *  * \n",
      " * \n"
     ]
    }
   ],
   "source": [
    "for i in range(1,6):\n",
    "    print(''*(5-i)+' * '*(2*i-1))\n",
    "for i in range(4,0,-1):\n",
    "    print(''*(5-i)+' * '*(2*i-1))"
   ]
  },
  {
   "cell_type": "markdown",
   "id": "b587ad4f-19dc-4439-b3df-634e6b25d04e",
   "metadata": {},
   "source": [
    "## 6. HAllow Square Pattern"
   ]
  },
  {
   "cell_type": "code",
   "execution_count": 10,
   "id": "41ba8739-de96-425f-a5e9-92bfd50da2f8",
   "metadata": {},
   "outputs": [
    {
     "name": "stdout",
     "output_type": "stream",
     "text": [
      "*****\n",
      "*   *\n",
      "*   *\n",
      "*   *\n",
      "*****\n"
     ]
    }
   ],
   "source": [
    "for i in range(5):\n",
    "    for j in range(5):\n",
    "        if i== 0 or i==4 or j==0 or j== 4:\n",
    "            print('*', end= '')\n",
    "        else:\n",
    "            print(' ',end='')\n",
    "    print()"
   ]
  },
  {
   "cell_type": "markdown",
   "id": "afe71dff-571b-4c35-bcb9-838de7a13ed1",
   "metadata": {},
   "source": [
    "## 7. Full Square Pattern"
   ]
  },
  {
   "cell_type": "code",
   "execution_count": 13,
   "id": "b2a4d180-22c3-495d-96ae-6df3e4c456e1",
   "metadata": {},
   "outputs": [
    {
     "name": "stdout",
     "output_type": "stream",
     "text": [
      " *  *  *  *  * \n",
      " *  *  *  *  * \n",
      " *  *  *  *  * \n",
      " *  *  *  *  * \n",
      " *  *  *  *  * \n"
     ]
    }
   ],
   "source": [
    "for i in range(5):\n",
    "    print((' * '*5))"
   ]
  },
  {
   "cell_type": "markdown",
   "id": "01b25c00-d276-47a0-af4e-f9c655380eb5",
   "metadata": {},
   "source": [
    "## 8. Right Angle Triangle(Number Pattern)"
   ]
  },
  {
   "cell_type": "code",
   "execution_count": 14,
   "id": "b5c4b207-b919-4478-8b94-8de60e378391",
   "metadata": {},
   "outputs": [
    {
     "name": "stdout",
     "output_type": "stream",
     "text": [
      "1\n",
      "1 2\n",
      "1 2 3\n",
      "1 2 3 4\n",
      "1 2 3 4 5\n"
     ]
    }
   ],
   "source": [
    "for i in range(1,6):\n",
    "    print(' '.join(str(x) for x in range(1, i + 1)))"
   ]
  },
  {
   "cell_type": "markdown",
   "id": "6f073623-a366-4f8c-ae7f-71f7804fd1f6",
   "metadata": {},
   "source": [
    "## 9. Inverted Right Angle Triangle(Number Pattern)"
   ]
  },
  {
   "cell_type": "code",
   "execution_count": 16,
   "id": "90dc78c4-7989-4ab2-8001-fd5a46d18c84",
   "metadata": {},
   "outputs": [
    {
     "name": "stdout",
     "output_type": "stream",
     "text": [
      "1 2 3 4 5\n",
      "1 2 3 4\n",
      "1 2 3\n",
      "1 2\n",
      "1\n"
     ]
    }
   ],
   "source": [
    "for i in range(5,0, -1):\n",
    "    print(' '.join(str(x) for x in range(1, i + 1)))"
   ]
  },
  {
   "cell_type": "markdown",
   "id": "bd4e8df8-8567-41d6-a59a-aebe3a67b3ba",
   "metadata": {},
   "source": [
    "## 10. Floyd's Trinagle"
   ]
  },
  {
   "cell_type": "code",
   "execution_count": 17,
   "id": "773634a6-affa-4ad5-b06b-6b0eb47b82ea",
   "metadata": {},
   "outputs": [
    {
     "name": "stdout",
     "output_type": "stream",
     "text": [
      "1 \n",
      "2 3 \n",
      "4 5 6 \n",
      "7 8 9 10 \n",
      "11 12 13 14 15 \n"
     ]
    }
   ],
   "source": [
    "num = 1\n",
    "for i in range(1,6):\n",
    "    for j in range(1, i+1):\n",
    "        print(num, end= ' ')\n",
    "        num+=1\n",
    "    print()"
   ]
  },
  {
   "cell_type": "markdown",
   "id": "fdf694e3-e1e3-4270-8c26-aaceed66c2c2",
   "metadata": {},
   "source": [
    "## 11.  Hallow Right Angle Triangle"
   ]
  },
  {
   "cell_type": "code",
   "execution_count": 19,
   "id": "e1ed9626-bf8a-4f1e-b5c7-717508d811cd",
   "metadata": {},
   "outputs": [
    {
     "name": "stdout",
     "output_type": "stream",
     "text": [
      "* \n",
      "* * \n",
      "*   * \n",
      "*     * \n",
      "* * * * * \n"
     ]
    }
   ],
   "source": [
    "for i in range(1,6):\n",
    "    for j in range(1, i +1):\n",
    "        if j == 1 or j== i or i == 5:\n",
    "            print('*', end=' ')\n",
    "        else:\n",
    "            print(' ', end=' ')\n",
    "    print()"
   ]
  },
  {
   "cell_type": "markdown",
   "id": "d0345a45-3c14-4031-b884-f759b6599f72",
   "metadata": {},
   "source": [
    "## 12. Hallow Pyramid pattern"
   ]
  },
  {
   "cell_type": "code",
   "execution_count": 1,
   "id": "a2a3a4a2-c568-4ef8-a789-7a0f57982b56",
   "metadata": {},
   "outputs": [
    {
     "name": "stdout",
     "output_type": "stream",
     "text": [
      "        * \n",
      "      *   * \n",
      "    *       * \n",
      "  *           * \n",
      "* * * * * * * * * \n"
     ]
    }
   ],
   "source": [
    "for i in range(1,6):\n",
    "    for j in range(5 - i):\n",
    "        print(' ', end=' ')\n",
    "    for j in range(2 * i -1):\n",
    "        if j == 0 or j ==2 * i -2 or i ==5:\n",
    "            print('*', end=' ')\n",
    "        else:\n",
    "            print(' ', end=' ')\n",
    "    print()\n",
    "    "
   ]
  },
  {
   "cell_type": "markdown",
   "id": "5881048f-e075-423e-b645-46f1eadef727",
   "metadata": {},
   "source": [
    "## 13. Hallow Diamond Pattern"
   ]
  },
  {
   "cell_type": "code",
   "execution_count": 3,
   "id": "06ef2b8c-7296-44b6-9769-eb33f40ee88a",
   "metadata": {},
   "outputs": [
    {
     "name": "stdout",
     "output_type": "stream",
     "text": [
      "        * \n",
      "      *   * \n",
      "    *       * \n",
      "  *           * \n",
      "*               * \n",
      "  *           * \n",
      "    *       * \n",
      "      *   * \n",
      "        * \n"
     ]
    }
   ],
   "source": [
    "n = 5\n",
    "for i in range(1, n +1):\n",
    "    for j in range(n - i):\n",
    "        print(' ', end=' ')\n",
    "    for j in range(2 * i -1):\n",
    "        if j == 0 or j == 2*i -2:\n",
    "            print('*', end=' ')\n",
    "        else:\n",
    "            print(' ', end=' ')\n",
    "    print()\n",
    "\n",
    "for i in range(n -1, 0, -1):\n",
    "    for j in range(n - i):\n",
    "        print(' ', end=' ')\n",
    "    for j in range(2 * i -1):\n",
    "        if j == 0 or j == 2*i -2:\n",
    "            print('*', end=' ')\n",
    "        else:\n",
    "            print(' ', end=' ')\n",
    "    print()"
   ]
  },
  {
   "cell_type": "markdown",
   "id": "e8414d6f-c75a-497c-9d0a-4186a7b3a57e",
   "metadata": {},
   "source": [
    "## 14. Hallow Diamond(Number Pattern)"
   ]
  },
  {
   "cell_type": "code",
   "execution_count": 4,
   "id": "357a5dcf-daae-466e-9434-bfb7daa77077",
   "metadata": {},
   "outputs": [
    {
     "name": "stdout",
     "output_type": "stream",
     "text": [
      "        1 \n",
      "      2   2 \n",
      "    3       3 \n",
      "  4           4 \n",
      "5               5 \n",
      "  4           4 \n",
      "    3       3 \n",
      "      2   2 \n",
      "        1 \n"
     ]
    }
   ],
   "source": [
    "n = 5\n",
    "for i in range(1, n+1):\n",
    "    for j in range(n - i):\n",
    "        print(' ', end=' ')\n",
    "    for j in range(2* i -1):\n",
    "        if j == 0 or j == 2 * i -2:\n",
    "            print(i, end=' ')\n",
    "        else:\n",
    "            print(' ', end=' ')\n",
    "    print()\n",
    "for i in range(n -1, 0, -1):\n",
    "    for j in range(n - i):\n",
    "        print(' ', end=' ')\n",
    "    for j in range(2* i -1):\n",
    "        if j == 0 or j == 2 * i -2:\n",
    "            print(i, end=' ')\n",
    "        else:\n",
    "            print(' ', end=' ')\n",
    "    print()\n"
   ]
  },
  {
   "cell_type": "markdown",
   "id": "6729225c-f2b3-482e-b790-c6fb3fddadf4",
   "metadata": {},
   "source": [
    "## 15. Butterfly Pattern"
   ]
  },
  {
   "cell_type": "code",
   "execution_count": 8,
   "id": "ea30181e-caed-4d83-9608-60e13be8e572",
   "metadata": {},
   "outputs": [
    {
     "name": "stdout",
     "output_type": "stream",
     "text": [
      "1                 1 \n",
      "1 2             1 2 \n",
      "1 2 3         1 2 3 \n",
      "1 2 3 4     1 2 3 4 \n",
      "1 2 3 4 5 1 2 3 4 5 \n",
      "1 2 3 4 5 1 2 3 4 5 \n",
      "1 2 3 4     1 2 3 4 \n",
      "1 2 3         1 2 3 \n",
      "1 2             1 2 \n",
      "1                 1 \n",
      "*                 * \n",
      "* *             * * \n",
      "* * *         * * * \n",
      "* * * *     * * * * \n",
      "* * * * * * * * * * \n",
      "* * * * * * * * * * \n",
      "* * * *     * * * * \n",
      "* * *         * * * \n",
      "* *             * * \n",
      "*                 * \n"
     ]
    }
   ],
   "source": [
    "n = 5\n",
    "for i in range(1, n+1):\n",
    "    for j in range(1, i +1):\n",
    "        print(j, end=' ')\n",
    "    for j in range(2 * (n -i)):\n",
    "        print(' ', end=' ')\n",
    "    for j in range(1, i +1):\n",
    "        print(j, end=' ')\n",
    "    print()\n",
    "for i in range(n, 0, -1):\n",
    "    for j in range(1, i +1):\n",
    "        print(j, end=' ')\n",
    "    for j in range(2 * (n -i)):\n",
    "        print(' ', end=' ')\n",
    "    for j in range(1, i +1):\n",
    "        print(j, end=' ')\n",
    "    print()\n",
    "n = 5\n",
    "for i in range(1, n+1):\n",
    "    for j in range(1, i +1):\n",
    "        print('*', end=' ')\n",
    "    for j in range(2 * (n -i)):\n",
    "        print(' ', end=' ')\n",
    "    for j in range(1, i +1):\n",
    "        print('*', end=' ')\n",
    "    print()\n",
    "for i in range(n, 0, -1):\n",
    "    for j in range(1, i +1):\n",
    "        print('*', end=' ')\n",
    "    for j in range(2 * (n -i)):\n",
    "        print(' ', end=' ')\n",
    "    for j in range(1, i +1):\n",
    "        print('*', end=' ')\n",
    "    print()\n",
    "    \n",
    "    "
   ]
  },
  {
   "cell_type": "markdown",
   "id": "5d040d4c-8820-4e60-8e1f-1da91265e99a",
   "metadata": {},
   "source": [
    "## 16. Hallow Number Pyramid"
   ]
  },
  {
   "cell_type": "code",
   "execution_count": 10,
   "id": "5d5ffca5-5f7f-42ea-a9c1-5d4c30a98945",
   "metadata": {},
   "outputs": [
    {
     "name": "stdout",
     "output_type": "stream",
     "text": [
      "        1 \n",
      "      2   2 \n",
      "    3       3 \n",
      "  4           4 \n",
      "5 5 5 5 5 5 5 5 5 \n"
     ]
    }
   ],
   "source": [
    "n= 5\n",
    "for i in range(1, n+1):\n",
    "    for j in range(n-i):\n",
    "        print(' ', end=' ')\n",
    "    for j in range(1, 2 * i):\n",
    "        if j == 1 or j == 2 * i -1 or i ==n:\n",
    "            print(i, end=' ')\n",
    "        else:\n",
    "            print(' ', end= ' ')\n",
    "    print()"
   ]
  },
  {
   "cell_type": "markdown",
   "id": "0f451138-02dd-405f-9476-11ab30da69c0",
   "metadata": {},
   "source": [
    "## 17. Full Star Pyramid"
   ]
  },
  {
   "cell_type": "code",
   "execution_count": 11,
   "id": "f3913942-65f0-47d0-82d3-7a402d51da85",
   "metadata": {},
   "outputs": [
    {
     "name": "stdout",
     "output_type": "stream",
     "text": [
      "        * \n",
      "      * * * \n",
      "    * * * * * \n",
      "  * * * * * * * \n",
      "* * * * * * * * * \n"
     ]
    }
   ],
   "source": [
    "n = 5\n",
    "for i in range(1, n +1):\n",
    "    for j in range(n - i):\n",
    "        print(' ', end=' ')\n",
    "    for j in range(2 * i -1):\n",
    "        print('*', end=' ')\n",
    "    print()"
   ]
  },
  {
   "cell_type": "markdown",
   "id": "c05c5636-19e2-48db-a3a4-9a58774496d0",
   "metadata": {},
   "source": [
    "## 18. Inverted Full star pyramid"
   ]
  },
  {
   "cell_type": "code",
   "execution_count": 12,
   "id": "a1ea08a1-2f41-4e1b-95b3-fd4f2195af07",
   "metadata": {},
   "outputs": [
    {
     "name": "stdout",
     "output_type": "stream",
     "text": [
      "* * * * * * * * * \n",
      "  * * * * * * * \n",
      "    * * * * * \n",
      "      * * * \n",
      "        * \n"
     ]
    }
   ],
   "source": [
    "n = 5\n",
    "for i in range(n, 0, -1):\n",
    "    for j in range(n-i):\n",
    "        print(' ', end=' ')\n",
    "    for j in range(2 * i -1):\n",
    "        print('*', end=' ')\n",
    "    print()"
   ]
  },
  {
   "cell_type": "markdown",
   "id": "68530356-4e72-40e0-bedc-8e327c872f27",
   "metadata": {},
   "source": [
    "## 19. Left Aligned Pyramid Pattern"
   ]
  },
  {
   "cell_type": "code",
   "execution_count": 17,
   "id": "5ca1ed87-485e-4e9d-a1d8-35a3cc16f02a",
   "metadata": {},
   "outputs": [
    {
     "name": "stdout",
     "output_type": "stream",
     "text": [
      "* \n",
      "* * \n",
      "* * * \n",
      "* * * * \n",
      "* * * * * \n",
      "1 \n",
      "1 2 \n",
      "1 2 3 \n",
      "1 2 3 4 \n",
      "1 2 3 4 5 \n"
     ]
    }
   ],
   "source": [
    "n = 5\n",
    "for i in range(1, n+1):\n",
    "    for j in range(i):\n",
    "        print('*', end=' ')\n",
    "    print()\n",
    "n = 5\n",
    "for i in range(1, n+1):\n",
    "    for j in range(1, i+1):\n",
    "        print(j, end=' ')\n",
    "    print()"
   ]
  },
  {
   "cell_type": "markdown",
   "id": "e9d93243-9718-43f0-812b-d5deba94171d",
   "metadata": {},
   "source": [
    "## 20. Right Aligned Pattern"
   ]
  },
  {
   "cell_type": "code",
   "execution_count": 20,
   "id": "ead5465c-5e02-441b-ae7d-00bdf4478ee2",
   "metadata": {},
   "outputs": [
    {
     "name": "stdout",
     "output_type": "stream",
     "text": [
      "        1 \n",
      "      1 2 \n",
      "    1 2 3 \n",
      "  1 2 3 4 \n",
      "1 2 3 4 5 \n",
      "        * \n",
      "      * * \n",
      "    * * * \n",
      "  * * * * \n",
      "* * * * * \n"
     ]
    }
   ],
   "source": [
    "n = 5\n",
    "for i in range(1, n+1):\n",
    "    for j in range(n -i):\n",
    "        print(' ', end=' ')\n",
    "    for j in range(1, i+1):\n",
    "        print(j, end=' ')\n",
    "    print()\n",
    "n = 5\n",
    "for i in range(1, n+1):\n",
    "    for j in range(n -i):\n",
    "        print(' ', end=' ')\n",
    "    for j in range(i):\n",
    "        print('*', end=' ')\n",
    "    print()"
   ]
  },
  {
   "cell_type": "code",
   "execution_count": null,
   "id": "9dda66d1-4846-4afe-beb3-705691ba8cb8",
   "metadata": {},
   "outputs": [],
   "source": []
  },
  {
   "cell_type": "code",
   "execution_count": null,
   "id": "43bd5f63-a1ea-456c-b62a-755d707c1426",
   "metadata": {},
   "outputs": [],
   "source": []
  },
  {
   "cell_type": "code",
   "execution_count": null,
   "id": "be8a274d-51ed-4bc5-a0f4-a02e5beaf991",
   "metadata": {},
   "outputs": [],
   "source": []
  }
 ],
 "metadata": {
  "kernelspec": {
   "display_name": "Python 3 (ipykernel)",
   "language": "python",
   "name": "python3"
  },
  "language_info": {
   "codemirror_mode": {
    "name": "ipython",
    "version": 3
   },
   "file_extension": ".py",
   "mimetype": "text/x-python",
   "name": "python",
   "nbconvert_exporter": "python",
   "pygments_lexer": "ipython3",
   "version": "3.13.5"
  }
 },
 "nbformat": 4,
 "nbformat_minor": 5
}
