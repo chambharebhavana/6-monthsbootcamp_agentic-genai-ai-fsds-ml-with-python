{
 "cells": [
  {
   "cell_type": "markdown",
   "id": "6b4e2316-b206-46ce-8f33-a30a0794c335",
   "metadata": {},
   "source": [
    "# Single line comment"
   ]
  },
  {
   "cell_type": "code",
   "execution_count": 1,
   "id": "c7edd2d6-2450-403e-bf13-b5ec0d1640b5",
   "metadata": {},
   "outputs": [
    {
     "name": "stdout",
     "output_type": "stream",
     "text": [
      "p\n",
      "1\n",
      "Hello World\n",
      "11\n",
      "I hope you are enjoying 30 days python coding camp\n"
     ]
    }
   ],
   "source": [
    "letter = 'p'\n",
    "print(letter)\n",
    "print(len(letter))\n",
    "greeting = \"Hello World\"\n",
    "print(greeting)\n",
    "print(len(greeting))\n",
    "sentence = \"I hope you are enjoying 30 days python coding camp\"\n",
    "print(sentence)"
   ]
  },
  {
   "cell_type": "markdown",
   "id": "eb3c7c0d-5a31-4344-8adf-14146d17866b",
   "metadata": {},
   "source": [
    "# Multiline String"
   ]
  },
  {
   "cell_type": "code",
   "execution_count": 3,
   "id": "abaa999c-1d4b-4ecf-9e68-2694aa5ba11b",
   "metadata": {},
   "outputs": [
    {
     "name": "stdout",
     "output_type": "stream",
     "text": [
      "I am a teacher and enjoy teaching.\n",
      "I didn't find anything as rewarding as empowering people.\n",
      "That is why I created 30 days of python.\n",
      "I am a teacher and enjoy teaching.\n",
      "I didn't find anything as rewarding as empowering people.\n",
      "That is why I created 30 days of python.\n"
     ]
    }
   ],
   "source": [
    "multiline_string = '''I am a teacher and enjoy teaching.\n",
    "I didn't find anything as rewarding as empowering people.\n",
    "That is why I created 30 days of python.'''\n",
    "print(multiline_string)\n",
    "# Another way of doing the same thing\n",
    "multiline_string = \"\"\"I am a teacher and enjoy teaching.\n",
    "I didn't find anything as rewarding as empowering people.\n",
    "That is why I created 30 days of python.\"\"\"\n",
    "print(multiline_string)"
   ]
  },
  {
   "cell_type": "markdown",
   "id": "7c8f4c50-a8ef-4ba8-9a04-fbad772a6009",
   "metadata": {},
   "source": [
    "# String Concatenation"
   ]
  },
  {
   "cell_type": "code",
   "execution_count": 4,
   "id": "b861503b-fc63-40f3-8bef-773d2648ce1f",
   "metadata": {},
   "outputs": [
    {
     "name": "stdout",
     "output_type": "stream",
     "text": [
      "Asabeneh Yetayeh\n"
     ]
    }
   ],
   "source": [
    "first_name = 'Asabeneh'\n",
    "last_name = 'Yetayeh'\n",
    "space = ' '\n",
    "full_name = first_name + space + last_name\n",
    "print(full_name)"
   ]
  },
  {
   "cell_type": "code",
   "execution_count": 5,
   "id": "0b1e14cd-6d5b-40f7-a721-a6ea072f7f53",
   "metadata": {},
   "outputs": [
    {
     "name": "stdout",
     "output_type": "stream",
     "text": [
      "8\n",
      "7\n",
      "True\n",
      "16\n"
     ]
    }
   ],
   "source": [
    "print(len(first_name))\n",
    "print(len(last_name))\n",
    "print(len(first_name) > len(last_name))\n",
    "print(len(full_name))\n",
    "\n"
   ]
  },
  {
   "cell_type": "code",
   "execution_count": 6,
   "id": "a14d228f-1c36-44d7-a9ae-6771979e3270",
   "metadata": {},
   "outputs": [],
   "source": [
    "#### Unpacking characters "
   ]
  },
  {
   "cell_type": "code",
   "execution_count": 7,
   "id": "2ac7f691-1d63-47e5-ad1d-8c4e0cb4a66a",
   "metadata": {},
   "outputs": [
    {
     "name": "stdout",
     "output_type": "stream",
     "text": [
      "P\n",
      "y\n",
      "t\n",
      "h\n",
      "o\n",
      "n\n"
     ]
    }
   ],
   "source": [
    "language = 'Python'\n",
    "a,b,c,d, e,f = language  # unpacking sequence characters into variables\n",
    "print(a)\n",
    "print(b)\n",
    "print(c)\n",
    "print(d)\n",
    "print(e)\n",
    "print(f)\n"
   ]
  },
  {
   "cell_type": "markdown",
   "id": "cea7f2cf-a485-4e33-9c98-014b4ad732a5",
   "metadata": {},
   "source": [
    "# Accessing characters in strings by index"
   ]
  },
  {
   "cell_type": "code",
   "execution_count": 8,
   "id": "a16e3312-797f-4f51-8c97-0ed239000c3c",
   "metadata": {},
   "outputs": [
    {
     "name": "stdout",
     "output_type": "stream",
     "text": [
      "P\n",
      "y\n",
      "n\n"
     ]
    }
   ],
   "source": [
    "language = 'Python'\n",
    "first_letter = language[0]\n",
    "print(first_letter)\n",
    "second_letter = language[1]\n",
    "print(second_letter)\n",
    "last_index = len(language) - 1\n",
    "last_letter = language[last_index]\n",
    "print(last_letter) # n"
   ]
  },
  {
   "cell_type": "markdown",
   "id": "90839d6a-8e96-4833-9370-5685fcfe9075",
   "metadata": {},
   "source": [
    "# If we want to start from right end we can use negative indexing. -1 is the last index"
   ]
  },
  {
   "cell_type": "code",
   "execution_count": null,
   "id": "2590f341-b6ed-4e5e-9d51-7572972396ca",
   "metadata": {},
   "outputs": [],
   "source": [
    "language = 'Python'\n",
    "last_letter = language[-1]\n",
    "print(last_letter) # n\n",
    "second_last = language[-2]\n",
    "print(second_last) # o"
   ]
  },
  {
   "cell_type": "markdown",
   "id": "ad028626-e5e2-49f8-af65-8569bff59489",
   "metadata": {},
   "source": [
    "# Slicing"
   ]
  },
  {
   "cell_type": "code",
   "execution_count": 10,
   "id": "e9f2963f-5917-44e7-b008-f310cdb7c7aa",
   "metadata": {},
   "outputs": [
    {
     "name": "stdout",
     "output_type": "stream",
     "text": [
      "hon\n",
      "hon\n",
      "hon\n"
     ]
    }
   ],
   "source": [
    "language = 'Python'\n",
    "first_three = language[0:3]\n",
    "last_three = language[3:6]\n",
    "print(last_three)\n",
    "# Another way\n",
    "last_three = language[-3:]\n",
    "print(last_three)   # hon\n",
    "last_three = language[3:]\n",
    "print(last_three)   # hon\n"
   ]
  },
  {
   "cell_type": "code",
   "execution_count": null,
   "id": "100f7ef6-c24a-47f9-88e5-7f79ba5954fe",
   "metadata": {},
   "outputs": [],
   "source": [
    "# Skipping character while splitting Python strings"
   ]
  },
  {
   "cell_type": "code",
   "execution_count": 11,
   "id": "39fd151e-d5ed-4424-827c-79c24b33bfad",
   "metadata": {},
   "outputs": [
    {
     "name": "stdout",
     "output_type": "stream",
     "text": [
      "Pto\n"
     ]
    }
   ],
   "source": [
    "language = 'Python'\n",
    "pto = language[0:6:2]\n",
    "print(pto)"
   ]
  },
  {
   "cell_type": "markdown",
   "id": "fcb370a4-30e0-4e32-848a-a96ae768c436",
   "metadata": {},
   "source": [
    "# Escape sequence"
   ]
  },
  {
   "cell_type": "code",
   "execution_count": 12,
   "id": "e8de2213-7eb4-4f24-bac9-2fca068ba4ac",
   "metadata": {},
   "outputs": [
    {
     "name": "stdout",
     "output_type": "stream",
     "text": [
      "I hope every one enjoying the python challenge.\n",
      "Do you ?\n",
      "Days\tTopics\tExercises\n",
      "Day 1\t3\t5\n",
      "Day 2\t3\t5\n",
      "Day 3\t3\t5\n",
      "Day 4\t3\t5\n",
      "This is a back slash  symbol (\\)\n",
      "In every programming language it starts with \"Hello, World!\"\n"
     ]
    }
   ],
   "source": [
    "print('I hope every one enjoying the python challenge.\\nDo you ?') # line break\n",
    "print('Days\\tTopics\\tExercises')\n",
    "print('Day 1\\t3\\t5')\n",
    "print('Day 2\\t3\\t5')\n",
    "print('Day 3\\t3\\t5')\n",
    "print('Day 4\\t3\\t5')\n",
    "print('This is a back slash  symbol (\\\\)') # To write a back slash\n",
    "print('In every programming language it starts with \\\"Hello, World!\\\"')"
   ]
  },
  {
   "cell_type": "markdown",
   "id": "398b540c-28ba-4e7c-87ce-ed8a2bc8f1b3",
   "metadata": {},
   "source": [
    "## String Methods\n",
    "# capitalize(): Converts the first character the string to Capital Letter"
   ]
  },
  {
   "cell_type": "code",
   "execution_count": 13,
   "id": "e380bd6b-d5c8-447a-8d40-d3e8792e4ea6",
   "metadata": {},
   "outputs": [
    {
     "name": "stdout",
     "output_type": "stream",
     "text": [
      "Thirty days of python\n"
     ]
    }
   ],
   "source": [
    "challenge = 'thirty days of python'\n",
    "print(challenge.capitalize())"
   ]
  },
  {
   "cell_type": "markdown",
   "id": "55022c06-10f5-4ec5-9660-8aa6c3534ee6",
   "metadata": {},
   "source": [
    "# count(): returns occurrences of substring in string, count(substring, start=.., end=..)"
   ]
  },
  {
   "cell_type": "code",
   "execution_count": 14,
   "id": "e4ab4b3a-9b8a-4f5e-9ec7-5e52a2ed799c",
   "metadata": {},
   "outputs": [
    {
     "name": "stdout",
     "output_type": "stream",
     "text": [
      "3\n",
      "1\n",
      "2\n"
     ]
    }
   ],
   "source": [
    "challenge = 'thirty days of python'\n",
    "print(challenge.count('y')) # 3print(challenge.count('y')) \n",
    "print(challenge.count('y', 7,14)) \n",
    "print(challenge.count('th')) \n"
   ]
  },
  {
   "cell_type": "markdown",
   "id": "0ad9c135-25ef-4a46-987c-8f3c75105950",
   "metadata": {},
   "source": [
    "# endswith(): Checks if a string ends with a specified ending"
   ]
  },
  {
   "cell_type": "code",
   "execution_count": 15,
   "id": "becc7621-7f24-4a22-888f-5ba7f25ce47c",
   "metadata": {},
   "outputs": [
    {
     "name": "stdout",
     "output_type": "stream",
     "text": [
      "True\n",
      "False\n"
     ]
    }
   ],
   "source": [
    "challenge = 'thirty days of python'\n",
    "print(challenge.endswith('on'))   # True\n",
    "print(challenge.endswith('tion')) # False"
   ]
  },
  {
   "cell_type": "markdown",
   "id": "5a9df4c6-9fc7-4fe3-a25f-d5c9c196e177",
   "metadata": {},
   "source": [
    "# expandtabs(): Replaces tab character with spaces, default tab size is 8. It takes tab size argument\n"
   ]
  },
  {
   "cell_type": "code",
   "execution_count": 16,
   "id": "6a499d19-6310-49ee-b1fa-e74a715ec1da",
   "metadata": {},
   "outputs": [
    {
     "name": "stdout",
     "output_type": "stream",
     "text": [
      "thirty  days    of      python\n",
      "thirty    days      of        python\n"
     ]
    }
   ],
   "source": [
    "challenge = 'thirty\\tdays\\tof\\tpython'\n",
    "print(challenge.expandtabs())   # 'thirty  days    of      python'\n",
    "print(challenge.expandtabs(10)) # 'thirty    days      of        python'"
   ]
  },
  {
   "cell_type": "markdown",
   "id": "70a2ead3-2fd1-4044-89ba-3eac105e7fad",
   "metadata": {},
   "source": [
    "# find(): Returns the index of first occurrence of substring"
   ]
  },
  {
   "cell_type": "code",
   "execution_count": 17,
   "id": "a13ea01f-f22c-4077-b939-8e4c49475bd8",
   "metadata": {},
   "outputs": [
    {
     "name": "stdout",
     "output_type": "stream",
     "text": [
      "5\n",
      "0\n"
     ]
    }
   ],
   "source": [
    "challenge = 'thirty days of python'\n",
    "print(challenge.find('y'))  # 5\n",
    "print(challenge.find('th')) # 0\n"
   ]
  },
  {
   "cell_type": "markdown",
   "id": "26caaae2-5873-405e-a119-49995c3fd21b",
   "metadata": {},
   "source": [
    "# format()\tformats string into nicer output"
   ]
  },
  {
   "cell_type": "code",
   "execution_count": 18,
   "id": "82c6b03d-884c-443e-a20b-b3a1b9b01bd2",
   "metadata": {},
   "outputs": [
    {
     "name": "stdout",
     "output_type": "stream",
     "text": [
      "I am Asabeneh Yetayeh. I am a teacher. I live in Finland.\n"
     ]
    }
   ],
   "source": [
    "first_name = 'Asabeneh'\n",
    "last_name = 'Yetayeh'\n",
    "job = 'teacher'\n",
    "country = 'Finland'\n",
    "sentence = 'I am {} {}. I am a {}. I live in {}.'.format(first_name, last_name, job, country)\n",
    "print(sentence) # I am Asabeneh Yetayeh. I am a teacher. I live in Finland."
   ]
  },
  {
   "cell_type": "code",
   "execution_count": 19,
   "id": "a4e0ae2c-6e4b-4a3f-a7e4-d8ad2c7dab10",
   "metadata": {},
   "outputs": [
    {
     "name": "stdout",
     "output_type": "stream",
     "text": [
      "The area of circle with 10 is 3.14\n"
     ]
    }
   ],
   "source": [
    "radius = 10\n",
    "pi = 3.14\n",
    "area = pi # radius ## 2\n",
    "result = 'The area of circle with {} is {}'.format(str(radius), str(area))\n",
    "print(result) # The area of circle with 10 is 314.0\n"
   ]
  },
  {
   "cell_type": "code",
   "execution_count": null,
   "id": "f2c90ecf-9ac8-4950-83f8-6b9ed1da6be1",
   "metadata": {},
   "outputs": [],
   "source": [
    "challenge = 'thirty days of python'\n",
    "print(challenge.find('y'))  # 5\n",
    "print(challenge.find('th')) # 0"
   ]
  },
  {
   "cell_type": "markdown",
   "id": "dffbd6c1-d435-47c3-bded-fbca89156d08",
   "metadata": {},
   "source": [
    "# index(): Returns the index of substring"
   ]
  },
  {
   "cell_type": "code",
   "execution_count": 1,
   "id": "9c1c67f1-b93f-4665-881d-a6b2aab19f36",
   "metadata": {},
   "outputs": [
    {
     "name": "stdout",
     "output_type": "stream",
     "text": [
      "5\n",
      "0\n"
     ]
    }
   ],
   "source": [
    "challenge = 'thirty days of python'\n",
    "print(challenge.find('y'))  # 5\n",
    "print(challenge.find('th')) # 0\n"
   ]
  },
  {
   "cell_type": "markdown",
   "id": "9bf7794d-d9e5-4cab-b61c-c65337efaca4",
   "metadata": {},
   "source": [
    "# isalnum(): Checks alphanumeric character"
   ]
  },
  {
   "cell_type": "code",
   "execution_count": 2,
   "id": "6ee6dc86-e3e3-4d3a-86bd-f7e89417f219",
   "metadata": {},
   "outputs": [
    {
     "name": "stdout",
     "output_type": "stream",
     "text": [
      "True\n"
     ]
    }
   ],
   "source": [
    "challenge = 'ThirtyDaysPython'\n",
    "print(challenge.isalnum()) # True\n"
   ]
  },
  {
   "cell_type": "code",
   "execution_count": 3,
   "id": "bcf944dc-d015-4c2d-afeb-eeaaa48f1820",
   "metadata": {},
   "outputs": [
    {
     "name": "stdout",
     "output_type": "stream",
     "text": [
      "False\n"
     ]
    }
   ],
   "source": [
    "challenge = 'thirty days of python'\n",
    "print(challenge.isalnum()) # False"
   ]
  },
  {
   "cell_type": "code",
   "execution_count": 4,
   "id": "ec1546c7-ab53-4da6-bd00-4803078afa5e",
   "metadata": {},
   "outputs": [
    {
     "name": "stdout",
     "output_type": "stream",
     "text": [
      "False\n"
     ]
    }
   ],
   "source": [
    "challenge = 'thirty days of python 2019'\n",
    "print(challenge.isalnum()) # False"
   ]
  },
  {
   "cell_type": "markdown",
   "id": "2ae65b46-ce61-4ba2-9018-af9cd49a34fe",
   "metadata": {},
   "source": [
    "# isalpha(): Checks if all characters are alphabets"
   ]
  },
  {
   "cell_type": "code",
   "execution_count": 8,
   "id": "3c24ba79-894f-4167-b5ff-1f97365e20f7",
   "metadata": {},
   "outputs": [
    {
     "name": "stdout",
     "output_type": "stream",
     "text": [
      "False\n",
      "False\n"
     ]
    }
   ],
   "source": [
    "challenge = 'thirty days of python'\n",
    "print(challenge.isalpha()) # True\n",
    "num = '123'\n",
    "print(num.isalpha())      # False\n"
   ]
  },
  {
   "cell_type": "markdown",
   "id": "a126341e-9371-4cb1-ae67-12432ceba0cd",
   "metadata": {},
   "source": [
    "# isdecimal(): Checks Decimal Characters\n"
   ]
  },
  {
   "cell_type": "code",
   "execution_count": 10,
   "id": "6f9e2473-cde8-456a-ad33-e61b446053b6",
   "metadata": {},
   "outputs": [
    {
     "name": "stdout",
     "output_type": "stream",
     "text": [
      "True\n",
      "False\n"
     ]
    }
   ],
   "source": [
    "num = '10'\n",
    "print(num.isdecimal()) # True\n",
    "num = '10.5'\n",
    "print(num.isdecimal()) # False\n"
   ]
  },
  {
   "cell_type": "markdown",
   "id": "a58c0c17-17d0-4153-a15d-40ee7cbec760",
   "metadata": {},
   "source": [
    "# isdigit(): Checks Digit Characters"
   ]
  },
  {
   "cell_type": "code",
   "execution_count": null,
   "id": "5c0492c1-b5c7-48e6-b318-a37c4c9da36f",
   "metadata": {},
   "outputs": [],
   "source": [
    "challenge = 'Thirty'\n",
    "print(challenge.isdigit()) # False\n",
    "challenge = '30'\n",
    "print(challenge.digit())   "
   ]
  },
  {
   "cell_type": "markdown",
   "id": "75a988dd-b655-4feb-8293-035d43f40d11",
   "metadata": {},
   "source": [
    "# isidentifier():Checks for valid identifier means it check if a string is a valid variable name\n"
   ]
  },
  {
   "cell_type": "code",
   "execution_count": 11,
   "id": "c4656268-e131-4b14-858b-b3a57f377e90",
   "metadata": {},
   "outputs": [
    {
     "name": "stdout",
     "output_type": "stream",
     "text": [
      "False\n",
      "True\n"
     ]
    }
   ],
   "source": [
    "challenge = '30DaysOfPython'\n",
    "print(challenge.isidentifier()) # False, because it starts with a number\n",
    "challenge = 'thirty_days_of_python'\n",
    "print(challenge.isidentifier()) # True"
   ]
  },
  {
   "cell_type": "markdown",
   "id": "afd26801-f300-4dc2-8456-14fee43e2d1f",
   "metadata": {},
   "source": [
    "## islower():Checks if all alphabets in a string are lowercase"
   ]
  },
  {
   "cell_type": "code",
   "execution_count": 12,
   "id": "beb9589f-0975-4602-ba36-b55bbfbef0b1",
   "metadata": {},
   "outputs": [
    {
     "name": "stdout",
     "output_type": "stream",
     "text": [
      "True\n",
      "False\n"
     ]
    }
   ],
   "source": [
    "challenge = 'thirty days of python'\n",
    "print(challenge.islower()) # True\n",
    "challenge = 'Thirty days of python'\n",
    "print(challenge.islower()) # False"
   ]
  },
  {
   "cell_type": "code",
   "execution_count": null,
   "id": "7e8e60d8-d15b-433c-af99-00a5f4dbde66",
   "metadata": {},
   "outputs": [],
   "source": []
  },
  {
   "cell_type": "markdown",
   "id": "d8b74bef-cfb0-4392-afdf-73c9104f03c3",
   "metadata": {},
   "source": [
    "## isupper(): returns if all characters are uppercase characters\n"
   ]
  },
  {
   "cell_type": "code",
   "execution_count": null,
   "id": "0ec3ded5-859d-4029-83c2-02f697a89f6c",
   "metadata": {},
   "outputs": [],
   "source": [
    "challenge = 'thirty days of python'\n",
    "print(challenge.isupper()) #  False\n",
    "challenge = 'THIRTY DAYS OF PYTHON'\n",
    "print(challenge.isupper()) # True"
   ]
  },
  {
   "cell_type": "markdown",
   "id": "974df383-64d7-44e7-904c-bfc3f8136333",
   "metadata": {},
   "source": [
    "## isnumeric():Checks numeric characters"
   ]
  },
  {
   "cell_type": "code",
   "execution_count": 14,
   "id": "b1ddfdfd-1d81-4ef8-9bb1-976f4c4c8cc6",
   "metadata": {},
   "outputs": [
    {
     "name": "stdout",
     "output_type": "stream",
     "text": [
      "True\n",
      "False\n"
     ]
    }
   ],
   "source": [
    "num = '10'\n",
    "print(num.isnumeric())      # True\n",
    "print('ten'.isnumeric())    # False\n"
   ]
  },
  {
   "cell_type": "markdown",
   "id": "cae38c2a-64c2-42a9-86c9-fc7ccdf3bd69",
   "metadata": {},
   "source": [
    "# isnumeric():Checks numeric characters"
   ]
  },
  {
   "cell_type": "code",
   "execution_count": 3,
   "id": "65390392-44ba-4b05-a20a-b4b228da656e",
   "metadata": {},
   "outputs": [
    {
     "name": "stdout",
     "output_type": "stream",
     "text": [
      "True\n",
      "False\n"
     ]
    }
   ],
   "source": [
    "num = '10'\n",
    "print(num.isnumeric())  #true\n",
    "print('ten'.isnumeric())  #false"
   ]
  },
  {
   "cell_type": "markdown",
   "id": "f47cb841-119b-440f-9f7e-d3afa8e0b723",
   "metadata": {},
   "source": [
    "# join(): Returns a concatenated string\n"
   ]
  },
  {
   "cell_type": "code",
   "execution_count": 4,
   "id": "3b9c257b-413d-484d-b2d7-78683d421579",
   "metadata": {},
   "outputs": [
    {
     "name": "stdout",
     "output_type": "stream",
     "text": [
      "HTML#,CSS#,JavaScript#,React\n"
     ]
    }
   ],
   "source": [
    "web_tech = ['HTML','CSS', 'JavaScript', 'React']\n",
    "result = '#,'.join(web_tech)\n",
    "print(result)\n"
   ]
  },
  {
   "cell_type": "markdown",
   "id": "5cffe996-227c-438a-9e81-6ab2e46a9d51",
   "metadata": {},
   "source": [
    "# strip(): Removes both leading and trailing characters"
   ]
  },
  {
   "cell_type": "code",
   "execution_count": 8,
   "id": "f56c4175-a8e7-4ad9-a81a-c26dc079e2f4",
   "metadata": {},
   "outputs": [
    {
     "name": "stdout",
     "output_type": "stream",
     "text": [
      " thirty days of python \n"
     ]
    }
   ],
   "source": [
    "challenge = ' thirty days of python '\n",
    "print(challenge.strip('y'))"
   ]
  },
  {
   "cell_type": "markdown",
   "id": "e75af8e6-c952-4500-bf32-b6c13a45f0f1",
   "metadata": {},
   "source": [
    "# replace(): Replaces substring inside"
   ]
  },
  {
   "cell_type": "code",
   "execution_count": 10,
   "id": "8d4bd80e-cc6f-4ba9-8dc9-a17d2f86e283",
   "metadata": {},
   "outputs": [
    {
     "name": "stdout",
     "output_type": "stream",
     "text": [
      "thirty days of coding\n"
     ]
    }
   ],
   "source": [
    "challenge = 'thirty days of python'\n",
    "print(challenge.replace('python', 'coding'))"
   ]
  },
  {
   "cell_type": "markdown",
   "id": "eba9f3e5-4b85-487d-a639-519e599f2957",
   "metadata": {},
   "source": [
    "# split():Splits String from Left"
   ]
  },
  {
   "cell_type": "code",
   "execution_count": 12,
   "id": "a500a2ee-6f66-47ec-a1dd-63f2d0c7dd41",
   "metadata": {},
   "outputs": [
    {
     "name": "stdout",
     "output_type": "stream",
     "text": [
      "['thirty', 'days', 'of', 'python']\n"
     ]
    }
   ],
   "source": [
    "challenge = 'thirty days of python'\n",
    "print(challenge.split())"
   ]
  },
  {
   "cell_type": "markdown",
   "id": "92045788-64ab-474d-88d1-b4caadccc5aa",
   "metadata": {},
   "source": [
    "# title(): Returns a Title Cased String"
   ]
  },
  {
   "cell_type": "code",
   "execution_count": 13,
   "id": "45dfd0dd-4b06-4751-90b0-f2560f63a331",
   "metadata": {},
   "outputs": [
    {
     "name": "stdout",
     "output_type": "stream",
     "text": [
      "Thirty Days Of Python\n"
     ]
    }
   ],
   "source": [
    "challenge = 'thirty days of python'\n",
    "print(challenge.title())"
   ]
  },
  {
   "cell_type": "markdown",
   "id": "cff19f24-0309-4b7b-9213-4443e22e911b",
   "metadata": {},
   "source": [
    "# swapcase(): Checks if String Starts with the Specified String"
   ]
  },
  {
   "cell_type": "code",
   "execution_count": 14,
   "id": "c1d78d9f-d4ce-4277-ba22-3620a0dd967c",
   "metadata": {},
   "outputs": [
    {
     "name": "stdout",
     "output_type": "stream",
     "text": [
      "THIRTY DAYS OF PYTHON\n"
     ]
    }
   ],
   "source": [
    "challenge = 'thirty days of python'\n",
    "print(challenge.swapcase())"
   ]
  },
  {
   "cell_type": "code",
   "execution_count": null,
   "id": "860b6e1f-d54a-4031-94ff-ead24de53296",
   "metadata": {},
   "outputs": [],
   "source": []
  },
  {
   "cell_type": "code",
   "execution_count": null,
   "id": "94da3662-3474-4dd1-b307-6c95c9b81b12",
   "metadata": {},
   "outputs": [],
   "source": []
  },
  {
   "cell_type": "code",
   "execution_count": null,
   "id": "9f551832-a562-4889-846a-8f9b38302ce9",
   "metadata": {},
   "outputs": [],
   "source": []
  }
 ],
 "metadata": {
  "kernelspec": {
   "display_name": "Python 3 (ipykernel)",
   "language": "python",
   "name": "python3"
  },
  "language_info": {
   "codemirror_mode": {
    "name": "ipython",
    "version": 3
   },
   "file_extension": ".py",
   "mimetype": "text/x-python",
   "name": "python",
   "nbconvert_exporter": "python",
   "pygments_lexer": "ipython3",
   "version": "3.13.5"
  }
 },
 "nbformat": 4,
 "nbformat_minor": 5
}
