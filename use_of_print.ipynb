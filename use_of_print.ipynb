{
 "cells": [
  {
   "cell_type": "code",
   "execution_count": 1,
   "id": "6e2ca290-24e5-4b9a-9f77-7d6c267c952e",
   "metadata": {},
   "outputs": [],
   "source": [
    "# print is use for answer"
   ]
  },
  {
   "cell_type": "code",
   "execution_count": 2,
   "id": "01f9253e-f322-431d-9369-96431c490f43",
   "metadata": {},
   "outputs": [
    {
     "data": {
      "text/plain": [
       "20"
      ]
     },
     "execution_count": 2,
     "metadata": {},
     "output_type": "execute_result"
    }
   ],
   "source": [
    "a =  10\n",
    "b = 20\n",
    "a\n",
    "b"
   ]
  },
  {
   "cell_type": "code",
   "execution_count": 3,
   "id": "06c1d2ac-7102-4c8d-9de9-64d7b4f02d7f",
   "metadata": {},
   "outputs": [
    {
     "name": "stdout",
     "output_type": "stream",
     "text": [
      "10\n",
      "20\n"
     ]
    }
   ],
   "source": [
    "a =  10\n",
    "b = 20\n",
    "print(a)\n",
    "print(b)"
   ]
  },
  {
   "cell_type": "code",
   "execution_count": 4,
   "id": "c6e81abe-1c47-407f-aae0-69716bf79bdd",
   "metadata": {},
   "outputs": [
    {
     "name": "stdout",
     "output_type": "stream",
     "text": [
      "10\n",
      "10 20\n",
      "python\n",
      "10 20 python\n"
     ]
    }
   ],
   "source": [
    "print(10)\n",
    "print(10,20) \n",
    "print('python') \n",
    "print(10,20,'python')"
   ]
  },
  {
   "cell_type": "code",
   "execution_count": 5,
   "id": "94ea583c-54f0-4bd7-a788-374e8394417b",
   "metadata": {},
   "outputs": [
    {
     "name": "stdout",
     "output_type": "stream",
     "text": [
      "30\n"
     ]
    }
   ],
   "source": [
    "num1 = 10\n",
    "num2 = 20\n",
    "add = num1 + num2\n",
    "print(add)"
   ]
  },
  {
   "cell_type": "markdown",
   "id": "97842af6-0807-4bae-9b69-4d7ed0295d95",
   "metadata": {},
   "source": [
    "# print result with string"
   ]
  },
  {
   "cell_type": "code",
   "execution_count": 7,
   "id": "01073d18-b1ce-441f-96ef-d033181a639e",
   "metadata": {},
   "outputs": [
    {
     "name": "stdout",
     "output_type": "stream",
     "text": [
      "The addition of  20 and 30 is = 50\n"
     ]
    }
   ],
   "source": [
    "num1 = 20\n",
    "num2 = 30\n",
    "add = num1 + num2\n",
    "print('The addition of ',num1 ,'and', num2, 'is =', add) "
   ]
  },
  {
   "cell_type": "code",
   "execution_count": 9,
   "id": "40924e47-d14e-4cc8-986f-14d8800f30cc",
   "metadata": {},
   "outputs": [
    {
     "name": "stdout",
     "output_type": "stream",
     "text": [
      "My name is Python and i am 20 years old form hyd\n"
     ]
    }
   ],
   "source": [
    "name = 'Python'\n",
    "age =  20\n",
    "city = 'hyd'\n",
    "print('My name is',name,'and i am',age,'years old form',city)"
   ]
  },
  {
   "cell_type": "code",
   "execution_count": 11,
   "id": "852d84b1-5c24-4399-bcc0-775135156fad",
   "metadata": {},
   "outputs": [
    {
     "name": "stdout",
     "output_type": "stream",
     "text": [
      "The addition of 20 and 30 is 50\n"
     ]
    }
   ],
   "source": [
    "um1 = 20\n",
    "num2 = 30\n",
    "add = num1 + num2\n",
    "print('The addition of {} and {} is {}'.format(num1,num2,add))"
   ]
  },
  {
   "cell_type": "code",
   "execution_count": 12,
   "id": "e6a8e02c-82ba-418c-a8a5-a60ce6d863fc",
   "metadata": {},
   "outputs": [],
   "source": [
    "name='Python' \n",
    "age=20 \n",
    "city='hyd'"
   ]
  },
  {
   "cell_type": "code",
   "execution_count": 14,
   "id": "99094ed1-89cb-4fc4-bf36-8d11e9b6acd3",
   "metadata": {},
   "outputs": [
    {
     "name": "stdout",
     "output_type": "stream",
     "text": [
      "My name is Python and I am 20 years old and I live in hyd.\n"
     ]
    }
   ],
   "source": [
    "print('My name is {} and I am {} years old and I live in {}.'.format(name, age, city))"
   ]
  },
  {
   "cell_type": "code",
   "execution_count": 15,
   "id": "339621cf-08f0-4091-8478-ba585b566de8",
   "metadata": {},
   "outputs": [
    {
     "name": "stdout",
     "output_type": "stream",
     "text": [
      "The avrage of 100, 25, and 333 is= 152.66666666666666 or 152.67\n"
     ]
    }
   ],
   "source": [
    "num1=100 \n",
    "num2=25 \n",
    "num3=333 \n",
    "avg=(num1+num2+num3)/3 # or we can use avg=round(num1+num2+num3)/3,2) \n",
    "avg1=round((num1+num2+num3)/3,2) \n",
    "\n",
    "print('The avrage of {}, {}, and {} is= {} or {}'.format(num1,num2,num3, \n",
    "avg,avg1))"
   ]
  },
  {
   "cell_type": "code",
   "execution_count": 17,
   "id": "7f8d521f-c982-4310-9cc3-8d5324ed404c",
   "metadata": {},
   "outputs": [
    {
     "data": {
      "text/plain": [
       "152.67"
      ]
     },
     "execution_count": 17,
     "metadata": {},
     "output_type": "execute_result"
    }
   ],
   "source": [
    "round(avg,2)"
   ]
  },
  {
   "cell_type": "code",
   "execution_count": 18,
   "id": "cfbea90a-e05a-4c69-b655-aa3b1b55d3e4",
   "metadata": {},
   "outputs": [
    {
     "name": "stdout",
     "output_type": "stream",
     "text": [
      "The addition of 20 and 30 is 50.\n"
     ]
    }
   ],
   "source": [
    "num1 = 20\n",
    "num2 = 30\n",
    "add = num1 + num2\n",
    "print(f'The addition of {num1} and {num2} is {add}.')"
   ]
  },
  {
   "cell_type": "code",
   "execution_count": 20,
   "id": "6196dd08-78c4-42eb-bca1-4d31827c6d31",
   "metadata": {},
   "outputs": [
    {
     "name": "stdout",
     "output_type": "stream",
     "text": [
      "My name is Python and I am 20 years old and I live in hyd.\n"
     ]
    }
   ],
   "source": [
    "name='Python' \n",
    "age=20 \n",
    "city='hyd' \n",
    "print(f'My name is {name} and I am {age} years old and I live in {city}.')"
   ]
  },
  {
   "cell_type": "code",
   "execution_count": 21,
   "id": "b48e51e4-295b-4dc2-9847-f664395913fb",
   "metadata": {},
   "outputs": [
    {
     "name": "stdout",
     "output_type": "stream",
     "text": [
      "The avrage of 100, 25 and 333 is = 152.67\n"
     ]
    }
   ],
   "source": [
    "num1=100 \n",
    "num2=25 \n",
    "num3=333 \n",
    "avg=round((num1+num2+num3)/3,2)\n",
    "print(f'The avrage of {num1}, {num2} and {num3} is = {avg}')"
   ]
  },
  {
   "cell_type": "code",
   "execution_count": 22,
   "id": "1af80833-9975-4543-8324-41c474fd4177",
   "metadata": {},
   "outputs": [
    {
     "name": "stdout",
     "output_type": "stream",
     "text": [
      "The addition of 10 and 20 is= 30\n",
      "The addition of 10 and 20 is= 30\n",
      "The addition of 10 and 20 is= 30\n"
     ]
    }
   ],
   "source": [
    "num1=10 \n",
    "num2=20 \n",
    "add = num1+ num2 \n",
    "print('The addition of',num1,'and',num2,'is=',add) \n",
    "print('The addition of {} and {} is= {}'.format(num1,num2,add)) \n",
    "print(f'The addition of {num1} and {num2} is= {add}')"
   ]
  },
  {
   "cell_type": "markdown",
   "id": "e65557b3-cbb0-4419-bfb0-5332adf61e84",
   "metadata": {},
   "source": [
    "# end statement"
   ]
  },
  {
   "cell_type": "code",
   "execution_count": 23,
   "id": "aad5e4f5-9c6f-47f7-8802-5addd348f162",
   "metadata": {},
   "outputs": [
    {
     "name": "stdout",
     "output_type": "stream",
     "text": [
      "hello\n",
      "good morning\n"
     ]
    }
   ],
   "source": [
    "print('hello')\n",
    "print('good morning')"
   ]
  },
  {
   "cell_type": "code",
   "execution_count": null,
   "id": "7728a5d1-5399-4793-b616-f02be65d4a52",
   "metadata": {},
   "outputs": [],
   "source": [
    "# end statement that joint line from end of one string to starting of other string\n"
   ]
  },
  {
   "cell_type": "code",
   "execution_count": 24,
   "id": "02e32dae-853b-44fd-bd9b-1d6750e73b63",
   "metadata": {},
   "outputs": [
    {
     "name": "stdout",
     "output_type": "stream",
     "text": [
      "hello good morning\n"
     ]
    }
   ],
   "source": [
    "print('hello' , end = ' ')\n",
    "print('good morning')"
   ]
  },
  {
   "cell_type": "markdown",
   "id": "96198e7f-bffd-4731-8098-6caeb4419265",
   "metadata": {},
   "source": [
    "# Separator\n"
   ]
  },
  {
   "cell_type": "code",
   "execution_count": 25,
   "id": "3bd3df2b-2791-4e6f-9b8e-39a14e30f5e4",
   "metadata": {},
   "outputs": [
    {
     "name": "stdout",
     "output_type": "stream",
     "text": [
      "hello--->hai--->how are you\n"
     ]
    }
   ],
   "source": [
    "print('hello','hai','how are you',sep='--->') "
   ]
  },
  {
   "cell_type": "code",
   "execution_count": 26,
   "id": "08477f0d-06d0-4c9b-9c60-e404c25e9065",
   "metadata": {},
   "outputs": [
    {
     "name": "stdout",
     "output_type": "stream",
     "text": [
      "hello&hai&how are you\n"
     ]
    }
   ],
   "source": [
    "print('hello','hai','how are you',sep='&') "
   ]
  },
  {
   "cell_type": "code",
   "execution_count": 27,
   "id": "067b560b-918e-4cc2-841f-a9ab4ae04959",
   "metadata": {},
   "outputs": [
    {
     "name": "stdout",
     "output_type": "stream",
     "text": [
      "hello@hai@how are you\n"
     ]
    }
   ],
   "source": [
    "print('hello','hai','how are you',sep='@') "
   ]
  },
  {
   "cell_type": "code",
   "execution_count": 28,
   "id": "5140ad8e-a659-41af-8418-d53a25e32805",
   "metadata": {},
   "outputs": [
    {
     "name": "stdout",
     "output_type": "stream",
     "text": [
      "hello hai how are you\n"
     ]
    }
   ],
   "source": [
    "print('hello','hai','how are you',sep=' ') "
   ]
  },
  {
   "cell_type": "code",
   "execution_count": 29,
   "id": "bf7b4389-ff89-495b-be0f-7306cba4e2f2",
   "metadata": {},
   "outputs": [
    {
     "name": "stdout",
     "output_type": "stream",
     "text": [
      "3 .\n"
     ]
    }
   ],
   "source": [
    "print(3,'.') # . is far from 3 so here we will use sep method \n"
   ]
  },
  {
   "cell_type": "code",
   "execution_count": 30,
   "id": "a84bb365-df1e-4071-adc6-a0ed4e59fd27",
   "metadata": {},
   "outputs": [
    {
     "name": "stdout",
     "output_type": "stream",
     "text": [
      "3.\n"
     ]
    }
   ],
   "source": [
    "print(3,'.',sep='') "
   ]
  },
  {
   "cell_type": "code",
   "execution_count": 31,
   "id": "06980105-cc6f-4aaa-9501-948e27af945a",
   "metadata": {},
   "outputs": [
    {
     "name": "stdout",
     "output_type": "stream",
     "text": [
      "1 2 3.\n"
     ]
    }
   ],
   "source": [
    "print(1,2,end=' ') \n",
    "print(3,'.',sep='') "
   ]
  },
  {
   "cell_type": "code",
   "execution_count": null,
   "id": "cbf85378-c1f4-4432-ad3c-89ac0c10b20d",
   "metadata": {},
   "outputs": [],
   "source": []
  }
 ],
 "metadata": {
  "kernelspec": {
   "display_name": "Python 3 (ipykernel)",
   "language": "python",
   "name": "python3"
  },
  "language_info": {
   "codemirror_mode": {
    "name": "ipython",
    "version": 3
   },
   "file_extension": ".py",
   "mimetype": "text/x-python",
   "name": "python",
   "nbconvert_exporter": "python",
   "pygments_lexer": "ipython3",
   "version": "3.13.5"
  }
 },
 "nbformat": 4,
 "nbformat_minor": 5
}
